{
 "cells": [
  {
   "cell_type": "code",
   "execution_count": 16,
   "metadata": {},
   "outputs": [],
   "source": [
    "from utils.df_processor import DfProcessor\n",
    "from utils.config import *\n",
    "from IPython.display import display\n",
    "import os\n",
    "saving_dir= 'D:\\\\CodeRepositories\\\\py_project\\\\data_mining\\\\DataMiningMid_Classification\\\\data'"
   ]
  },
  {
   "cell_type": "markdown",
   "metadata": {},
   "source": [
    "### Create Dataframe"
   ]
  },
  {
   "cell_type": "code",
   "execution_count": 4,
   "metadata": {},
   "outputs": [],
   "source": [
    "df_p= DfProcessor(i_data_dir=I_DATA_DIR, s_data_dir=S_DATA_DIR)\n",
    "df_p.df_filt(1000)"
   ]
  },
  {
   "cell_type": "code",
   "execution_count": 19,
   "metadata": {},
   "outputs": [],
   "source": [
    "df_p.i_df.to_csv(os.path.join(saving_dir, 'i_s_ask_ans.txt'), mode='a', columns=['ask'], index=False, header=False)\n",
    "df_p.i_df.to_csv(os.path.join(saving_dir, 'i_s_ask_ans.txt'), mode='a', columns=['answer'], index=False, header=False)\n",
    "df_p.s_df.to_csv(os.path.join(saving_dir, 'i_s_ask_ans.txt'), mode='a', columns=['ask'], index=False, header=False)\n",
    "df_p.s_df.to_csv(os.path.join(saving_dir, 'i_s_ask_ans.txt'), mode='a', columns=['answer'], index=False, header=False)"
   ]
  },
  {
   "cell_type": "code",
   "execution_count": null,
   "metadata": {},
   "outputs": [],
   "source": []
  },
  {
   "cell_type": "code",
   "execution_count": 8,
   "metadata": {},
   "outputs": [
    {
     "data": {
      "text/html": [
       "<div>\n",
       "<style scoped>\n",
       "    .dataframe tbody tr th:only-of-type {\n",
       "        vertical-align: middle;\n",
       "    }\n",
       "\n",
       "    .dataframe tbody tr th {\n",
       "        vertical-align: top;\n",
       "    }\n",
       "\n",
       "    .dataframe thead th {\n",
       "        text-align: right;\n",
       "    }\n",
       "</style>\n",
       "<table border=\"1\" class=\"dataframe\">\n",
       "  <thead>\n",
       "    <tr style=\"text-align: right;\">\n",
       "      <th></th>\n",
       "      <th>department</th>\n",
       "      <th>title</th>\n",
       "      <th>ask</th>\n",
       "      <th>answer</th>\n",
       "    </tr>\n",
       "  </thead>\n",
       "  <tbody>\n",
       "    <tr>\n",
       "      <th>0</th>\n",
       "      <td>心血管科</td>\n",
       "      <td>高血压患者能吃党参吗？</td>\n",
       "      <td>我有高血压这两天女婿来的时候给我拿了些党参泡水喝，您好高血压可以吃党参吗？</td>\n",
       "      <td>高血压病人可以口服党参的。党参有降血脂，降血压的作用，可以彻底消除血液中的垃圾，从而对冠心病...</td>\n",
       "    </tr>\n",
       "    <tr>\n",
       "      <th>1</th>\n",
       "      <td>心血管科</td>\n",
       "      <td>高血压该治疗什么？</td>\n",
       "      <td>我是一位中学教师，平时身体健康，最近学校组织健康检查，结果发觉我是高血压，去年还没有这种情况...</td>\n",
       "      <td>高血压患者首先要注意控制食盐摄入量，每天不超过六克，注意不要吃太油腻的食物，多吃新鲜的绿色蔬...</td>\n",
       "    </tr>\n",
       "    <tr>\n",
       "      <th>2</th>\n",
       "      <td>心血管科</td>\n",
       "      <td>老年人高血压一般如何治疗？</td>\n",
       "      <td>我爷爷今年68了，年纪大了，高血压这些也领着来了，这些病让老人很痛苦，每次都要按时喝药，才能...</td>\n",
       "      <td>你爷爷患高血压，这是老年人常见的心血管病，血管老化硬化，血压调整能力消退了，目前治疗高血压最...</td>\n",
       "    </tr>\n",
       "    <tr>\n",
       "      <th>3</th>\n",
       "      <td>内分泌科</td>\n",
       "      <td>糖尿病还会进行遗传吗？</td>\n",
       "      <td>糖尿病有隔代遗传吗？我妈是糖尿病，很多年了，也没养好，我现在也是，我妹子也是，我儿子现在二十...</td>\n",
       "      <td>2型糖尿病的隔代遗传概率为父母患糖尿病，临产的发生率为40%，比一般人患糖尿病，疾病，如何更...</td>\n",
       "    </tr>\n",
       "    <tr>\n",
       "      <th>4</th>\n",
       "      <td>内分泌科</td>\n",
       "      <td>糖尿病一般需要怎么治疗？</td>\n",
       "      <td>我妈定期检查仔细检查的时候，仔细检查出患糖尿病，糖尿病需要有怎么治疗？我大概知晓是需要有控制...</td>\n",
       "      <td>糖尿病患者首先通过饮食控制和锻练运动，肥胖患者把体重降下来等方式调整一下看一看，如果血糖仍然...</td>\n",
       "    </tr>\n",
       "  </tbody>\n",
       "</table>\n",
       "</div>"
      ],
      "text/plain": [
       "  department          title  \\\n",
       "0       心血管科    高血压患者能吃党参吗？   \n",
       "1       心血管科      高血压该治疗什么？   \n",
       "2       心血管科  老年人高血压一般如何治疗？   \n",
       "3       内分泌科    糖尿病还会进行遗传吗？   \n",
       "4       内分泌科   糖尿病一般需要怎么治疗？   \n",
       "\n",
       "                                                 ask  \\\n",
       "0              我有高血压这两天女婿来的时候给我拿了些党参泡水喝，您好高血压可以吃党参吗？   \n",
       "1  我是一位中学教师，平时身体健康，最近学校组织健康检查，结果发觉我是高血压，去年还没有这种情况...   \n",
       "2  我爷爷今年68了，年纪大了，高血压这些也领着来了，这些病让老人很痛苦，每次都要按时喝药，才能...   \n",
       "3  糖尿病有隔代遗传吗？我妈是糖尿病，很多年了，也没养好，我现在也是，我妹子也是，我儿子现在二十...   \n",
       "4  我妈定期检查仔细检查的时候，仔细检查出患糖尿病，糖尿病需要有怎么治疗？我大概知晓是需要有控制...   \n",
       "\n",
       "                                              answer  \n",
       "0  高血压病人可以口服党参的。党参有降血脂，降血压的作用，可以彻底消除血液中的垃圾，从而对冠心病...  \n",
       "1  高血压患者首先要注意控制食盐摄入量，每天不超过六克，注意不要吃太油腻的食物，多吃新鲜的绿色蔬...  \n",
       "2  你爷爷患高血压，这是老年人常见的心血管病，血管老化硬化，血压调整能力消退了，目前治疗高血压最...  \n",
       "3  2型糖尿病的隔代遗传概率为父母患糖尿病，临产的发生率为40%，比一般人患糖尿病，疾病，如何更...  \n",
       "4  糖尿病患者首先通过饮食控制和锻练运动，肥胖患者把体重降下来等方式调整一下看一看，如果血糖仍然...  "
      ]
     },
     "metadata": {},
     "output_type": "display_data"
    }
   ],
   "source": [
    "display(df_p.i_df.head())"
   ]
  },
  {
   "cell_type": "markdown",
   "metadata": {},
   "source": [
    "### Main Method"
   ]
  },
  {
   "cell_type": "code",
   "execution_count": null,
   "metadata": {},
   "outputs": [],
   "source": []
  },
  {
   "cell_type": "markdown",
   "metadata": {},
   "source": []
  }
 ],
 "metadata": {
  "interpreter": {
   "hash": "fa89559b8019c6b8d86cbf7b237623aaefbbcd820bdcd84fbfac8728b8f219a1"
  },
  "kernelspec": {
   "display_name": "Python 3.8.12 ('nursing-env')",
   "language": "python",
   "name": "python3"
  },
  "language_info": {
   "codemirror_mode": {
    "name": "ipython",
    "version": 3
   },
   "file_extension": ".py",
   "mimetype": "text/x-python",
   "name": "python",
   "nbconvert_exporter": "python",
   "pygments_lexer": "ipython3",
   "version": "3.8.12"
  },
  "orig_nbformat": 4
 },
 "nbformat": 4,
 "nbformat_minor": 2
}
