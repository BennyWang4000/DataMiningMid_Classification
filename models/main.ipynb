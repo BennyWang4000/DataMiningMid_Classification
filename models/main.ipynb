{
 "cells": [
  {
   "cell_type": "code",
   "execution_count": 1,
   "metadata": {},
   "outputs": [],
   "source": [
    "from utils.config import *\n",
    "import utils.df_processor as dfp\n",
    "import utils.word_segment as ws\n",
    "from IPython.display import display\n",
    "from sklearn.model_selection import train_test_split\n",
    "\n",
    "import pandas as pd\n",
    "import os"
   ]
  },
  {
   "cell_type": "markdown",
   "metadata": {},
   "source": [
    "### Create Dataframe"
   ]
  },
  {
   "cell_type": "code",
   "execution_count": null,
   "metadata": {},
   "outputs": [],
   "source": [
    "df_i = pd.read_csv(I_DATA_PATH, encoding=ENCODING)\n",
    "df_s = pd.read_csv(S_DATA_PATH, encoding=ENCODING)\n",
    "df_i.insert(0, 'category', '內科')\n",
    "df_s.insert(0, 'category', '外科')\n"
   ]
  },
  {
   "cell_type": "code",
   "execution_count": null,
   "metadata": {},
   "outputs": [],
   "source": [
    "display(df_i['department'].value_counts())\n",
    "display(df_s['department'].value_counts())"
   ]
  },
  {
   "cell_type": "code",
   "execution_count": null,
   "metadata": {},
   "outputs": [],
   "source": [
    "df = pd.concat([df_i, df_s], ignore_index=True)\n",
    "df.insert(0, 'cat_dep', df['category']+df['department'])\n",
    "print(df.head())"
   ]
  },
  {
   "cell_type": "markdown",
   "metadata": {},
   "source": [
    "### Remove Stop Words and Word Segment \n",
    "- title: 6m 30.2s\n",
    "-   ask: 9m 8.3s\n",
    "-   ans: 14m 32.4s"
   ]
  },
  {
   "cell_type": "code",
   "execution_count": null,
   "metadata": {},
   "outputs": [],
   "source": [
    "df['answer_clean'] = df['answer'].apply(lambda x: ws.word_segment(x, STOP_WORDS_PATH))\n",
    "df.to_csv(os.path.join(SAVING_DIR, 'df_list_ans.csv'), index=False)"
   ]
  },
  {
   "cell_type": "code",
   "execution_count": null,
   "metadata": {},
   "outputs": [],
   "source": [
    "df['ask_clean'] = df['ask'].apply(lambda x: ws.word_segment(x, STOP_WORDS_PATH))\n",
    "df.to_csv(os.path.join(SAVING_DIR, 'df_list_ask.csv'), index=False)"
   ]
  },
  {
   "cell_type": "code",
   "execution_count": null,
   "metadata": {},
   "outputs": [],
   "source": [
    "df['title_clean'] = df['title'].apply(lambda x: ws.word_segment(x, STOP_WORDS_PATH))\n",
    "df.to_csv(os.path.join(SAVING_DIR, 'df_list_title.csv'), index=False)"
   ]
  },
  {
   "cell_type": "code",
   "execution_count": null,
   "metadata": {},
   "outputs": [],
   "source": [
    "display(df.head())"
   ]
  },
  {
   "cell_type": "markdown",
   "metadata": {},
   "source": [
    "### Load CSV After WS"
   ]
  },
  {
   "cell_type": "code",
   "execution_count": 2,
   "metadata": {},
   "outputs": [],
   "source": [
    "df = pd.read_csv(ALL_DATA_PATH, encoding=ENCODING)"
   ]
  },
  {
   "cell_type": "markdown",
   "metadata": {},
   "source": [
    "[ 0  1  2  3  4  5  6  7  8  9 10 11 12 13 14 15 16 17 18 19 20 21 22 23\n",
    " 24 25 26 27 28 29 30 31 32 33 34 35 36 37 38 39 40 41 42 43 44 45 46 47\n",
    " 48 49 50 51 52 53 54 55 56 57 58 59 60 61 62 63 64 65 66 67 68 69], got ['內科中医科' '內科乳腺科' '內科产科' '內科传染病' '內科体检' '內科健身' '內科关节科' '內科内分泌科' '內科内科'\n",
    " '內科减肥' '內科动脉导管未闭' '內科口腔科' '內科呼吸科' '內科复杂先心病' '內科外科' '內科妇产科' '內科小儿口腔科'\n",
    " '內科心外科' '內科心血管科' '內科急诊科' '內科性病科' '內科感染科' '內科手足外科' '內科整形科' '內科新生儿科'\n",
    " '內科普通内科' '內科普通外科' '內科泌尿科' '內科消化科' '內科烧伤科' '內科生殖医学科' '內科生活疾病' '內科男科'\n",
    " '內科皮肤科' '內科皮肤顽症' '內科眼科' '內科神经内科' '內科神经科' '內科神经脑外科' '內科精神心理' '內科精神疾病'\n",
    " '內科结核病' '內科美容' '內科耳鼻喉科' '內科肛肠' '內科肝病科' '內科肝胆科' '內科肾内科' '內科肿瘤科' '內科胸外科'\n",
    " '內科脊柱外科' '內科营养保健科' '內科血液科' '內科血管科' '內科计划生育' '內科颌面外科' '內科风湿免疫科' '內科骨科'\n",
    " '外科乳腺科' '外科呼吸科' '外科心外科' '外科普通外科' '外科泌尿科' '外科神经脑外科' '外科肛肠' '外科肝病科' '外科肝胆科'\n",
    " '外科肿瘤科' '外科胸外科' '外科血管科']"
   ]
  },
  {
   "cell_type": "markdown",
   "metadata": {},
   "source": [
    "[ 0  1  2  3  4  5  6  7  8  9 10 11 12 13 14 15 16 17 18 19], got ['內科内分泌科' '內科呼吸科' '內科心血管科' '內科感染科' '內科普通内科' '內科消化科' '內科神经科' '內科肝病科'\n",
    " '內科肾内科' '內科血液科' '內科风湿免疫科' '外科乳腺科' '外科心外科' '外科普通外科' '外科泌尿科' '外科神经脑外科'\n",
    " '外科肛肠' '外科肝胆科' '外科胸外科' '外科血管科']"
   ]
  },
  {
   "cell_type": "code",
   "execution_count": 3,
   "metadata": {},
   "outputs": [],
   "source": [
    "idx_lst= [0, 1, 2, 3, 4, 5, 6, 7, 8, 9, 10, 11, 12, 13, 14, 15, 16, 17, 18, 19]\n",
    "dep_lst= ['內科内分泌科', '內科呼吸科', '內科心血管科', '內科感染科', '內科普通内科', '內科消化科', '內科神经科', '內科肝病科'\n",
    ", '內科肾内科', '內科血液科', '內科风湿免疫科', '外科乳腺科', '外科心外科', '外科普通外科', '外科泌尿科', '外科神经脑外科'\n",
    ", '外科肛肠', '外科肝胆科', '外科胸外科', '外科血管科']\n",
    "\n",
    "df.insert(1, 'dep_id', df['cat_dep'].apply(lambda x: dep_lst.index(x) if x in dep_lst else 99))"
   ]
  },
  {
   "cell_type": "code",
   "execution_count": 3,
   "metadata": {},
   "outputs": [
    {
     "data": {
      "text/html": [
       "<div>\n",
       "<style scoped>\n",
       "    .dataframe tbody tr th:only-of-type {\n",
       "        vertical-align: middle;\n",
       "    }\n",
       "\n",
       "    .dataframe tbody tr th {\n",
       "        vertical-align: top;\n",
       "    }\n",
       "\n",
       "    .dataframe thead th {\n",
       "        text-align: right;\n",
       "    }\n",
       "</style>\n",
       "<table border=\"1\" class=\"dataframe\">\n",
       "  <thead>\n",
       "    <tr style=\"text-align: right;\">\n",
       "      <th></th>\n",
       "      <th>cat_dep</th>\n",
       "      <th>dep_id</th>\n",
       "      <th>category</th>\n",
       "      <th>department</th>\n",
       "      <th>title</th>\n",
       "      <th>ask</th>\n",
       "      <th>answer</th>\n",
       "      <th>answer_clean</th>\n",
       "      <th>ask_clean</th>\n",
       "      <th>title_clean</th>\n",
       "    </tr>\n",
       "  </thead>\n",
       "  <tbody>\n",
       "    <tr>\n",
       "      <th>0</th>\n",
       "      <td>內科心血管科</td>\n",
       "      <td>2</td>\n",
       "      <td>內科</td>\n",
       "      <td>心血管科</td>\n",
       "      <td>高血压患者能吃党参吗？</td>\n",
       "      <td>我有高血压这两天女婿来的时候给我拿了些党参泡水喝，您好高血压可以吃党参吗？</td>\n",
       "      <td>高血压病人可以口服党参的。党参有降血脂，降血压的作用，可以彻底消除血液中的垃圾，从而对冠心病...</td>\n",
       "      <td>['高血压', '病人', '口服', '党参', '党参', '降血脂', '降血压', ...</td>\n",
       "      <td>['高血压', '两天', '女婿', '些', '党参', '泡水', '喝', '您好'...</td>\n",
       "      <td>['高血压', '患者', '吃', '党参']</td>\n",
       "    </tr>\n",
       "    <tr>\n",
       "      <th>1</th>\n",
       "      <td>內科心血管科</td>\n",
       "      <td>2</td>\n",
       "      <td>內科</td>\n",
       "      <td>心血管科</td>\n",
       "      <td>高血压该治疗什么？</td>\n",
       "      <td>我是一位中学教师，平时身体健康，最近学校组织健康检查，结果发觉我是高血压，去年还没有这种情况...</td>\n",
       "      <td>高血压患者首先要注意控制食盐摄入量，每天不超过六克，注意不要吃太油腻的食物，多吃新鲜的绿色蔬...</td>\n",
       "      <td>['高血压', '患者', '控制', '食盐', '摄入量', '不', '超过', '六...</td>\n",
       "      <td>['一位', '中学教师', '平时', '身体健康', '学校', '组织', '健康检查...</td>\n",
       "      <td>['高血压', '治疗']</td>\n",
       "    </tr>\n",
       "    <tr>\n",
       "      <th>2</th>\n",
       "      <td>內科心血管科</td>\n",
       "      <td>2</td>\n",
       "      <td>內科</td>\n",
       "      <td>心血管科</td>\n",
       "      <td>老年人高血压一般如何治疗？</td>\n",
       "      <td>我爷爷今年68了，年纪大了，高血压这些也领着来了，这些病让老人很痛苦，每次都要按时喝药，才能...</td>\n",
       "      <td>你爷爷患高血压，这是老年人常见的心血管病，血管老化硬化，血压调整能力消退了，目前治疗高血压最...</td>\n",
       "      <td>['爷爷', '患', '高血压', '这是', '老年人', '常见', '心血管病', ...</td>\n",
       "      <td>['爷爷', '68', '年纪', '大', '高血压', '领着', '病', '老人'...</td>\n",
       "      <td>['老年人', '高血压', '治疗']</td>\n",
       "    </tr>\n",
       "    <tr>\n",
       "      <th>3</th>\n",
       "      <td>內科内分泌科</td>\n",
       "      <td>0</td>\n",
       "      <td>內科</td>\n",
       "      <td>内分泌科</td>\n",
       "      <td>糖尿病还会进行遗传吗？</td>\n",
       "      <td>糖尿病有隔代遗传吗？我妈是糖尿病，很多年了，也没养好，我现在也是，我妹子也是，我儿子现在二十...</td>\n",
       "      <td>2型糖尿病的隔代遗传概率为父母患糖尿病，临产的发生率为40%，比一般人患糖尿病，疾病，如何更...</td>\n",
       "      <td>['型', '糖尿病', '隔代遗传', '概率', '父母', '患', '糖尿病', '...</td>\n",
       "      <td>['糖尿病', '隔代遗传', '我妈', '糖尿病', '很多年', '没养', '好',...</td>\n",
       "      <td>['糖尿病', '还会', '遗传']</td>\n",
       "    </tr>\n",
       "    <tr>\n",
       "      <th>4</th>\n",
       "      <td>內科内分泌科</td>\n",
       "      <td>0</td>\n",
       "      <td>內科</td>\n",
       "      <td>内分泌科</td>\n",
       "      <td>糖尿病一般需要怎么治疗？</td>\n",
       "      <td>我妈定期检查仔细检查的时候，仔细检查出患糖尿病，糖尿病需要有怎么治疗？我大概知晓是需要有控制...</td>\n",
       "      <td>糖尿病患者首先通过饮食控制和锻练运动，肥胖患者把体重降下来等方式调整一下看一看，如果血糖仍然...</td>\n",
       "      <td>['糖尿病', '患者', '饮食', '控制', '锻练', '运动', '肥胖', '患...</td>\n",
       "      <td>['我妈', '定期检查', '仔细检查', '仔细检查', '出患', '糖尿病', '糖...</td>\n",
       "      <td>['糖尿病', '治疗']</td>\n",
       "    </tr>\n",
       "  </tbody>\n",
       "</table>\n",
       "</div>"
      ],
      "text/plain": [
       "  cat_dep  dep_id category department          title  \\\n",
       "0  內科心血管科       2       內科       心血管科    高血压患者能吃党参吗？   \n",
       "1  內科心血管科       2       內科       心血管科      高血压该治疗什么？   \n",
       "2  內科心血管科       2       內科       心血管科  老年人高血压一般如何治疗？   \n",
       "3  內科内分泌科       0       內科       内分泌科    糖尿病还会进行遗传吗？   \n",
       "4  內科内分泌科       0       內科       内分泌科   糖尿病一般需要怎么治疗？   \n",
       "\n",
       "                                                 ask  \\\n",
       "0              我有高血压这两天女婿来的时候给我拿了些党参泡水喝，您好高血压可以吃党参吗？   \n",
       "1  我是一位中学教师，平时身体健康，最近学校组织健康检查，结果发觉我是高血压，去年还没有这种情况...   \n",
       "2  我爷爷今年68了，年纪大了，高血压这些也领着来了，这些病让老人很痛苦，每次都要按时喝药，才能...   \n",
       "3  糖尿病有隔代遗传吗？我妈是糖尿病，很多年了，也没养好，我现在也是，我妹子也是，我儿子现在二十...   \n",
       "4  我妈定期检查仔细检查的时候，仔细检查出患糖尿病，糖尿病需要有怎么治疗？我大概知晓是需要有控制...   \n",
       "\n",
       "                                              answer  \\\n",
       "0  高血压病人可以口服党参的。党参有降血脂，降血压的作用，可以彻底消除血液中的垃圾，从而对冠心病...   \n",
       "1  高血压患者首先要注意控制食盐摄入量，每天不超过六克，注意不要吃太油腻的食物，多吃新鲜的绿色蔬...   \n",
       "2  你爷爷患高血压，这是老年人常见的心血管病，血管老化硬化，血压调整能力消退了，目前治疗高血压最...   \n",
       "3  2型糖尿病的隔代遗传概率为父母患糖尿病，临产的发生率为40%，比一般人患糖尿病，疾病，如何更...   \n",
       "4  糖尿病患者首先通过饮食控制和锻练运动，肥胖患者把体重降下来等方式调整一下看一看，如果血糖仍然...   \n",
       "\n",
       "                                        answer_clean  \\\n",
       "0  ['高血压', '病人', '口服', '党参', '党参', '降血脂', '降血压', ...   \n",
       "1  ['高血压', '患者', '控制', '食盐', '摄入量', '不', '超过', '六...   \n",
       "2  ['爷爷', '患', '高血压', '这是', '老年人', '常见', '心血管病', ...   \n",
       "3  ['型', '糖尿病', '隔代遗传', '概率', '父母', '患', '糖尿病', '...   \n",
       "4  ['糖尿病', '患者', '饮食', '控制', '锻练', '运动', '肥胖', '患...   \n",
       "\n",
       "                                           ask_clean               title_clean  \n",
       "0  ['高血压', '两天', '女婿', '些', '党参', '泡水', '喝', '您好'...  ['高血压', '患者', '吃', '党参']  \n",
       "1  ['一位', '中学教师', '平时', '身体健康', '学校', '组织', '健康检查...             ['高血压', '治疗']  \n",
       "2  ['爷爷', '68', '年纪', '大', '高血压', '领着', '病', '老人'...      ['老年人', '高血压', '治疗']  \n",
       "3  ['糖尿病', '隔代遗传', '我妈', '糖尿病', '很多年', '没养', '好',...       ['糖尿病', '还会', '遗传']  \n",
       "4  ['我妈', '定期检查', '仔细检查', '仔细检查', '出患', '糖尿病', '糖...             ['糖尿病', '治疗']  "
      ]
     },
     "metadata": {},
     "output_type": "display_data"
    }
   ],
   "source": [
    "display(df.head())"
   ]
  },
  {
   "cell_type": "code",
   "execution_count": 5,
   "metadata": {},
   "outputs": [],
   "source": [
    "df.to_csv(os.path.join(SAVING_DIR, 'df_id.csv'), index=False)"
   ]
  },
  {
   "cell_type": "code",
   "execution_count": 3,
   "metadata": {},
   "outputs": [
    {
     "data": {
      "text/plain": [
       "內科神经科      46844\n",
       "內科消化科      32245\n",
       "內科呼吸科      27931\n",
       "外科肛肠       24016\n",
       "外科神经脑外科    23620\n",
       "內科心血管科     22841\n",
       "內科内分泌科     21745\n",
       "外科普通外科     21179\n",
       "內科肝病科      20888\n",
       "外科泌尿科      18422\n",
       "內科肾内科      14010\n",
       "內科普通内科     13447\n",
       "內科血液科       9968\n",
       "外科肝胆科       8831\n",
       "外科乳腺科       8823\n",
       "外科血管科       6404\n",
       "內科风湿免疫科     5486\n",
       "內科感染科       4035\n",
       "外科胸外科       2913\n",
       "外科心外科       1777\n",
       "Name: cat_dep, dtype: int64"
      ]
     },
     "metadata": {},
     "output_type": "display_data"
    },
    {
     "name": "stdout",
     "output_type": "stream",
     "text": [
      "20\n"
     ]
    }
   ],
   "source": [
    "df= dfp.df_filt(df, DEP_MIN_AMOUNT)\n",
    "display(dfp.get_dep_counts(df))\n",
    "print(len(dfp.get_dep_counts(df)))"
   ]
  },
  {
   "cell_type": "code",
   "execution_count": null,
   "metadata": {},
   "outputs": [],
   "source": [
    "display(df.head())"
   ]
  },
  {
   "cell_type": "code",
   "execution_count": null,
   "metadata": {},
   "outputs": [],
   "source": [
    "# df['ask_clean']= df['ask_clean'].apply(lambda x: x.split(' '))"
   ]
  },
  {
   "cell_type": "code",
   "execution_count": null,
   "metadata": {},
   "outputs": [],
   "source": []
  },
  {
   "cell_type": "code",
   "execution_count": null,
   "metadata": {},
   "outputs": [],
   "source": [
    "df = pd.read_csv(ALL_DATA_PATH, encoding=ENCODING)\n"
   ]
  },
  {
   "cell_type": "code",
   "execution_count": null,
   "metadata": {},
   "outputs": [],
   "source": [
    "df.insert(6, 'title_clean', df['title'].apply(lambda x: ws.word_segment(x)))\n",
    "df.to_csv(os.path.join(SAVING_DIR, 'df_3.csv'), index=False)"
   ]
  },
  {
   "cell_type": "code",
   "execution_count": null,
   "metadata": {},
   "outputs": [],
   "source": [
    "display(df.head())"
   ]
  },
  {
   "cell_type": "markdown",
   "metadata": {},
   "source": [
    "### Split"
   ]
  },
  {
   "cell_type": "code",
   "execution_count": 4,
   "metadata": {},
   "outputs": [],
   "source": [
    "x_train, x_test, y_train, y_test= train_test_split(df['ask_clean'], df['dep_id'], test_size=0.2, shuffle=True)"
   ]
  },
  {
   "cell_type": "code",
   "execution_count": 5,
   "metadata": {},
   "outputs": [],
   "source": [
    "from ast import literal_eval\n",
    "x_train= [literal_eval(lst) for lst in x_train]\n",
    "x_test= [literal_eval(lst) for lst in x_test]"
   ]
  },
  {
   "cell_type": "code",
   "execution_count": null,
   "metadata": {},
   "outputs": [],
   "source": [
    "print(type(x_train), type(x_train[0]))"
   ]
  },
  {
   "cell_type": "code",
   "execution_count": 6,
   "metadata": {},
   "outputs": [
    {
     "data": {
      "text/plain": [
       "['患者',\n",
       " '性别',\n",
       " '女患者',\n",
       " '年龄',\n",
       " '60',\n",
       " '肝硬化',\n",
       " '脾脏',\n",
       " '切除',\n",
       " '手术',\n",
       " '一个多月',\n",
       " '后',\n",
       " '发烧',\n",
       " '现象',\n",
       " '何原因',\n",
       " '服用',\n",
       " '药']"
      ]
     },
     "metadata": {},
     "output_type": "display_data"
    },
    {
     "data": {
      "text/plain": [
       "2"
      ]
     },
     "metadata": {},
     "output_type": "display_data"
    }
   ],
   "source": [
    "idx= 0\n",
    "display(x_train[idx], y_train[idx])"
   ]
  },
  {
   "cell_type": "code",
   "execution_count": null,
   "metadata": {},
   "outputs": [],
   "source": [
    "display(x_train.head())\n",
    "display(y_train.head())"
   ]
  },
  {
   "cell_type": "markdown",
   "metadata": {},
   "source": [
    "### From Ref"
   ]
  },
  {
   "cell_type": "code",
   "execution_count": 6,
   "metadata": {},
   "outputs": [],
   "source": [
    "from sklearn.linear_model import LogisticRegression\n",
    "from sklearn.feature_extraction.text import TfidfVectorizer\n",
    "from sklearn.pipeline import Pipeline\n",
    " \n",
    "tfidf = TfidfVectorizer(analyzer=lambda x: x)\n",
    "logistic = LogisticRegression(solver='liblinear', multi_class='auto')\n",
    "\n",
    "tfidf_logistic = Pipeline([\n",
    "    ('tfidf', tfidf), \n",
    "    ('logistic', logistic)\n",
    "])"
   ]
  },
  {
   "cell_type": "code",
   "execution_count": null,
   "metadata": {},
   "outputs": [],
   "source": [
    "from scipy.stats import randint, uniform\n",
    "\n",
    "# w2v_params = {'w2v__size': [100, 150, 200]}\n",
    "tfidf_params = {'tfidf__ngram_range': [(1, 1), (1, 2)]}\n",
    "logistic_params = {'logistic__C': [0.5, 1.0, 1.5]}\n",
    "# xgb_params = {'xgb__max_depth': randint(low=3, high=12),\n",
    "#               'xgb__colsample_bytree': uniform(loc=0.8, scale=0.2),\n",
    "#               'xgb__subsample': uniform(loc=0.8, scale=0.2)}\n",
    "\n",
    "tfidf_logistic_params = {**tfidf_params, **logistic_params}\n",
    "# w2v_xgb_params = {**w2v_params, **xgb_params}"
   ]
  },
  {
   "cell_type": "code",
   "execution_count": null,
   "metadata": {},
   "outputs": [],
   "source": [
    "from sklearn.model_selection import RandomizedSearchCV\n",
    "from sklearn.metrics import accuracy_score\n",
    "\n",
    "cv = 3\n",
    "n_iter = 3\n",
    "random_state = 1234\n",
    "scoring = 'accuracy'\n",
    "\n",
    "all_models = [\n",
    "    ('tfidf_logistic', tfidf_logistic, tfidf_logistic_params)\n",
    "]\n",
    "\n",
    "all_models_info = []\n",
    "for name, model, params in all_models:\n",
    "    print('training:', name)\n",
    "    model_tuned = RandomizedSearchCV(\n",
    "        estimator=model,\n",
    "        param_distributions=params,\n",
    "        cv=cv,\n",
    "        n_iter=n_iter,\n",
    "        n_jobs=-1,\n",
    "        verbose=1,\n",
    "        scoring=scoring,\n",
    "        random_state=random_state,\n",
    "        return_train_score=False\n",
    "    ).fit(x_train, y_train)\n",
    "    \n",
    "    Y_test_pred = model_tuned.predict(x_test)\n",
    "    test_score = accuracy_score(y_test, Y_test_pred)\n",
    "    info = name, model_tuned.best_score_, test_score, model_tuned\n",
    "    all_models_info.append(info)\n",
    "\n",
    "columns = ['model_name', 'train_score', 'test_score', 'estimator']\n",
    "results = pd.DataFrame(all_models_info, columns=columns)\n",
    "results = (results\n",
    "           .sort_values('test_score', ascending=False)\n",
    "           .reset_index(drop=True))\n",
    "results"
   ]
  },
  {
   "cell_type": "code",
   "execution_count": null,
   "metadata": {},
   "outputs": [],
   "source": []
  },
  {
   "cell_type": "code",
   "execution_count": null,
   "metadata": {},
   "outputs": [],
   "source": []
  },
  {
   "cell_type": "markdown",
   "metadata": {},
   "source": [
    "### G"
   ]
  },
  {
   "cell_type": "code",
   "execution_count": 7,
   "metadata": {},
   "outputs": [],
   "source": [
    "# from sklearn_api.w2vmodel import W2VTransformer\n",
    "from sklearn_api.gensim_word2vec import GensimWord2VecVectorizer\n",
    "from sklearn.pipeline import Pipeline\n",
    "from xgboost import XGBClassifier\n",
    "\n",
    "xgb_model= Pipeline([\n",
    "    # ('w2v', W2VTransformer(size=100, min_count=3, workers=8, window=7)),\n",
    "    ('w2v', GensimWord2VecVectorizer(size=100, min_count=3, workers=8, window=7)),\n",
    "    ('xgb', XGBClassifier(\n",
    "        learning_rate=0.01, \n",
    "        objective='multi:softmax', \n",
    "        eval_metric='mlogloss', \n",
    "        scale_pos_weight=1, \n",
    "        colsample_btree=0.8,\n",
    "        subsample=0.9))\n",
    "])"
   ]
  },
  {
   "cell_type": "code",
   "execution_count": 8,
   "metadata": {},
   "outputs": [
    {
     "name": "stdout",
     "output_type": "stream",
     "text": [
      "[19:09:25] WARNING: C:/Users/Administrator/workspace/xgboost-win64_release_1.6.0/src/learner.cc:627: \n",
      "Parameters: { \"colsample_btree\", \"scale_pos_weight\" } might not be used.\n",
      "\n",
      "  This could be a false alarm, with some parameters getting used by language bindings but\n",
      "  then being mistakenly passed down to XGBoost core, or some parameter actually being used\n",
      "  but getting flagged wrongly here. Please open an issue if you find any such cases.\n",
      "\n",
      "\n"
     ]
    }
   ],
   "source": [
    "from sklearn.metrics import accuracy_score\n",
    "from scipy.stats import randint, uniform\n",
    "import matplotlib.pyplot  as plt\n",
    "from sklearn.metrics import accuracy_score\n",
    "\n",
    "xgb_model.fit(x_train, y_train)\n",
    "\n",
    "y_test_pred = xgb_model.predict(x_test)\n",
    "test_score = accuracy_score(y_test, y_test_pred)\n",
    "\n",
    "\n",
    "### model evaluate\n",
    "accuracy = accuracy_score(y_test,y_test_pred)\n",
    "print(\"accuarcy: %.5f%%\" % (accuracy*100.0))"
   ]
  },
  {
   "cell_type": "code",
   "execution_count": null,
   "metadata": {},
   "outputs": [],
   "source": [
    "import joblib\n",
    "import os\n",
    "joblib.dump(xgb_model, os.path.join(SAVING_DIR, 'xgb_model.joblib'))"
   ]
  },
  {
   "cell_type": "code",
   "execution_count": null,
   "metadata": {},
   "outputs": [],
   "source": [
    "from sklearn.model_selection import RandomizedSearchCV\n",
    "from sklearn.metrics import accuracy_score\n",
    "from scipy.stats import randint, uniform\n",
    "from sklearn_api.w2vmodel import W2VTransformer\n",
    "from sklearn.pipeline import Pipeline\n",
    "from xgboost import XGBClassifier\n",
    "# , window=7\n",
    "xgb_model= Pipeline([\n",
    "    ('w2v', W2VTransformer(size=100, min_count=3, workers=8)),\n",
    "    ('xgb', XGBClassifier(\n",
    "        learning_rate=0.01, \n",
    "        objective='multi:softmax', \n",
    "        eval_metric='mlogloss', \n",
    "        scale_pos_weight=1))\n",
    "])\n",
    "cv = 3\n",
    "n_iter = 3\n",
    "random_state = 9527\n",
    "scoring = 'accuracy'\n",
    "\n",
    "w2v_params = {'w2v__window': randint(low=5, high=10)}\n",
    "\n",
    "xgb_params = {'xgb__max_depth': randint(low=3, high=12),\n",
    "              'xgb__colsample_bytree': uniform(loc=0.8, scale=0.2),\n",
    "              'xgb__subsample': uniform(loc=0.8, scale=0.2)}\n",
    "\n",
    "params={**w2v_params, **xgb_params}\n",
    "\n",
    "\n",
    "grid = RandomizedSearchCV(\n",
    "    estimator=xgb_model,\n",
    "    param_distributions=params,\n",
    "    cv=cv,\n",
    "    n_iter=n_iter,\n",
    "    n_jobs=-1,\n",
    "    verbose=1,\n",
    "    scoring=scoring,\n",
    "    random_state=random_state,\n",
    "    return_train_score=False\n",
    ").fit(x_train, y_train)\n",
    "\n",
    "y_test_pred = grid.predict(x_test)\n",
    "test_score = accuracy_score(y_test, y_test_pred)\n",
    "info = name, grid.best_score_, test_score, grid\n",
    "all_models_info.append(info)\n",
    "best_estimator = grid.best_estimator_\n",
    "print('best:', best_estimator, grid.best_score_)\n",
    "\n",
    "columns = ['model_name', 'train_score', 'test_score', 'estimator']\n",
    "results = pd.DataFrame(all_models_info, columns=columns)\n",
    "results = (results\n",
    "           .sort_values('test_score', ascending=False)\n",
    "           .reset_index(drop=True))\n",
    "results"
   ]
  },
  {
   "cell_type": "code",
   "execution_count": null,
   "metadata": {},
   "outputs": [],
   "source": [
    "display(df_all.head())"
   ]
  },
  {
   "cell_type": "markdown",
   "metadata": {},
   "source": [
    "### Saving Text&CSV"
   ]
  },
  {
   "cell_type": "code",
   "execution_count": null,
   "metadata": {},
   "outputs": [],
   "source": [
    "# df_p.i_df.to_csv(os.path.join(saving_dir, 'i_s_ask_ans.csv'), mode='a', columns=['ask'], index=False, header=False)\n",
    "# df_p.i_df.to_csv(os.path.join(saving_dir, 'i_s_ask_ans.csv'), mode='a', columns=['answer'], index=False, header=False)\n",
    "# df_p.s_df.to_csv(os.path.join(saving_dir, 'i_s_ask_ans.csv'), mode='a', columns=['ask'], index=False, header=False)\n",
    "# df_p.s_df.to_csv(os.path.join(saving_dir, 'i_s_ask_ans.csv'), mode='a', columns=['answer'], index=False, header=False)"
   ]
  },
  {
   "cell_type": "code",
   "execution_count": null,
   "metadata": {},
   "outputs": [],
   "source": [
    "\n"
   ]
  },
  {
   "cell_type": "code",
   "execution_count": null,
   "metadata": {},
   "outputs": [],
   "source": [
    "df_p.all_df['answer_clean'] = df_p.all_df['answer'].apply(\n",
    "    lambda x: ws.word_segment(x))"
   ]
  },
  {
   "cell_type": "code",
   "execution_count": null,
   "metadata": {},
   "outputs": [],
   "source": [
    "display(df_p.all_df.head())"
   ]
  },
  {
   "cell_type": "markdown",
   "metadata": {},
   "source": [
    "### Main Method"
   ]
  },
  {
   "cell_type": "code",
   "execution_count": null,
   "metadata": {},
   "outputs": [],
   "source": []
  },
  {
   "cell_type": "markdown",
   "metadata": {},
   "source": []
  }
 ],
 "metadata": {
  "interpreter": {
   "hash": "fa89559b8019c6b8d86cbf7b237623aaefbbcd820bdcd84fbfac8728b8f219a1"
  },
  "kernelspec": {
   "display_name": "Python 3.8.12 ('nursing-env')",
   "language": "python",
   "name": "python3"
  },
  "language_info": {
   "codemirror_mode": {
    "name": "ipython",
    "version": 3
   },
   "file_extension": ".py",
   "mimetype": "text/x-python",
   "name": "python",
   "nbconvert_exporter": "python",
   "pygments_lexer": "ipython3",
   "version": "3.8.12"
  },
  "orig_nbformat": 4
 },
 "nbformat": 4,
 "nbformat_minor": 2
}
