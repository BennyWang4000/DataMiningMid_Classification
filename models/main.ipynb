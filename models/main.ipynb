{
 "cells": [
  {
   "cell_type": "code",
   "execution_count": 1,
   "metadata": {},
   "outputs": [
    {
     "name": "stderr",
     "output_type": "stream",
     "text": [
      "Building prefix dict from the default dictionary ...\n",
      "Loading model from cache C:\\Users\\costco\\AppData\\Local\\Temp\\jieba.cache\n",
      "Loading model cost 1.734 seconds.\n",
      "Prefix dict has been built successfully.\n"
     ]
    },
    {
     "name": "stdout",
     "output_type": "stream",
     "text": [
      "['天氣', '晴', '我要', '吃', '蛋餅']\n"
     ]
    }
   ],
   "source": [
    "from utils.config import *\n",
    "import utils.df_processor as dfp\n",
    "import utils.word_segment as ws\n",
    "from IPython.display import display\n",
    "from sklearn.model_selection import train_test_split\n",
    "\n",
    "import pandas as pd\n",
    "import os"
   ]
  },
  {
   "cell_type": "markdown",
   "metadata": {},
   "source": [
    "### Create Dataframe"
   ]
  },
  {
   "cell_type": "code",
   "execution_count": 2,
   "metadata": {},
   "outputs": [],
   "source": [
    "df_i = pd.read_csv(I_DATA_PATH, encoding=ENCODING)\n",
    "df_s = pd.read_csv(S_DATA_PATH, encoding=ENCODING)\n",
    "df_i.insert(0, 'category', '內科')\n",
    "df_s.insert(0, 'category', '外科')\n"
   ]
  },
  {
   "cell_type": "code",
   "execution_count": null,
   "metadata": {},
   "outputs": [],
   "source": [
    "display(df_i['department'].value_counts())\n",
    "display(df_s['department'].value_counts())"
   ]
  },
  {
   "cell_type": "code",
   "execution_count": 3,
   "metadata": {},
   "outputs": [],
   "source": [
    "df = pd.concat([df_i, df_s], ignore_index=True)\n",
    "df.insert(0, 'cat_dep', df['category']+df['department'])\n",
    "print(df.head())"
   ]
  },
  {
   "cell_type": "markdown",
   "metadata": {},
   "source": [
    "### Remove Stop Words and Word Segment \n",
    "- ask: 9m 54.3s\n",
    "- ans:22m  2.3s"
   ]
  },
  {
   "cell_type": "code",
   "execution_count": 4,
   "metadata": {},
   "outputs": [],
   "source": [
    "df['answer_clean'] = df['answer'].apply(lambda x: ws.word_segment(x, STOP_WORDS_PATH))\n",
    "df.to_csv(os.path.join(SAVING_DIR, 'df_list_ans.csv'), index=False)"
   ]
  },
  {
   "cell_type": "code",
   "execution_count": null,
   "metadata": {},
   "outputs": [],
   "source": [
    "df['ask_clean'] = df['ask'].apply(lambda x: ws.word_segment(x, STOP_WORDS_PATH))\n",
    "df.to_csv(os.path.join(SAVING_DIR, 'df_list_ask.csv'), index=False)"
   ]
  },
  {
   "cell_type": "code",
   "execution_count": null,
   "metadata": {},
   "outputs": [],
   "source": [
    "df['title_clean'] = df['title'].apply(lambda x: ws.word_segment(x, STOP_WORDS_PATH))\n",
    "df.to_csv(os.path.join(SAVING_DIR, 'df_list_title.csv'), index=False)"
   ]
  },
  {
   "cell_type": "code",
   "execution_count": 10,
   "metadata": {},
   "outputs": [
    {
     "data": {
      "text/html": [
       "<div>\n",
       "<style scoped>\n",
       "    .dataframe tbody tr th:only-of-type {\n",
       "        vertical-align: middle;\n",
       "    }\n",
       "\n",
       "    .dataframe tbody tr th {\n",
       "        vertical-align: top;\n",
       "    }\n",
       "\n",
       "    .dataframe thead th {\n",
       "        text-align: right;\n",
       "    }\n",
       "</style>\n",
       "<table border=\"1\" class=\"dataframe\">\n",
       "  <thead>\n",
       "    <tr style=\"text-align: right;\">\n",
       "      <th></th>\n",
       "      <th>category</th>\n",
       "      <th>department</th>\n",
       "      <th>title</th>\n",
       "      <th>ask</th>\n",
       "      <th>answer</th>\n",
       "      <th>ask_clean</th>\n",
       "      <th>answer_clean</th>\n",
       "    </tr>\n",
       "  </thead>\n",
       "  <tbody>\n",
       "    <tr>\n",
       "      <th>0</th>\n",
       "      <td>內科</td>\n",
       "      <td>心血管科</td>\n",
       "      <td>高血压患者能吃党参吗？</td>\n",
       "      <td>我有高血压这两天女婿来的时候给我拿了些党参泡水喝，您好高血压可以吃党参吗？</td>\n",
       "      <td>高血压病人可以口服党参的。党参有降血脂，降血压的作用，可以彻底消除血液中的垃圾，从而对冠心病...</td>\n",
       "      <td>高血压 两天 女婿 些 党参 泡水 喝 您好 高血压 吃 党参</td>\n",
       "      <td>高血压 病人 口服 党参 党参 降血脂 降血压 作用 彻底消除 血液 中 垃圾 冠心病 心血...</td>\n",
       "    </tr>\n",
       "    <tr>\n",
       "      <th>1</th>\n",
       "      <td>內科</td>\n",
       "      <td>心血管科</td>\n",
       "      <td>高血压该治疗什么？</td>\n",
       "      <td>我是一位中学教师，平时身体健康，最近学校组织健康检查，结果发觉我是高血压，去年还没有这种情况...</td>\n",
       "      <td>高血压患者首先要注意控制食盐摄入量，每天不超过六克，注意不要吃太油腻的食物，多吃新鲜的绿色蔬...</td>\n",
       "      <td>一位 中学教师 平时 身体健康 学校 组织 健康检查 发觉 高血压 去年 还 情况 很 担心...</td>\n",
       "      <td>高血压 患者 控制 食盐 摄入量 不 超过 六克 吃 太 油腻 食物 吃 新鲜 绿色 蔬菜水...</td>\n",
       "    </tr>\n",
       "    <tr>\n",
       "      <th>2</th>\n",
       "      <td>內科</td>\n",
       "      <td>心血管科</td>\n",
       "      <td>老年人高血压一般如何治疗？</td>\n",
       "      <td>我爷爷今年68了，年纪大了，高血压这些也领着来了，这些病让老人很痛苦，每次都要按时喝药，才能...</td>\n",
       "      <td>你爷爷患高血压，这是老年人常见的心血管病，血管老化硬化，血压调整能力消退了，目前治疗高血压最...</td>\n",
       "      <td>爷爷  年纪 大 高血压 领着 病 老人 很 痛苦 每次 都 按时 喝药 才能 控制 住 还...</td>\n",
       "      <td>爷爷 患 高血压 这是 老年人 常见 心血管病 血管 老化 硬化 血压 调整 能力 消退 治...</td>\n",
       "    </tr>\n",
       "    <tr>\n",
       "      <th>3</th>\n",
       "      <td>內科</td>\n",
       "      <td>内分泌科</td>\n",
       "      <td>糖尿病还会进行遗传吗？</td>\n",
       "      <td>糖尿病有隔代遗传吗？我妈是糖尿病，很多年了，也没养好，我现在也是，我妹子也是，我儿子现在二十...</td>\n",
       "      <td>2型糖尿病的隔代遗传概率为父母患糖尿病，临产的发生率为40%，比一般人患糖尿病，疾病，如何更...</td>\n",
       "      <td>糖尿病 隔代遗传  我妈 糖尿病 很多年 没养 好 妹子 儿子 二十岁 没什么 会 糖尿病 ...</td>\n",
       "      <td>型 糖尿病 隔代遗传 概率 父母 患 糖尿病 临产 发生率  人患 糖尿病 疾病 更 选择...</td>\n",
       "    </tr>\n",
       "    <tr>\n",
       "      <th>4</th>\n",
       "      <td>內科</td>\n",
       "      <td>内分泌科</td>\n",
       "      <td>糖尿病一般需要怎么治疗？</td>\n",
       "      <td>我妈定期检查仔细检查的时候，仔细检查出患糖尿病，糖尿病需要有怎么治疗？我大概知晓是需要有控制...</td>\n",
       "      <td>糖尿病患者首先通过饮食控制和锻练运动，肥胖患者把体重降下来等方式调整一下看一看，如果血糖仍然...</td>\n",
       "      <td>我妈 定期检查 仔细检查 仔细检查 出患 糖尿病 糖尿病 治疗  大概 知晓 控制 糖量 不...</td>\n",
       "      <td>糖尿病 患者 饮食 控制 锻练 运动 肥胖 患者 体重 降下来 方式 调整 看一看 血糖 偏...</td>\n",
       "    </tr>\n",
       "  </tbody>\n",
       "</table>\n",
       "</div>"
      ],
      "text/plain": [
       "  category department          title  \\\n",
       "0       內科       心血管科    高血压患者能吃党参吗？   \n",
       "1       內科       心血管科      高血压该治疗什么？   \n",
       "2       內科       心血管科  老年人高血压一般如何治疗？   \n",
       "3       內科       内分泌科    糖尿病还会进行遗传吗？   \n",
       "4       內科       内分泌科   糖尿病一般需要怎么治疗？   \n",
       "\n",
       "                                                 ask  \\\n",
       "0              我有高血压这两天女婿来的时候给我拿了些党参泡水喝，您好高血压可以吃党参吗？   \n",
       "1  我是一位中学教师，平时身体健康，最近学校组织健康检查，结果发觉我是高血压，去年还没有这种情况...   \n",
       "2  我爷爷今年68了，年纪大了，高血压这些也领着来了，这些病让老人很痛苦，每次都要按时喝药，才能...   \n",
       "3  糖尿病有隔代遗传吗？我妈是糖尿病，很多年了，也没养好，我现在也是，我妹子也是，我儿子现在二十...   \n",
       "4  我妈定期检查仔细检查的时候，仔细检查出患糖尿病，糖尿病需要有怎么治疗？我大概知晓是需要有控制...   \n",
       "\n",
       "                                              answer  \\\n",
       "0  高血压病人可以口服党参的。党参有降血脂，降血压的作用，可以彻底消除血液中的垃圾，从而对冠心病...   \n",
       "1  高血压患者首先要注意控制食盐摄入量，每天不超过六克，注意不要吃太油腻的食物，多吃新鲜的绿色蔬...   \n",
       "2  你爷爷患高血压，这是老年人常见的心血管病，血管老化硬化，血压调整能力消退了，目前治疗高血压最...   \n",
       "3  2型糖尿病的隔代遗传概率为父母患糖尿病，临产的发生率为40%，比一般人患糖尿病，疾病，如何更...   \n",
       "4  糖尿病患者首先通过饮食控制和锻练运动，肥胖患者把体重降下来等方式调整一下看一看，如果血糖仍然...   \n",
       "\n",
       "                                           ask_clean  \\\n",
       "0                  高血压 两天 女婿 些 党参 泡水 喝 您好 高血压 吃 党参     \n",
       "1  一位 中学教师 平时 身体健康 学校 组织 健康检查 发觉 高血压 去年 还 情况 很 担心...   \n",
       "2  爷爷  年纪 大 高血压 领着 病 老人 很 痛苦 每次 都 按时 喝药 才能 控制 住 还...   \n",
       "3  糖尿病 隔代遗传  我妈 糖尿病 很多年 没养 好 妹子 儿子 二十岁 没什么 会 糖尿病 ...   \n",
       "4  我妈 定期检查 仔细检查 仔细检查 出患 糖尿病 糖尿病 治疗  大概 知晓 控制 糖量 不...   \n",
       "\n",
       "                                        answer_clean  \n",
       "0  高血压 病人 口服 党参 党参 降血脂 降血压 作用 彻底消除 血液 中 垃圾 冠心病 心血...  \n",
       "1  高血压 患者 控制 食盐 摄入量 不 超过 六克 吃 太 油腻 食物 吃 新鲜 绿色 蔬菜水...  \n",
       "2  爷爷 患 高血压 这是 老年人 常见 心血管病 血管 老化 硬化 血压 调整 能力 消退 治...  \n",
       "3   型 糖尿病 隔代遗传 概率 父母 患 糖尿病 临产 发生率  人患 糖尿病 疾病 更 选择...  \n",
       "4  糖尿病 患者 饮食 控制 锻练 运动 肥胖 患者 体重 降下来 方式 调整 看一看 血糖 偏...  "
      ]
     },
     "metadata": {},
     "output_type": "display_data"
    }
   ],
   "source": [
    "display(df.head())"
   ]
  },
  {
   "cell_type": "markdown",
   "metadata": {},
   "source": [
    "### Load CSV After WS"
   ]
  },
  {
   "cell_type": "code",
   "execution_count": 2,
   "metadata": {},
   "outputs": [],
   "source": [
    "df = pd.read_csv(ALL_DATA_PATH, encoding=ENCODING)"
   ]
  },
  {
   "cell_type": "code",
   "execution_count": 5,
   "metadata": {},
   "outputs": [
    {
     "data": {
      "text/html": [
       "<div>\n",
       "<style scoped>\n",
       "    .dataframe tbody tr th:only-of-type {\n",
       "        vertical-align: middle;\n",
       "    }\n",
       "\n",
       "    .dataframe tbody tr th {\n",
       "        vertical-align: top;\n",
       "    }\n",
       "\n",
       "    .dataframe thead th {\n",
       "        text-align: right;\n",
       "    }\n",
       "</style>\n",
       "<table border=\"1\" class=\"dataframe\">\n",
       "  <thead>\n",
       "    <tr style=\"text-align: right;\">\n",
       "      <th></th>\n",
       "      <th>cat_dep</th>\n",
       "      <th>category</th>\n",
       "      <th>department</th>\n",
       "      <th>title</th>\n",
       "      <th>ask</th>\n",
       "      <th>answer</th>\n",
       "      <th>title_clean</th>\n",
       "      <th>ask_clean</th>\n",
       "      <th>answer_clean</th>\n",
       "    </tr>\n",
       "  </thead>\n",
       "  <tbody>\n",
       "    <tr>\n",
       "      <th>0</th>\n",
       "      <td>內科心血管科</td>\n",
       "      <td>內科</td>\n",
       "      <td>心血管科</td>\n",
       "      <td>高血压患者能吃党参吗？</td>\n",
       "      <td>我有高血压这两天女婿来的时候给我拿了些党参泡水喝，您好高血压可以吃党参吗？</td>\n",
       "      <td>高血压病人可以口服党参的。党参有降血脂，降血压的作用，可以彻底消除血液中的垃圾，从而对冠心病...</td>\n",
       "      <td>高血压 患者 吃 党参</td>\n",
       "      <td>高血压 两天 女婿 些 党参 泡水 喝 您好 高血压 吃 党参</td>\n",
       "      <td>高血压 病人 口服 党参 党参 降血脂 降血压 作用 彻底消除 血液 中 垃圾 冠心病 心血...</td>\n",
       "    </tr>\n",
       "    <tr>\n",
       "      <th>1</th>\n",
       "      <td>內科心血管科</td>\n",
       "      <td>內科</td>\n",
       "      <td>心血管科</td>\n",
       "      <td>高血压该治疗什么？</td>\n",
       "      <td>我是一位中学教师，平时身体健康，最近学校组织健康检查，结果发觉我是高血压，去年还没有这种情况...</td>\n",
       "      <td>高血压患者首先要注意控制食盐摄入量，每天不超过六克，注意不要吃太油腻的食物，多吃新鲜的绿色蔬...</td>\n",
       "      <td>高血压 治疗</td>\n",
       "      <td>一位 中学教师 平时 身体健康 学校 组织 健康检查 发觉 高血压 去年 还 情况 很 担心...</td>\n",
       "      <td>高血压 患者 控制 食盐 摄入量 不 超过 六克 吃 太 油腻 食物 吃 新鲜 绿色 蔬菜水...</td>\n",
       "    </tr>\n",
       "    <tr>\n",
       "      <th>2</th>\n",
       "      <td>內科心血管科</td>\n",
       "      <td>內科</td>\n",
       "      <td>心血管科</td>\n",
       "      <td>老年人高血压一般如何治疗？</td>\n",
       "      <td>我爷爷今年68了，年纪大了，高血压这些也领着来了，这些病让老人很痛苦，每次都要按时喝药，才能...</td>\n",
       "      <td>你爷爷患高血压，这是老年人常见的心血管病，血管老化硬化，血压调整能力消退了，目前治疗高血压最...</td>\n",
       "      <td>老年人 高血压 治疗</td>\n",
       "      <td>爷爷  年纪 大 高血压 领着 病 老人 很 痛苦 每次 都 按时 喝药 才能 控制 住 还...</td>\n",
       "      <td>爷爷 患 高血压 这是 老年人 常见 心血管病 血管 老化 硬化 血压 调整 能力 消退 治...</td>\n",
       "    </tr>\n",
       "    <tr>\n",
       "      <th>3</th>\n",
       "      <td>內科内分泌科</td>\n",
       "      <td>內科</td>\n",
       "      <td>内分泌科</td>\n",
       "      <td>糖尿病还会进行遗传吗？</td>\n",
       "      <td>糖尿病有隔代遗传吗？我妈是糖尿病，很多年了，也没养好，我现在也是，我妹子也是，我儿子现在二十...</td>\n",
       "      <td>2型糖尿病的隔代遗传概率为父母患糖尿病，临产的发生率为40%，比一般人患糖尿病，疾病，如何更...</td>\n",
       "      <td>糖尿病 还会 遗传</td>\n",
       "      <td>糖尿病 隔代遗传  我妈 糖尿病 很多年 没养 好 妹子 儿子 二十岁 没什么 会 糖尿病 ...</td>\n",
       "      <td>型 糖尿病 隔代遗传 概率 父母 患 糖尿病 临产 发生率  人患 糖尿病 疾病 更 选择...</td>\n",
       "    </tr>\n",
       "    <tr>\n",
       "      <th>4</th>\n",
       "      <td>內科内分泌科</td>\n",
       "      <td>內科</td>\n",
       "      <td>内分泌科</td>\n",
       "      <td>糖尿病一般需要怎么治疗？</td>\n",
       "      <td>我妈定期检查仔细检查的时候，仔细检查出患糖尿病，糖尿病需要有怎么治疗？我大概知晓是需要有控制...</td>\n",
       "      <td>糖尿病患者首先通过饮食控制和锻练运动，肥胖患者把体重降下来等方式调整一下看一看，如果血糖仍然...</td>\n",
       "      <td>糖尿病 治疗</td>\n",
       "      <td>我妈 定期检查 仔细检查 仔细检查 出患 糖尿病 糖尿病 治疗  大概 知晓 控制 糖量 不...</td>\n",
       "      <td>糖尿病 患者 饮食 控制 锻练 运动 肥胖 患者 体重 降下来 方式 调整 看一看 血糖 偏...</td>\n",
       "    </tr>\n",
       "  </tbody>\n",
       "</table>\n",
       "</div>"
      ],
      "text/plain": [
       "  cat_dep category department          title  \\\n",
       "0  內科心血管科       內科       心血管科    高血压患者能吃党参吗？   \n",
       "1  內科心血管科       內科       心血管科      高血压该治疗什么？   \n",
       "2  內科心血管科       內科       心血管科  老年人高血压一般如何治疗？   \n",
       "3  內科内分泌科       內科       内分泌科    糖尿病还会进行遗传吗？   \n",
       "4  內科内分泌科       內科       内分泌科   糖尿病一般需要怎么治疗？   \n",
       "\n",
       "                                                 ask  \\\n",
       "0              我有高血压这两天女婿来的时候给我拿了些党参泡水喝，您好高血压可以吃党参吗？   \n",
       "1  我是一位中学教师，平时身体健康，最近学校组织健康检查，结果发觉我是高血压，去年还没有这种情况...   \n",
       "2  我爷爷今年68了，年纪大了，高血压这些也领着来了，这些病让老人很痛苦，每次都要按时喝药，才能...   \n",
       "3  糖尿病有隔代遗传吗？我妈是糖尿病，很多年了，也没养好，我现在也是，我妹子也是，我儿子现在二十...   \n",
       "4  我妈定期检查仔细检查的时候，仔细检查出患糖尿病，糖尿病需要有怎么治疗？我大概知晓是需要有控制...   \n",
       "\n",
       "                                              answer    title_clean  \\\n",
       "0  高血压病人可以口服党参的。党参有降血脂，降血压的作用，可以彻底消除血液中的垃圾，从而对冠心病...  高血压 患者 吃 党参     \n",
       "1  高血压患者首先要注意控制食盐摄入量，每天不超过六克，注意不要吃太油腻的食物，多吃新鲜的绿色蔬...       高血压 治疗     \n",
       "2  你爷爷患高血压，这是老年人常见的心血管病，血管老化硬化，血压调整能力消退了，目前治疗高血压最...   老年人 高血压 治疗     \n",
       "3  2型糖尿病的隔代遗传概率为父母患糖尿病，临产的发生率为40%，比一般人患糖尿病，疾病，如何更...    糖尿病 还会 遗传     \n",
       "4  糖尿病患者首先通过饮食控制和锻练运动，肥胖患者把体重降下来等方式调整一下看一看，如果血糖仍然...       糖尿病 治疗     \n",
       "\n",
       "                                           ask_clean  \\\n",
       "0                  高血压 两天 女婿 些 党参 泡水 喝 您好 高血压 吃 党参     \n",
       "1  一位 中学教师 平时 身体健康 学校 组织 健康检查 发觉 高血压 去年 还 情况 很 担心...   \n",
       "2  爷爷  年纪 大 高血压 领着 病 老人 很 痛苦 每次 都 按时 喝药 才能 控制 住 还...   \n",
       "3  糖尿病 隔代遗传  我妈 糖尿病 很多年 没养 好 妹子 儿子 二十岁 没什么 会 糖尿病 ...   \n",
       "4  我妈 定期检查 仔细检查 仔细检查 出患 糖尿病 糖尿病 治疗  大概 知晓 控制 糖量 不...   \n",
       "\n",
       "                                        answer_clean  \n",
       "0  高血压 病人 口服 党参 党参 降血脂 降血压 作用 彻底消除 血液 中 垃圾 冠心病 心血...  \n",
       "1  高血压 患者 控制 食盐 摄入量 不 超过 六克 吃 太 油腻 食物 吃 新鲜 绿色 蔬菜水...  \n",
       "2  爷爷 患 高血压 这是 老年人 常见 心血管病 血管 老化 硬化 血压 调整 能力 消退 治...  \n",
       "3   型 糖尿病 隔代遗传 概率 父母 患 糖尿病 临产 发生率  人患 糖尿病 疾病 更 选择...  \n",
       "4  糖尿病 患者 饮食 控制 锻练 运动 肥胖 患者 体重 降下来 方式 调整 看一看 血糖 偏...  "
      ]
     },
     "metadata": {},
     "output_type": "display_data"
    }
   ],
   "source": [
    "display(df.head())"
   ]
  },
  {
   "cell_type": "code",
   "execution_count": 4,
   "metadata": {},
   "outputs": [
    {
     "ename": "AttributeError",
     "evalue": "'float' object has no attribute 'split'",
     "output_type": "error",
     "traceback": [
      "\u001b[1;31m---------------------------------------------------------------------------\u001b[0m",
      "\u001b[1;31mAttributeError\u001b[0m                            Traceback (most recent call last)",
      "\u001b[1;32md:\\CodeRepositories\\py_project\\data_mining\\DataMiningMid_Classification\\models\\main.ipynb Cell 12'\u001b[0m in \u001b[0;36m<cell line: 1>\u001b[1;34m()\u001b[0m\n\u001b[1;32m----> <a href='vscode-notebook-cell:/d%3A/CodeRepositories/py_project/data_mining/DataMiningMid_Classification/models/main.ipynb#ch0000038?line=0'>1</a>\u001b[0m df[\u001b[39m'\u001b[39m\u001b[39mask_clean\u001b[39m\u001b[39m'\u001b[39m]\u001b[39m=\u001b[39m df[\u001b[39m'\u001b[39;49m\u001b[39mask_clean\u001b[39;49m\u001b[39m'\u001b[39;49m]\u001b[39m.\u001b[39;49mapply(\u001b[39mlambda\u001b[39;49;00m x: x\u001b[39m.\u001b[39;49msplit(\u001b[39m'\u001b[39;49m\u001b[39m \u001b[39;49m\u001b[39m'\u001b[39;49m))\n",
      "File \u001b[1;32mD:\\ProgramFiles\\Anoconda\\envs\\nursing-env\\lib\\site-packages\\pandas\\core\\series.py:4433\u001b[0m, in \u001b[0;36mSeries.apply\u001b[1;34m(self, func, convert_dtype, args, **kwargs)\u001b[0m\n\u001b[0;32m   <a href='file:///d%3A/ProgramFiles/Anoconda/envs/nursing-env/lib/site-packages/pandas/core/series.py?line=4322'>4323</a>\u001b[0m \u001b[39mdef\u001b[39;00m \u001b[39mapply\u001b[39m(\n\u001b[0;32m   <a href='file:///d%3A/ProgramFiles/Anoconda/envs/nursing-env/lib/site-packages/pandas/core/series.py?line=4323'>4324</a>\u001b[0m     \u001b[39mself\u001b[39m,\n\u001b[0;32m   <a href='file:///d%3A/ProgramFiles/Anoconda/envs/nursing-env/lib/site-packages/pandas/core/series.py?line=4324'>4325</a>\u001b[0m     func: AggFuncType,\n\u001b[1;32m   (...)\u001b[0m\n\u001b[0;32m   <a href='file:///d%3A/ProgramFiles/Anoconda/envs/nursing-env/lib/site-packages/pandas/core/series.py?line=4327'>4328</a>\u001b[0m     \u001b[39m*\u001b[39m\u001b[39m*\u001b[39mkwargs,\n\u001b[0;32m   <a href='file:///d%3A/ProgramFiles/Anoconda/envs/nursing-env/lib/site-packages/pandas/core/series.py?line=4328'>4329</a>\u001b[0m ) \u001b[39m-\u001b[39m\u001b[39m>\u001b[39m DataFrame \u001b[39m|\u001b[39m Series:\n\u001b[0;32m   <a href='file:///d%3A/ProgramFiles/Anoconda/envs/nursing-env/lib/site-packages/pandas/core/series.py?line=4329'>4330</a>\u001b[0m     \u001b[39m\"\"\"\u001b[39;00m\n\u001b[0;32m   <a href='file:///d%3A/ProgramFiles/Anoconda/envs/nursing-env/lib/site-packages/pandas/core/series.py?line=4330'>4331</a>\u001b[0m \u001b[39m    Invoke function on values of Series.\u001b[39;00m\n\u001b[0;32m   <a href='file:///d%3A/ProgramFiles/Anoconda/envs/nursing-env/lib/site-packages/pandas/core/series.py?line=4331'>4332</a>\u001b[0m \n\u001b[1;32m   (...)\u001b[0m\n\u001b[0;32m   <a href='file:///d%3A/ProgramFiles/Anoconda/envs/nursing-env/lib/site-packages/pandas/core/series.py?line=4430'>4431</a>\u001b[0m \u001b[39m    dtype: float64\u001b[39;00m\n\u001b[0;32m   <a href='file:///d%3A/ProgramFiles/Anoconda/envs/nursing-env/lib/site-packages/pandas/core/series.py?line=4431'>4432</a>\u001b[0m \u001b[39m    \"\"\"\u001b[39;00m\n\u001b[1;32m-> <a href='file:///d%3A/ProgramFiles/Anoconda/envs/nursing-env/lib/site-packages/pandas/core/series.py?line=4432'>4433</a>\u001b[0m     \u001b[39mreturn\u001b[39;00m SeriesApply(\u001b[39mself\u001b[39;49m, func, convert_dtype, args, kwargs)\u001b[39m.\u001b[39;49mapply()\n",
      "File \u001b[1;32mD:\\ProgramFiles\\Anoconda\\envs\\nursing-env\\lib\\site-packages\\pandas\\core\\apply.py:1082\u001b[0m, in \u001b[0;36mSeriesApply.apply\u001b[1;34m(self)\u001b[0m\n\u001b[0;32m   <a href='file:///d%3A/ProgramFiles/Anoconda/envs/nursing-env/lib/site-packages/pandas/core/apply.py?line=1077'>1078</a>\u001b[0m \u001b[39mif\u001b[39;00m \u001b[39misinstance\u001b[39m(\u001b[39mself\u001b[39m\u001b[39m.\u001b[39mf, \u001b[39mstr\u001b[39m):\n\u001b[0;32m   <a href='file:///d%3A/ProgramFiles/Anoconda/envs/nursing-env/lib/site-packages/pandas/core/apply.py?line=1078'>1079</a>\u001b[0m     \u001b[39m# if we are a string, try to dispatch\u001b[39;00m\n\u001b[0;32m   <a href='file:///d%3A/ProgramFiles/Anoconda/envs/nursing-env/lib/site-packages/pandas/core/apply.py?line=1079'>1080</a>\u001b[0m     \u001b[39mreturn\u001b[39;00m \u001b[39mself\u001b[39m\u001b[39m.\u001b[39mapply_str()\n\u001b[1;32m-> <a href='file:///d%3A/ProgramFiles/Anoconda/envs/nursing-env/lib/site-packages/pandas/core/apply.py?line=1081'>1082</a>\u001b[0m \u001b[39mreturn\u001b[39;00m \u001b[39mself\u001b[39;49m\u001b[39m.\u001b[39;49mapply_standard()\n",
      "File \u001b[1;32mD:\\ProgramFiles\\Anoconda\\envs\\nursing-env\\lib\\site-packages\\pandas\\core\\apply.py:1137\u001b[0m, in \u001b[0;36mSeriesApply.apply_standard\u001b[1;34m(self)\u001b[0m\n\u001b[0;32m   <a href='file:///d%3A/ProgramFiles/Anoconda/envs/nursing-env/lib/site-packages/pandas/core/apply.py?line=1130'>1131</a>\u001b[0m         values \u001b[39m=\u001b[39m obj\u001b[39m.\u001b[39mastype(\u001b[39mobject\u001b[39m)\u001b[39m.\u001b[39m_values\n\u001b[0;32m   <a href='file:///d%3A/ProgramFiles/Anoconda/envs/nursing-env/lib/site-packages/pandas/core/apply.py?line=1131'>1132</a>\u001b[0m         \u001b[39m# error: Argument 2 to \"map_infer\" has incompatible type\u001b[39;00m\n\u001b[0;32m   <a href='file:///d%3A/ProgramFiles/Anoconda/envs/nursing-env/lib/site-packages/pandas/core/apply.py?line=1132'>1133</a>\u001b[0m         \u001b[39m# \"Union[Callable[..., Any], str, List[Union[Callable[..., Any], str]],\u001b[39;00m\n\u001b[0;32m   <a href='file:///d%3A/ProgramFiles/Anoconda/envs/nursing-env/lib/site-packages/pandas/core/apply.py?line=1133'>1134</a>\u001b[0m         \u001b[39m# Dict[Hashable, Union[Union[Callable[..., Any], str],\u001b[39;00m\n\u001b[0;32m   <a href='file:///d%3A/ProgramFiles/Anoconda/envs/nursing-env/lib/site-packages/pandas/core/apply.py?line=1134'>1135</a>\u001b[0m         \u001b[39m# List[Union[Callable[..., Any], str]]]]]\"; expected\u001b[39;00m\n\u001b[0;32m   <a href='file:///d%3A/ProgramFiles/Anoconda/envs/nursing-env/lib/site-packages/pandas/core/apply.py?line=1135'>1136</a>\u001b[0m         \u001b[39m# \"Callable[[Any], Any]\"\u001b[39;00m\n\u001b[1;32m-> <a href='file:///d%3A/ProgramFiles/Anoconda/envs/nursing-env/lib/site-packages/pandas/core/apply.py?line=1136'>1137</a>\u001b[0m         mapped \u001b[39m=\u001b[39m lib\u001b[39m.\u001b[39;49mmap_infer(\n\u001b[0;32m   <a href='file:///d%3A/ProgramFiles/Anoconda/envs/nursing-env/lib/site-packages/pandas/core/apply.py?line=1137'>1138</a>\u001b[0m             values,\n\u001b[0;32m   <a href='file:///d%3A/ProgramFiles/Anoconda/envs/nursing-env/lib/site-packages/pandas/core/apply.py?line=1138'>1139</a>\u001b[0m             f,  \u001b[39m# type: ignore[arg-type]\u001b[39;49;00m\n\u001b[0;32m   <a href='file:///d%3A/ProgramFiles/Anoconda/envs/nursing-env/lib/site-packages/pandas/core/apply.py?line=1139'>1140</a>\u001b[0m             convert\u001b[39m=\u001b[39;49m\u001b[39mself\u001b[39;49m\u001b[39m.\u001b[39;49mconvert_dtype,\n\u001b[0;32m   <a href='file:///d%3A/ProgramFiles/Anoconda/envs/nursing-env/lib/site-packages/pandas/core/apply.py?line=1140'>1141</a>\u001b[0m         )\n\u001b[0;32m   <a href='file:///d%3A/ProgramFiles/Anoconda/envs/nursing-env/lib/site-packages/pandas/core/apply.py?line=1142'>1143</a>\u001b[0m \u001b[39mif\u001b[39;00m \u001b[39mlen\u001b[39m(mapped) \u001b[39mand\u001b[39;00m \u001b[39misinstance\u001b[39m(mapped[\u001b[39m0\u001b[39m], ABCSeries):\n\u001b[0;32m   <a href='file:///d%3A/ProgramFiles/Anoconda/envs/nursing-env/lib/site-packages/pandas/core/apply.py?line=1143'>1144</a>\u001b[0m     \u001b[39m# GH#43986 Need to do list(mapped) in order to get treated as nested\u001b[39;00m\n\u001b[0;32m   <a href='file:///d%3A/ProgramFiles/Anoconda/envs/nursing-env/lib/site-packages/pandas/core/apply.py?line=1144'>1145</a>\u001b[0m     \u001b[39m#  See also GH#25959 regarding EA support\u001b[39;00m\n\u001b[0;32m   <a href='file:///d%3A/ProgramFiles/Anoconda/envs/nursing-env/lib/site-packages/pandas/core/apply.py?line=1145'>1146</a>\u001b[0m     \u001b[39mreturn\u001b[39;00m obj\u001b[39m.\u001b[39m_constructor_expanddim(\u001b[39mlist\u001b[39m(mapped), index\u001b[39m=\u001b[39mobj\u001b[39m.\u001b[39mindex)\n",
      "File \u001b[1;32mD:\\ProgramFiles\\Anoconda\\envs\\nursing-env\\lib\\site-packages\\pandas\\_libs\\lib.pyx:2870\u001b[0m, in \u001b[0;36mpandas._libs.lib.map_infer\u001b[1;34m()\u001b[0m\n",
      "\u001b[1;32md:\\CodeRepositories\\py_project\\data_mining\\DataMiningMid_Classification\\models\\main.ipynb Cell 12'\u001b[0m in \u001b[0;36m<lambda>\u001b[1;34m(x)\u001b[0m\n\u001b[1;32m----> <a href='vscode-notebook-cell:/d%3A/CodeRepositories/py_project/data_mining/DataMiningMid_Classification/models/main.ipynb#ch0000038?line=0'>1</a>\u001b[0m df[\u001b[39m'\u001b[39m\u001b[39mask_clean\u001b[39m\u001b[39m'\u001b[39m]\u001b[39m=\u001b[39m df[\u001b[39m'\u001b[39m\u001b[39mask_clean\u001b[39m\u001b[39m'\u001b[39m]\u001b[39m.\u001b[39mapply(\u001b[39mlambda\u001b[39;00m x: x\u001b[39m.\u001b[39;49msplit(\u001b[39m'\u001b[39m\u001b[39m \u001b[39m\u001b[39m'\u001b[39m))\n",
      "\u001b[1;31mAttributeError\u001b[0m: 'float' object has no attribute 'split'"
     ]
    }
   ],
   "source": [
    "df['ask_clean']= df['ask_clean'].apply(lambda x: x.split(' '))"
   ]
  },
  {
   "cell_type": "code",
   "execution_count": null,
   "metadata": {},
   "outputs": [],
   "source": []
  },
  {
   "cell_type": "code",
   "execution_count": 2,
   "metadata": {},
   "outputs": [],
   "source": [
    "df = pd.read_csv(ALL_DATA_PATH, encoding=ENCODING)\n"
   ]
  },
  {
   "cell_type": "code",
   "execution_count": 7,
   "metadata": {},
   "outputs": [
    {
     "name": "stderr",
     "output_type": "stream",
     "text": [
      "Building prefix dict from the default dictionary ...\n",
      "Loading model from cache C:\\Users\\costco\\AppData\\Local\\Temp\\jieba.cache\n",
      "Loading model cost 1.236 seconds.\n",
      "Prefix dict has been built successfully.\n"
     ]
    }
   ],
   "source": [
    "df.insert(6, 'title_clean', df['title'].apply(lambda x: ws.word_segment(x)))\n",
    "df.to_csv(os.path.join(SAVING_DIR, 'df_3.csv'), index=False)"
   ]
  },
  {
   "cell_type": "code",
   "execution_count": 3,
   "metadata": {},
   "outputs": [
    {
     "data": {
      "text/plain": [
       "內科神经科      46844\n",
       "內科消化科      32245\n",
       "內科呼吸科      27931\n",
       "外科肛肠       24016\n",
       "外科神经脑外科    23620\n",
       "內科心血管科     22841\n",
       "內科内分泌科     21745\n",
       "外科普通外科     21179\n",
       "內科肝病科      20888\n",
       "外科泌尿科      18422\n",
       "內科肾内科      14010\n",
       "內科普通内科     13447\n",
       "內科血液科       9968\n",
       "外科肝胆科       8831\n",
       "外科乳腺科       8823\n",
       "外科血管科       6404\n",
       "內科风湿免疫科     5486\n",
       "內科感染科       4035\n",
       "外科胸外科       2913\n",
       "外科心外科       1777\n",
       "Name: cat_dep, dtype: int64"
      ]
     },
     "metadata": {},
     "output_type": "display_data"
    },
    {
     "name": "stdout",
     "output_type": "stream",
     "text": [
      "20\n"
     ]
    }
   ],
   "source": [
    "df= dfp.df_filt(df, DEP_MIN_AMOUNT)\n",
    "display(dfp.get_dep_counts(df))\n",
    "print(len(dfp.get_dep_counts(df)))"
   ]
  },
  {
   "cell_type": "code",
   "execution_count": 4,
   "metadata": {},
   "outputs": [
    {
     "data": {
      "text/html": [
       "<div>\n",
       "<style scoped>\n",
       "    .dataframe tbody tr th:only-of-type {\n",
       "        vertical-align: middle;\n",
       "    }\n",
       "\n",
       "    .dataframe tbody tr th {\n",
       "        vertical-align: top;\n",
       "    }\n",
       "\n",
       "    .dataframe thead th {\n",
       "        text-align: right;\n",
       "    }\n",
       "</style>\n",
       "<table border=\"1\" class=\"dataframe\">\n",
       "  <thead>\n",
       "    <tr style=\"text-align: right;\">\n",
       "      <th></th>\n",
       "      <th>cat_dep</th>\n",
       "      <th>category</th>\n",
       "      <th>department</th>\n",
       "      <th>title</th>\n",
       "      <th>ask</th>\n",
       "      <th>answer</th>\n",
       "      <th>title_clean</th>\n",
       "      <th>ask_clean</th>\n",
       "      <th>answer_clean</th>\n",
       "    </tr>\n",
       "  </thead>\n",
       "  <tbody>\n",
       "    <tr>\n",
       "      <th>0</th>\n",
       "      <td>內科心血管科</td>\n",
       "      <td>內科</td>\n",
       "      <td>心血管科</td>\n",
       "      <td>高血压患者能吃党参吗？</td>\n",
       "      <td>我有高血压这两天女婿来的时候给我拿了些党参泡水喝，您好高血压可以吃党参吗？</td>\n",
       "      <td>高血压病人可以口服党参的。党参有降血脂，降血压的作用，可以彻底消除血液中的垃圾，从而对冠心病...</td>\n",
       "      <td>高血压 患者 吃 党参</td>\n",
       "      <td>高血压 两天 女婿 些 党参 泡水 喝 您好 高血压 吃 党参</td>\n",
       "      <td>高血压 病人 口服 党参 党参 降血脂 降血压 作用 彻底消除 血液 中 垃圾 冠心病 心血...</td>\n",
       "    </tr>\n",
       "    <tr>\n",
       "      <th>1</th>\n",
       "      <td>內科心血管科</td>\n",
       "      <td>內科</td>\n",
       "      <td>心血管科</td>\n",
       "      <td>高血压该治疗什么？</td>\n",
       "      <td>我是一位中学教师，平时身体健康，最近学校组织健康检查，结果发觉我是高血压，去年还没有这种情况...</td>\n",
       "      <td>高血压患者首先要注意控制食盐摄入量，每天不超过六克，注意不要吃太油腻的食物，多吃新鲜的绿色蔬...</td>\n",
       "      <td>高血压 治疗</td>\n",
       "      <td>一位 中学教师 平时 身体健康 学校 组织 健康检查 发觉 高血压 去年 还 情况 很 担心...</td>\n",
       "      <td>高血压 患者 控制 食盐 摄入量 不 超过 六克 吃 太 油腻 食物 吃 新鲜 绿色 蔬菜水...</td>\n",
       "    </tr>\n",
       "    <tr>\n",
       "      <th>2</th>\n",
       "      <td>內科心血管科</td>\n",
       "      <td>內科</td>\n",
       "      <td>心血管科</td>\n",
       "      <td>老年人高血压一般如何治疗？</td>\n",
       "      <td>我爷爷今年68了，年纪大了，高血压这些也领着来了，这些病让老人很痛苦，每次都要按时喝药，才能...</td>\n",
       "      <td>你爷爷患高血压，这是老年人常见的心血管病，血管老化硬化，血压调整能力消退了，目前治疗高血压最...</td>\n",
       "      <td>老年人 高血压 治疗</td>\n",
       "      <td>爷爷  年纪 大 高血压 领着 病 老人 很 痛苦 每次 都 按时 喝药 才能 控制 住 还...</td>\n",
       "      <td>爷爷 患 高血压 这是 老年人 常见 心血管病 血管 老化 硬化 血压 调整 能力 消退 治...</td>\n",
       "    </tr>\n",
       "    <tr>\n",
       "      <th>3</th>\n",
       "      <td>內科内分泌科</td>\n",
       "      <td>內科</td>\n",
       "      <td>内分泌科</td>\n",
       "      <td>糖尿病还会进行遗传吗？</td>\n",
       "      <td>糖尿病有隔代遗传吗？我妈是糖尿病，很多年了，也没养好，我现在也是，我妹子也是，我儿子现在二十...</td>\n",
       "      <td>2型糖尿病的隔代遗传概率为父母患糖尿病，临产的发生率为40%，比一般人患糖尿病，疾病，如何更...</td>\n",
       "      <td>糖尿病 还会 遗传</td>\n",
       "      <td>糖尿病 隔代遗传  我妈 糖尿病 很多年 没养 好 妹子 儿子 二十岁 没什么 会 糖尿病 ...</td>\n",
       "      <td>型 糖尿病 隔代遗传 概率 父母 患 糖尿病 临产 发生率  人患 糖尿病 疾病 更 选择...</td>\n",
       "    </tr>\n",
       "    <tr>\n",
       "      <th>4</th>\n",
       "      <td>內科内分泌科</td>\n",
       "      <td>內科</td>\n",
       "      <td>内分泌科</td>\n",
       "      <td>糖尿病一般需要怎么治疗？</td>\n",
       "      <td>我妈定期检查仔细检查的时候，仔细检查出患糖尿病，糖尿病需要有怎么治疗？我大概知晓是需要有控制...</td>\n",
       "      <td>糖尿病患者首先通过饮食控制和锻练运动，肥胖患者把体重降下来等方式调整一下看一看，如果血糖仍然...</td>\n",
       "      <td>糖尿病 治疗</td>\n",
       "      <td>我妈 定期检查 仔细检查 仔细检查 出患 糖尿病 糖尿病 治疗  大概 知晓 控制 糖量 不...</td>\n",
       "      <td>糖尿病 患者 饮食 控制 锻练 运动 肥胖 患者 体重 降下来 方式 调整 看一看 血糖 偏...</td>\n",
       "    </tr>\n",
       "  </tbody>\n",
       "</table>\n",
       "</div>"
      ],
      "text/plain": [
       "  cat_dep category department          title  \\\n",
       "0  內科心血管科       內科       心血管科    高血压患者能吃党参吗？   \n",
       "1  內科心血管科       內科       心血管科      高血压该治疗什么？   \n",
       "2  內科心血管科       內科       心血管科  老年人高血压一般如何治疗？   \n",
       "3  內科内分泌科       內科       内分泌科    糖尿病还会进行遗传吗？   \n",
       "4  內科内分泌科       內科       内分泌科   糖尿病一般需要怎么治疗？   \n",
       "\n",
       "                                                 ask  \\\n",
       "0              我有高血压这两天女婿来的时候给我拿了些党参泡水喝，您好高血压可以吃党参吗？   \n",
       "1  我是一位中学教师，平时身体健康，最近学校组织健康检查，结果发觉我是高血压，去年还没有这种情况...   \n",
       "2  我爷爷今年68了，年纪大了，高血压这些也领着来了，这些病让老人很痛苦，每次都要按时喝药，才能...   \n",
       "3  糖尿病有隔代遗传吗？我妈是糖尿病，很多年了，也没养好，我现在也是，我妹子也是，我儿子现在二十...   \n",
       "4  我妈定期检查仔细检查的时候，仔细检查出患糖尿病，糖尿病需要有怎么治疗？我大概知晓是需要有控制...   \n",
       "\n",
       "                                              answer    title_clean  \\\n",
       "0  高血压病人可以口服党参的。党参有降血脂，降血压的作用，可以彻底消除血液中的垃圾，从而对冠心病...  高血压 患者 吃 党参     \n",
       "1  高血压患者首先要注意控制食盐摄入量，每天不超过六克，注意不要吃太油腻的食物，多吃新鲜的绿色蔬...       高血压 治疗     \n",
       "2  你爷爷患高血压，这是老年人常见的心血管病，血管老化硬化，血压调整能力消退了，目前治疗高血压最...   老年人 高血压 治疗     \n",
       "3  2型糖尿病的隔代遗传概率为父母患糖尿病，临产的发生率为40%，比一般人患糖尿病，疾病，如何更...    糖尿病 还会 遗传     \n",
       "4  糖尿病患者首先通过饮食控制和锻练运动，肥胖患者把体重降下来等方式调整一下看一看，如果血糖仍然...       糖尿病 治疗     \n",
       "\n",
       "                                           ask_clean  \\\n",
       "0                  高血压 两天 女婿 些 党参 泡水 喝 您好 高血压 吃 党参     \n",
       "1  一位 中学教师 平时 身体健康 学校 组织 健康检查 发觉 高血压 去年 还 情况 很 担心...   \n",
       "2  爷爷  年纪 大 高血压 领着 病 老人 很 痛苦 每次 都 按时 喝药 才能 控制 住 还...   \n",
       "3  糖尿病 隔代遗传  我妈 糖尿病 很多年 没养 好 妹子 儿子 二十岁 没什么 会 糖尿病 ...   \n",
       "4  我妈 定期检查 仔细检查 仔细检查 出患 糖尿病 糖尿病 治疗  大概 知晓 控制 糖量 不...   \n",
       "\n",
       "                                        answer_clean  \n",
       "0  高血压 病人 口服 党参 党参 降血脂 降血压 作用 彻底消除 血液 中 垃圾 冠心病 心血...  \n",
       "1  高血压 患者 控制 食盐 摄入量 不 超过 六克 吃 太 油腻 食物 吃 新鲜 绿色 蔬菜水...  \n",
       "2  爷爷 患 高血压 这是 老年人 常见 心血管病 血管 老化 硬化 血压 调整 能力 消退 治...  \n",
       "3   型 糖尿病 隔代遗传 概率 父母 患 糖尿病 临产 发生率  人患 糖尿病 疾病 更 选择...  \n",
       "4  糖尿病 患者 饮食 控制 锻练 运动 肥胖 患者 体重 降下来 方式 调整 看一看 血糖 偏...  "
      ]
     },
     "metadata": {},
     "output_type": "display_data"
    }
   ],
   "source": [
    "display(df.head())"
   ]
  },
  {
   "cell_type": "markdown",
   "metadata": {},
   "source": [
    "### Split"
   ]
  },
  {
   "cell_type": "code",
   "execution_count": 4,
   "metadata": {},
   "outputs": [],
   "source": [
    "x_train, x_test, y_train, y_test= train_test_split(df['ask_clean'], df['cat_dep'], test_size=0.2, shuffle=True)"
   ]
  },
  {
   "cell_type": "code",
   "execution_count": 6,
   "metadata": {},
   "outputs": [
    {
     "data": {
      "text/plain": [
       "219787        一年 前 一年 多瘦 三四 拾斤 \n",
       "193185     年 心慌 气短 腿软 心悸 睡不着 觉 \n",
       "39049               心肌炎 喝酒 行 喝 \n",
       "197139                       无 \n",
       "206735                       无 \n",
       "Name: ask_clean, dtype: object"
      ]
     },
     "metadata": {},
     "output_type": "display_data"
    },
    {
     "data": {
      "text/plain": [
       "219787     內科肾内科\n",
       "193185    內科心血管科\n",
       "39049     內科心血管科\n",
       "197139    內科内分泌科\n",
       "206735     內科消化科\n",
       "Name: cat_dep, dtype: object"
      ]
     },
     "metadata": {},
     "output_type": "display_data"
    }
   ],
   "source": [
    "display(x_train.head())\n",
    "display(y_train.head())"
   ]
  },
  {
   "cell_type": "markdown",
   "metadata": {},
   "source": [
    "### From Ref"
   ]
  },
  {
   "cell_type": "code",
   "execution_count": 5,
   "metadata": {},
   "outputs": [],
   "source": [
    "from sklearn.linear_model import LogisticRegression\n",
    "from sklearn.feature_extraction.text import TfidfVectorizer\n",
    "from sklearn.pipeline import Pipeline\n",
    " \n",
    "tfidf = TfidfVectorizer(analyzer=lambda x: x)\n",
    "logistic = LogisticRegression(solver='liblinear', multi_class='auto')\n",
    "\n",
    "tfidf_logistic = Pipeline([\n",
    "    ('tfidf', tfidf), \n",
    "    ('logistic', logistic)\n",
    "])"
   ]
  },
  {
   "cell_type": "code",
   "execution_count": 23,
   "metadata": {},
   "outputs": [],
   "source": [
    "from scipy.stats import randint, uniform\n",
    "\n",
    "# w2v_params = {'w2v__size': [100, 150, 200]}\n",
    "tfidf_params = {'tfidf__ngram_range': [(1, 1), (1, 2)]}\n",
    "logistic_params = {'logistic__C': [0.5, 1.0, 1.5]}\n",
    "# xgb_params = {'xgb__max_depth': randint(low=3, high=12),\n",
    "#               'xgb__colsample_bytree': uniform(loc=0.8, scale=0.2),\n",
    "#               'xgb__subsample': uniform(loc=0.8, scale=0.2)}\n",
    "\n",
    "tfidf_logistic_params = {**tfidf_params, **logistic_params}\n",
    "# w2v_xgb_params = {**w2v_params, **xgb_params}"
   ]
  },
  {
   "cell_type": "code",
   "execution_count": 24,
   "metadata": {},
   "outputs": [
    {
     "name": "stdout",
     "output_type": "stream",
     "text": [
      "training: tfidf_logistic\n",
      "Fitting 3 folds for each of 3 candidates, totalling 9 fits\n"
     ]
    },
    {
     "name": "stderr",
     "output_type": "stream",
     "text": [
      "D:\\ProgramFiles\\Anoconda\\envs\\nursing-env\\lib\\site-packages\\sklearn\\model_selection\\_split.py:676: UserWarning: The least populated class in y has only 1 members, which is less than n_splits=3.\n",
      "  warnings.warn(\n"
     ]
    },
    {
     "data": {
      "text/html": [
       "<div>\n",
       "<style scoped>\n",
       "    .dataframe tbody tr th:only-of-type {\n",
       "        vertical-align: middle;\n",
       "    }\n",
       "\n",
       "    .dataframe tbody tr th {\n",
       "        vertical-align: top;\n",
       "    }\n",
       "\n",
       "    .dataframe thead th {\n",
       "        text-align: right;\n",
       "    }\n",
       "</style>\n",
       "<table border=\"1\" class=\"dataframe\">\n",
       "  <thead>\n",
       "    <tr style=\"text-align: right;\">\n",
       "      <th></th>\n",
       "      <th>model_name</th>\n",
       "      <th>train_score</th>\n",
       "      <th>test_score</th>\n",
       "      <th>estimator</th>\n",
       "    </tr>\n",
       "  </thead>\n",
       "  <tbody>\n",
       "    <tr>\n",
       "      <th>0</th>\n",
       "      <td>tfidf_logistic</td>\n",
       "      <td>0.686857</td>\n",
       "      <td>0.68881</td>\n",
       "      <td>RandomizedSearchCV(cv=3,\\n                   e...</td>\n",
       "    </tr>\n",
       "  </tbody>\n",
       "</table>\n",
       "</div>"
      ],
      "text/plain": [
       "       model_name  train_score  test_score  \\\n",
       "0  tfidf_logistic     0.686857     0.68881   \n",
       "\n",
       "                                           estimator  \n",
       "0  RandomizedSearchCV(cv=3,\\n                   e...  "
      ]
     },
     "execution_count": 24,
     "metadata": {},
     "output_type": "execute_result"
    }
   ],
   "source": [
    "from sklearn.model_selection import RandomizedSearchCV\n",
    "from sklearn.metrics import accuracy_score\n",
    "\n",
    "cv = 3\n",
    "n_iter = 3\n",
    "random_state = 1234\n",
    "scoring = 'accuracy'\n",
    "\n",
    "all_models = [\n",
    "    ('tfidf_logistic', tfidf_logistic, tfidf_logistic_params)\n",
    "]\n",
    "\n",
    "all_models_info = []\n",
    "for name, model, params in all_models:\n",
    "    print('training:', name)\n",
    "    model_tuned = RandomizedSearchCV(\n",
    "        estimator=model,\n",
    "        param_distributions=params,\n",
    "        cv=cv,\n",
    "        n_iter=n_iter,\n",
    "        n_jobs=-1,\n",
    "        verbose=1,\n",
    "        scoring=scoring,\n",
    "        random_state=random_state,\n",
    "        return_train_score=False\n",
    "    ).fit(x_train, y_train)\n",
    "    \n",
    "    Y_test_pred = model_tuned.predict(x_test)\n",
    "    test_score = accuracy_score(y_test, Y_test_pred)\n",
    "    info = name, model_tuned.best_score_, test_score, model_tuned\n",
    "    all_models_info.append(info)\n",
    "\n",
    "columns = ['model_name', 'train_score', 'test_score', 'estimator']\n",
    "results = pd.DataFrame(all_models_info, columns=columns)\n",
    "results = (results\n",
    "           .sort_values('test_score', ascending=False)\n",
    "           .reset_index(drop=True))\n",
    "results"
   ]
  },
  {
   "cell_type": "code",
   "execution_count": null,
   "metadata": {},
   "outputs": [],
   "source": []
  },
  {
   "cell_type": "code",
   "execution_count": null,
   "metadata": {},
   "outputs": [],
   "source": []
  },
  {
   "cell_type": "markdown",
   "metadata": {},
   "source": [
    "### G"
   ]
  },
  {
   "cell_type": "code",
   "execution_count": 5,
   "metadata": {},
   "outputs": [],
   "source": [
    "from sklearn_api.w2vmodel import W2VTransformer\n",
    "from sklearn.pipeline import Pipeline\n",
    "from xgboost import XGBClassifier\n",
    "\n",
    "xgb_model= Pipeline([\n",
    "    ('w2v', W2VTransformer(size=100, min_count=3, workers=8, window=7)),\n",
    "    ('xgb', XGBClassifier(\n",
    "        learning_rate=0.01, \n",
    "        objective='multi:softmax', \n",
    "        eval_metric='mlogloss', \n",
    "        scale_pos_weight=1, \n",
    "        colsample_btree=0.8,\n",
    "        subsample=0.9))\n",
    "])"
   ]
  },
  {
   "cell_type": "code",
   "execution_count": 6,
   "metadata": {},
   "outputs": [
    {
     "ename": "TypeError",
     "evalue": "'float' object is not iterable",
     "output_type": "error",
     "traceback": [
      "\u001b[1;31m---------------------------------------------------------------------------\u001b[0m",
      "\u001b[1;31mTypeError\u001b[0m                                 Traceback (most recent call last)",
      "\u001b[1;32md:\\CodeRepositories\\py_project\\data_mining\\DataMiningMid_Classification\\models\\main.ipynb Cell 27'\u001b[0m in \u001b[0;36m<cell line: 6>\u001b[1;34m()\u001b[0m\n\u001b[0;32m      <a href='vscode-notebook-cell:/d%3A/CodeRepositories/py_project/data_mining/DataMiningMid_Classification/models/main.ipynb#ch0000026?line=2'>3</a>\u001b[0m \u001b[39mimport\u001b[39;00m \u001b[39mmatplotlib\u001b[39;00m\u001b[39m.\u001b[39;00m\u001b[39mpyplot\u001b[39;00m  \u001b[39mas\u001b[39;00m \u001b[39mplt\u001b[39;00m\n\u001b[0;32m      <a href='vscode-notebook-cell:/d%3A/CodeRepositories/py_project/data_mining/DataMiningMid_Classification/models/main.ipynb#ch0000026?line=3'>4</a>\u001b[0m \u001b[39mfrom\u001b[39;00m \u001b[39msklearn\u001b[39;00m\u001b[39m.\u001b[39;00m\u001b[39mmetrics\u001b[39;00m \u001b[39mimport\u001b[39;00m accuracy_score\n\u001b[1;32m----> <a href='vscode-notebook-cell:/d%3A/CodeRepositories/py_project/data_mining/DataMiningMid_Classification/models/main.ipynb#ch0000026?line=5'>6</a>\u001b[0m xgb_model\u001b[39m.\u001b[39;49mfit(x_train, y_train)\n\u001b[0;32m      <a href='vscode-notebook-cell:/d%3A/CodeRepositories/py_project/data_mining/DataMiningMid_Classification/models/main.ipynb#ch0000026?line=7'>8</a>\u001b[0m y_test_pred \u001b[39m=\u001b[39m xgb_model\u001b[39m.\u001b[39mpredict(x_test)\n\u001b[0;32m      <a href='vscode-notebook-cell:/d%3A/CodeRepositories/py_project/data_mining/DataMiningMid_Classification/models/main.ipynb#ch0000026?line=8'>9</a>\u001b[0m test_score \u001b[39m=\u001b[39m accuracy_score(y_test, y_test_pred)\n",
      "File \u001b[1;32mD:\\ProgramFiles\\Anoconda\\envs\\nursing-env\\lib\\site-packages\\sklearn\\pipeline.py:390\u001b[0m, in \u001b[0;36mPipeline.fit\u001b[1;34m(self, X, y, **fit_params)\u001b[0m\n\u001b[0;32m    <a href='file:///d%3A/ProgramFiles/Anoconda/envs/nursing-env/lib/site-packages/sklearn/pipeline.py?line=363'>364</a>\u001b[0m \u001b[39m\"\"\"Fit the model.\u001b[39;00m\n\u001b[0;32m    <a href='file:///d%3A/ProgramFiles/Anoconda/envs/nursing-env/lib/site-packages/sklearn/pipeline.py?line=364'>365</a>\u001b[0m \n\u001b[0;32m    <a href='file:///d%3A/ProgramFiles/Anoconda/envs/nursing-env/lib/site-packages/sklearn/pipeline.py?line=365'>366</a>\u001b[0m \u001b[39mFit all the transformers one after the other and transform the\u001b[39;00m\n\u001b[1;32m   (...)\u001b[0m\n\u001b[0;32m    <a href='file:///d%3A/ProgramFiles/Anoconda/envs/nursing-env/lib/site-packages/sklearn/pipeline.py?line=386'>387</a>\u001b[0m \u001b[39m    Pipeline with fitted steps.\u001b[39;00m\n\u001b[0;32m    <a href='file:///d%3A/ProgramFiles/Anoconda/envs/nursing-env/lib/site-packages/sklearn/pipeline.py?line=387'>388</a>\u001b[0m \u001b[39m\"\"\"\u001b[39;00m\n\u001b[0;32m    <a href='file:///d%3A/ProgramFiles/Anoconda/envs/nursing-env/lib/site-packages/sklearn/pipeline.py?line=388'>389</a>\u001b[0m fit_params_steps \u001b[39m=\u001b[39m \u001b[39mself\u001b[39m\u001b[39m.\u001b[39m_check_fit_params(\u001b[39m*\u001b[39m\u001b[39m*\u001b[39mfit_params)\n\u001b[1;32m--> <a href='file:///d%3A/ProgramFiles/Anoconda/envs/nursing-env/lib/site-packages/sklearn/pipeline.py?line=389'>390</a>\u001b[0m Xt \u001b[39m=\u001b[39m \u001b[39mself\u001b[39;49m\u001b[39m.\u001b[39;49m_fit(X, y, \u001b[39m*\u001b[39;49m\u001b[39m*\u001b[39;49mfit_params_steps)\n\u001b[0;32m    <a href='file:///d%3A/ProgramFiles/Anoconda/envs/nursing-env/lib/site-packages/sklearn/pipeline.py?line=390'>391</a>\u001b[0m \u001b[39mwith\u001b[39;00m _print_elapsed_time(\u001b[39m\"\u001b[39m\u001b[39mPipeline\u001b[39m\u001b[39m\"\u001b[39m, \u001b[39mself\u001b[39m\u001b[39m.\u001b[39m_log_message(\u001b[39mlen\u001b[39m(\u001b[39mself\u001b[39m\u001b[39m.\u001b[39msteps) \u001b[39m-\u001b[39m \u001b[39m1\u001b[39m)):\n\u001b[0;32m    <a href='file:///d%3A/ProgramFiles/Anoconda/envs/nursing-env/lib/site-packages/sklearn/pipeline.py?line=391'>392</a>\u001b[0m     \u001b[39mif\u001b[39;00m \u001b[39mself\u001b[39m\u001b[39m.\u001b[39m_final_estimator \u001b[39m!=\u001b[39m \u001b[39m\"\u001b[39m\u001b[39mpassthrough\u001b[39m\u001b[39m\"\u001b[39m:\n",
      "File \u001b[1;32mD:\\ProgramFiles\\Anoconda\\envs\\nursing-env\\lib\\site-packages\\sklearn\\pipeline.py:348\u001b[0m, in \u001b[0;36mPipeline._fit\u001b[1;34m(self, X, y, **fit_params_steps)\u001b[0m\n\u001b[0;32m    <a href='file:///d%3A/ProgramFiles/Anoconda/envs/nursing-env/lib/site-packages/sklearn/pipeline.py?line=345'>346</a>\u001b[0m     cloned_transformer \u001b[39m=\u001b[39m clone(transformer)\n\u001b[0;32m    <a href='file:///d%3A/ProgramFiles/Anoconda/envs/nursing-env/lib/site-packages/sklearn/pipeline.py?line=346'>347</a>\u001b[0m \u001b[39m# Fit or load from cache the current transformer\u001b[39;00m\n\u001b[1;32m--> <a href='file:///d%3A/ProgramFiles/Anoconda/envs/nursing-env/lib/site-packages/sklearn/pipeline.py?line=347'>348</a>\u001b[0m X, fitted_transformer \u001b[39m=\u001b[39m fit_transform_one_cached(\n\u001b[0;32m    <a href='file:///d%3A/ProgramFiles/Anoconda/envs/nursing-env/lib/site-packages/sklearn/pipeline.py?line=348'>349</a>\u001b[0m     cloned_transformer,\n\u001b[0;32m    <a href='file:///d%3A/ProgramFiles/Anoconda/envs/nursing-env/lib/site-packages/sklearn/pipeline.py?line=349'>350</a>\u001b[0m     X,\n\u001b[0;32m    <a href='file:///d%3A/ProgramFiles/Anoconda/envs/nursing-env/lib/site-packages/sklearn/pipeline.py?line=350'>351</a>\u001b[0m     y,\n\u001b[0;32m    <a href='file:///d%3A/ProgramFiles/Anoconda/envs/nursing-env/lib/site-packages/sklearn/pipeline.py?line=351'>352</a>\u001b[0m     \u001b[39mNone\u001b[39;49;00m,\n\u001b[0;32m    <a href='file:///d%3A/ProgramFiles/Anoconda/envs/nursing-env/lib/site-packages/sklearn/pipeline.py?line=352'>353</a>\u001b[0m     message_clsname\u001b[39m=\u001b[39;49m\u001b[39m\"\u001b[39;49m\u001b[39mPipeline\u001b[39;49m\u001b[39m\"\u001b[39;49m,\n\u001b[0;32m    <a href='file:///d%3A/ProgramFiles/Anoconda/envs/nursing-env/lib/site-packages/sklearn/pipeline.py?line=353'>354</a>\u001b[0m     message\u001b[39m=\u001b[39;49m\u001b[39mself\u001b[39;49m\u001b[39m.\u001b[39;49m_log_message(step_idx),\n\u001b[0;32m    <a href='file:///d%3A/ProgramFiles/Anoconda/envs/nursing-env/lib/site-packages/sklearn/pipeline.py?line=354'>355</a>\u001b[0m     \u001b[39m*\u001b[39;49m\u001b[39m*\u001b[39;49mfit_params_steps[name],\n\u001b[0;32m    <a href='file:///d%3A/ProgramFiles/Anoconda/envs/nursing-env/lib/site-packages/sklearn/pipeline.py?line=355'>356</a>\u001b[0m )\n\u001b[0;32m    <a href='file:///d%3A/ProgramFiles/Anoconda/envs/nursing-env/lib/site-packages/sklearn/pipeline.py?line=356'>357</a>\u001b[0m \u001b[39m# Replace the transformer of the step with the fitted\u001b[39;00m\n\u001b[0;32m    <a href='file:///d%3A/ProgramFiles/Anoconda/envs/nursing-env/lib/site-packages/sklearn/pipeline.py?line=357'>358</a>\u001b[0m \u001b[39m# transformer. This is necessary when loading the transformer\u001b[39;00m\n\u001b[0;32m    <a href='file:///d%3A/ProgramFiles/Anoconda/envs/nursing-env/lib/site-packages/sklearn/pipeline.py?line=358'>359</a>\u001b[0m \u001b[39m# from the cache.\u001b[39;00m\n\u001b[0;32m    <a href='file:///d%3A/ProgramFiles/Anoconda/envs/nursing-env/lib/site-packages/sklearn/pipeline.py?line=359'>360</a>\u001b[0m \u001b[39mself\u001b[39m\u001b[39m.\u001b[39msteps[step_idx] \u001b[39m=\u001b[39m (name, fitted_transformer)\n",
      "File \u001b[1;32mD:\\ProgramFiles\\Anoconda\\envs\\nursing-env\\lib\\site-packages\\joblib\\memory.py:349\u001b[0m, in \u001b[0;36mNotMemorizedFunc.__call__\u001b[1;34m(self, *args, **kwargs)\u001b[0m\n\u001b[0;32m    <a href='file:///d%3A/ProgramFiles/Anoconda/envs/nursing-env/lib/site-packages/joblib/memory.py?line=347'>348</a>\u001b[0m \u001b[39mdef\u001b[39;00m \u001b[39m__call__\u001b[39m(\u001b[39mself\u001b[39m, \u001b[39m*\u001b[39margs, \u001b[39m*\u001b[39m\u001b[39m*\u001b[39mkwargs):\n\u001b[1;32m--> <a href='file:///d%3A/ProgramFiles/Anoconda/envs/nursing-env/lib/site-packages/joblib/memory.py?line=348'>349</a>\u001b[0m     \u001b[39mreturn\u001b[39;00m \u001b[39mself\u001b[39;49m\u001b[39m.\u001b[39;49mfunc(\u001b[39m*\u001b[39;49margs, \u001b[39m*\u001b[39;49m\u001b[39m*\u001b[39;49mkwargs)\n",
      "File \u001b[1;32mD:\\ProgramFiles\\Anoconda\\envs\\nursing-env\\lib\\site-packages\\sklearn\\pipeline.py:893\u001b[0m, in \u001b[0;36m_fit_transform_one\u001b[1;34m(transformer, X, y, weight, message_clsname, message, **fit_params)\u001b[0m\n\u001b[0;32m    <a href='file:///d%3A/ProgramFiles/Anoconda/envs/nursing-env/lib/site-packages/sklearn/pipeline.py?line=890'>891</a>\u001b[0m \u001b[39mwith\u001b[39;00m _print_elapsed_time(message_clsname, message):\n\u001b[0;32m    <a href='file:///d%3A/ProgramFiles/Anoconda/envs/nursing-env/lib/site-packages/sklearn/pipeline.py?line=891'>892</a>\u001b[0m     \u001b[39mif\u001b[39;00m \u001b[39mhasattr\u001b[39m(transformer, \u001b[39m\"\u001b[39m\u001b[39mfit_transform\u001b[39m\u001b[39m\"\u001b[39m):\n\u001b[1;32m--> <a href='file:///d%3A/ProgramFiles/Anoconda/envs/nursing-env/lib/site-packages/sklearn/pipeline.py?line=892'>893</a>\u001b[0m         res \u001b[39m=\u001b[39m transformer\u001b[39m.\u001b[39;49mfit_transform(X, y, \u001b[39m*\u001b[39;49m\u001b[39m*\u001b[39;49mfit_params)\n\u001b[0;32m    <a href='file:///d%3A/ProgramFiles/Anoconda/envs/nursing-env/lib/site-packages/sklearn/pipeline.py?line=893'>894</a>\u001b[0m     \u001b[39melse\u001b[39;00m:\n\u001b[0;32m    <a href='file:///d%3A/ProgramFiles/Anoconda/envs/nursing-env/lib/site-packages/sklearn/pipeline.py?line=894'>895</a>\u001b[0m         res \u001b[39m=\u001b[39m transformer\u001b[39m.\u001b[39mfit(X, y, \u001b[39m*\u001b[39m\u001b[39m*\u001b[39mfit_params)\u001b[39m.\u001b[39mtransform(X)\n",
      "File \u001b[1;32mD:\\ProgramFiles\\Anoconda\\envs\\nursing-env\\lib\\site-packages\\sklearn\\base.py:855\u001b[0m, in \u001b[0;36mTransformerMixin.fit_transform\u001b[1;34m(self, X, y, **fit_params)\u001b[0m\n\u001b[0;32m    <a href='file:///d%3A/ProgramFiles/Anoconda/envs/nursing-env/lib/site-packages/sklearn/base.py?line=851'>852</a>\u001b[0m     \u001b[39mreturn\u001b[39;00m \u001b[39mself\u001b[39m\u001b[39m.\u001b[39mfit(X, \u001b[39m*\u001b[39m\u001b[39m*\u001b[39mfit_params)\u001b[39m.\u001b[39mtransform(X)\n\u001b[0;32m    <a href='file:///d%3A/ProgramFiles/Anoconda/envs/nursing-env/lib/site-packages/sklearn/base.py?line=852'>853</a>\u001b[0m \u001b[39melse\u001b[39;00m:\n\u001b[0;32m    <a href='file:///d%3A/ProgramFiles/Anoconda/envs/nursing-env/lib/site-packages/sklearn/base.py?line=853'>854</a>\u001b[0m     \u001b[39m# fit method of arity 2 (supervised transformation)\u001b[39;00m\n\u001b[1;32m--> <a href='file:///d%3A/ProgramFiles/Anoconda/envs/nursing-env/lib/site-packages/sklearn/base.py?line=854'>855</a>\u001b[0m     \u001b[39mreturn\u001b[39;00m \u001b[39mself\u001b[39;49m\u001b[39m.\u001b[39;49mfit(X, y, \u001b[39m*\u001b[39;49m\u001b[39m*\u001b[39;49mfit_params)\u001b[39m.\u001b[39mtransform(X)\n",
      "File \u001b[1;32mD:\\ProgramFiles\\Anoconda\\envs\\nursing-env\\lib\\site-packages\\gensim\\sklearn_api\\w2vmodel.py:146\u001b[0m, in \u001b[0;36mW2VTransformer.fit\u001b[1;34m(self, X, y)\u001b[0m\n\u001b[0;32m    <a href='file:///d%3A/ProgramFiles/Anoconda/envs/nursing-env/lib/site-packages/gensim/sklearn_api/w2vmodel.py?line=128'>129</a>\u001b[0m \u001b[39mdef\u001b[39;00m \u001b[39mfit\u001b[39m(\u001b[39mself\u001b[39m, X, y\u001b[39m=\u001b[39m\u001b[39mNone\u001b[39;00m):\n\u001b[0;32m    <a href='file:///d%3A/ProgramFiles/Anoconda/envs/nursing-env/lib/site-packages/gensim/sklearn_api/w2vmodel.py?line=129'>130</a>\u001b[0m     \u001b[39m\"\"\"Fit the model according to the given training data.\u001b[39;00m\n\u001b[0;32m    <a href='file:///d%3A/ProgramFiles/Anoconda/envs/nursing-env/lib/site-packages/gensim/sklearn_api/w2vmodel.py?line=130'>131</a>\u001b[0m \n\u001b[0;32m    <a href='file:///d%3A/ProgramFiles/Anoconda/envs/nursing-env/lib/site-packages/gensim/sklearn_api/w2vmodel.py?line=131'>132</a>\u001b[0m \u001b[39m    Parameters\u001b[39;00m\n\u001b[1;32m   (...)\u001b[0m\n\u001b[0;32m    <a href='file:///d%3A/ProgramFiles/Anoconda/envs/nursing-env/lib/site-packages/gensim/sklearn_api/w2vmodel.py?line=143'>144</a>\u001b[0m \n\u001b[0;32m    <a href='file:///d%3A/ProgramFiles/Anoconda/envs/nursing-env/lib/site-packages/gensim/sklearn_api/w2vmodel.py?line=144'>145</a>\u001b[0m \u001b[39m    \"\"\"\u001b[39;00m\n\u001b[1;32m--> <a href='file:///d%3A/ProgramFiles/Anoconda/envs/nursing-env/lib/site-packages/gensim/sklearn_api/w2vmodel.py?line=145'>146</a>\u001b[0m     \u001b[39mself\u001b[39m\u001b[39m.\u001b[39mgensim_model \u001b[39m=\u001b[39m models\u001b[39m.\u001b[39;49mWord2Vec(\n\u001b[0;32m    <a href='file:///d%3A/ProgramFiles/Anoconda/envs/nursing-env/lib/site-packages/gensim/sklearn_api/w2vmodel.py?line=146'>147</a>\u001b[0m         sentences\u001b[39m=\u001b[39;49mX, size\u001b[39m=\u001b[39;49m\u001b[39mself\u001b[39;49m\u001b[39m.\u001b[39;49msize, alpha\u001b[39m=\u001b[39;49m\u001b[39mself\u001b[39;49m\u001b[39m.\u001b[39;49malpha,\n\u001b[0;32m    <a href='file:///d%3A/ProgramFiles/Anoconda/envs/nursing-env/lib/site-packages/gensim/sklearn_api/w2vmodel.py?line=147'>148</a>\u001b[0m         window\u001b[39m=\u001b[39;49m\u001b[39mself\u001b[39;49m\u001b[39m.\u001b[39;49mwindow, min_count\u001b[39m=\u001b[39;49m\u001b[39mself\u001b[39;49m\u001b[39m.\u001b[39;49mmin_count, max_vocab_size\u001b[39m=\u001b[39;49m\u001b[39mself\u001b[39;49m\u001b[39m.\u001b[39;49mmax_vocab_size,\n\u001b[0;32m    <a href='file:///d%3A/ProgramFiles/Anoconda/envs/nursing-env/lib/site-packages/gensim/sklearn_api/w2vmodel.py?line=148'>149</a>\u001b[0m         sample\u001b[39m=\u001b[39;49m\u001b[39mself\u001b[39;49m\u001b[39m.\u001b[39;49msample, seed\u001b[39m=\u001b[39;49m\u001b[39mself\u001b[39;49m\u001b[39m.\u001b[39;49mseed, workers\u001b[39m=\u001b[39;49m\u001b[39mself\u001b[39;49m\u001b[39m.\u001b[39;49mworkers, min_alpha\u001b[39m=\u001b[39;49m\u001b[39mself\u001b[39;49m\u001b[39m.\u001b[39;49mmin_alpha,\n\u001b[0;32m    <a href='file:///d%3A/ProgramFiles/Anoconda/envs/nursing-env/lib/site-packages/gensim/sklearn_api/w2vmodel.py?line=149'>150</a>\u001b[0m         sg\u001b[39m=\u001b[39;49m\u001b[39mself\u001b[39;49m\u001b[39m.\u001b[39;49msg, hs\u001b[39m=\u001b[39;49m\u001b[39mself\u001b[39;49m\u001b[39m.\u001b[39;49mhs, negative\u001b[39m=\u001b[39;49m\u001b[39mself\u001b[39;49m\u001b[39m.\u001b[39;49mnegative, cbow_mean\u001b[39m=\u001b[39;49m\u001b[39mself\u001b[39;49m\u001b[39m.\u001b[39;49mcbow_mean,\n\u001b[0;32m    <a href='file:///d%3A/ProgramFiles/Anoconda/envs/nursing-env/lib/site-packages/gensim/sklearn_api/w2vmodel.py?line=150'>151</a>\u001b[0m         hashfxn\u001b[39m=\u001b[39;49m\u001b[39mself\u001b[39;49m\u001b[39m.\u001b[39;49mhashfxn, \u001b[39miter\u001b[39;49m\u001b[39m=\u001b[39;49m\u001b[39mself\u001b[39;49m\u001b[39m.\u001b[39;49miter, null_word\u001b[39m=\u001b[39;49m\u001b[39mself\u001b[39;49m\u001b[39m.\u001b[39;49mnull_word, trim_rule\u001b[39m=\u001b[39;49m\u001b[39mself\u001b[39;49m\u001b[39m.\u001b[39;49mtrim_rule,\n\u001b[0;32m    <a href='file:///d%3A/ProgramFiles/Anoconda/envs/nursing-env/lib/site-packages/gensim/sklearn_api/w2vmodel.py?line=151'>152</a>\u001b[0m         sorted_vocab\u001b[39m=\u001b[39;49m\u001b[39mself\u001b[39;49m\u001b[39m.\u001b[39;49msorted_vocab, batch_words\u001b[39m=\u001b[39;49m\u001b[39mself\u001b[39;49m\u001b[39m.\u001b[39;49mbatch_words\n\u001b[0;32m    <a href='file:///d%3A/ProgramFiles/Anoconda/envs/nursing-env/lib/site-packages/gensim/sklearn_api/w2vmodel.py?line=152'>153</a>\u001b[0m     )\n\u001b[0;32m    <a href='file:///d%3A/ProgramFiles/Anoconda/envs/nursing-env/lib/site-packages/gensim/sklearn_api/w2vmodel.py?line=153'>154</a>\u001b[0m     \u001b[39mreturn\u001b[39;00m \u001b[39mself\u001b[39m\n",
      "File \u001b[1;32mD:\\ProgramFiles\\Anoconda\\envs\\nursing-env\\lib\\site-packages\\gensim\\models\\word2vec.py:597\u001b[0m, in \u001b[0;36mWord2Vec.__init__\u001b[1;34m(self, sentences, corpus_file, size, alpha, window, min_count, max_vocab_size, sample, seed, workers, min_alpha, sg, hs, negative, ns_exponent, cbow_mean, hashfxn, iter, null_word, trim_rule, sorted_vocab, batch_words, compute_loss, callbacks, max_final_vocab)\u001b[0m\n\u001b[0;32m    <a href='file:///d%3A/ProgramFiles/Anoconda/envs/nursing-env/lib/site-packages/gensim/models/word2vec.py?line=591'>592</a>\u001b[0m \u001b[39mself\u001b[39m\u001b[39m.\u001b[39mvocabulary \u001b[39m=\u001b[39m Word2VecVocab(\n\u001b[0;32m    <a href='file:///d%3A/ProgramFiles/Anoconda/envs/nursing-env/lib/site-packages/gensim/models/word2vec.py?line=592'>593</a>\u001b[0m     max_vocab_size\u001b[39m=\u001b[39mmax_vocab_size, min_count\u001b[39m=\u001b[39mmin_count, sample\u001b[39m=\u001b[39msample, sorted_vocab\u001b[39m=\u001b[39m\u001b[39mbool\u001b[39m(sorted_vocab),\n\u001b[0;32m    <a href='file:///d%3A/ProgramFiles/Anoconda/envs/nursing-env/lib/site-packages/gensim/models/word2vec.py?line=593'>594</a>\u001b[0m     null_word\u001b[39m=\u001b[39mnull_word, max_final_vocab\u001b[39m=\u001b[39mmax_final_vocab, ns_exponent\u001b[39m=\u001b[39mns_exponent)\n\u001b[0;32m    <a href='file:///d%3A/ProgramFiles/Anoconda/envs/nursing-env/lib/site-packages/gensim/models/word2vec.py?line=594'>595</a>\u001b[0m \u001b[39mself\u001b[39m\u001b[39m.\u001b[39mtrainables \u001b[39m=\u001b[39m Word2VecTrainables(seed\u001b[39m=\u001b[39mseed, vector_size\u001b[39m=\u001b[39msize, hashfxn\u001b[39m=\u001b[39mhashfxn)\n\u001b[1;32m--> <a href='file:///d%3A/ProgramFiles/Anoconda/envs/nursing-env/lib/site-packages/gensim/models/word2vec.py?line=596'>597</a>\u001b[0m \u001b[39msuper\u001b[39;49m(Word2Vec, \u001b[39mself\u001b[39;49m)\u001b[39m.\u001b[39;49m\u001b[39m__init__\u001b[39;49m(\n\u001b[0;32m    <a href='file:///d%3A/ProgramFiles/Anoconda/envs/nursing-env/lib/site-packages/gensim/models/word2vec.py?line=597'>598</a>\u001b[0m     sentences\u001b[39m=\u001b[39;49msentences, corpus_file\u001b[39m=\u001b[39;49mcorpus_file, workers\u001b[39m=\u001b[39;49mworkers, vector_size\u001b[39m=\u001b[39;49msize, epochs\u001b[39m=\u001b[39;49m\u001b[39miter\u001b[39;49m,\n\u001b[0;32m    <a href='file:///d%3A/ProgramFiles/Anoconda/envs/nursing-env/lib/site-packages/gensim/models/word2vec.py?line=598'>599</a>\u001b[0m     callbacks\u001b[39m=\u001b[39;49mcallbacks, batch_words\u001b[39m=\u001b[39;49mbatch_words, trim_rule\u001b[39m=\u001b[39;49mtrim_rule, sg\u001b[39m=\u001b[39;49msg, alpha\u001b[39m=\u001b[39;49malpha, window\u001b[39m=\u001b[39;49mwindow,\n\u001b[0;32m    <a href='file:///d%3A/ProgramFiles/Anoconda/envs/nursing-env/lib/site-packages/gensim/models/word2vec.py?line=599'>600</a>\u001b[0m     seed\u001b[39m=\u001b[39;49mseed, hs\u001b[39m=\u001b[39;49mhs, negative\u001b[39m=\u001b[39;49mnegative, cbow_mean\u001b[39m=\u001b[39;49mcbow_mean, min_alpha\u001b[39m=\u001b[39;49mmin_alpha, compute_loss\u001b[39m=\u001b[39;49mcompute_loss)\n",
      "File \u001b[1;32mD:\\ProgramFiles\\Anoconda\\envs\\nursing-env\\lib\\site-packages\\gensim\\models\\base_any2vec.py:745\u001b[0m, in \u001b[0;36mBaseWordEmbeddingsModel.__init__\u001b[1;34m(self, sentences, corpus_file, workers, vector_size, epochs, callbacks, batch_words, trim_rule, sg, alpha, window, seed, hs, negative, ns_exponent, cbow_mean, min_alpha, compute_loss, **kwargs)\u001b[0m\n\u001b[0;32m    <a href='file:///d%3A/ProgramFiles/Anoconda/envs/nursing-env/lib/site-packages/gensim/models/base_any2vec.py?line=741'>742</a>\u001b[0m     \u001b[39melif\u001b[39;00m \u001b[39misinstance\u001b[39m(sentences, GeneratorType):\n\u001b[0;32m    <a href='file:///d%3A/ProgramFiles/Anoconda/envs/nursing-env/lib/site-packages/gensim/models/base_any2vec.py?line=742'>743</a>\u001b[0m         \u001b[39mraise\u001b[39;00m \u001b[39mTypeError\u001b[39;00m(\u001b[39m\"\u001b[39m\u001b[39mYou can\u001b[39m\u001b[39m'\u001b[39m\u001b[39mt pass a generator as the sentences argument. Try a sequence.\u001b[39m\u001b[39m\"\u001b[39m)\n\u001b[1;32m--> <a href='file:///d%3A/ProgramFiles/Anoconda/envs/nursing-env/lib/site-packages/gensim/models/base_any2vec.py?line=744'>745</a>\u001b[0m     \u001b[39mself\u001b[39;49m\u001b[39m.\u001b[39;49mbuild_vocab(sentences\u001b[39m=\u001b[39;49msentences, corpus_file\u001b[39m=\u001b[39;49mcorpus_file, trim_rule\u001b[39m=\u001b[39;49mtrim_rule)\n\u001b[0;32m    <a href='file:///d%3A/ProgramFiles/Anoconda/envs/nursing-env/lib/site-packages/gensim/models/base_any2vec.py?line=745'>746</a>\u001b[0m     \u001b[39mself\u001b[39m\u001b[39m.\u001b[39mtrain(\n\u001b[0;32m    <a href='file:///d%3A/ProgramFiles/Anoconda/envs/nursing-env/lib/site-packages/gensim/models/base_any2vec.py?line=746'>747</a>\u001b[0m         sentences\u001b[39m=\u001b[39msentences, corpus_file\u001b[39m=\u001b[39mcorpus_file, total_examples\u001b[39m=\u001b[39m\u001b[39mself\u001b[39m\u001b[39m.\u001b[39mcorpus_count,\n\u001b[0;32m    <a href='file:///d%3A/ProgramFiles/Anoconda/envs/nursing-env/lib/site-packages/gensim/models/base_any2vec.py?line=747'>748</a>\u001b[0m         total_words\u001b[39m=\u001b[39m\u001b[39mself\u001b[39m\u001b[39m.\u001b[39mcorpus_total_words, epochs\u001b[39m=\u001b[39m\u001b[39mself\u001b[39m\u001b[39m.\u001b[39mepochs, start_alpha\u001b[39m=\u001b[39m\u001b[39mself\u001b[39m\u001b[39m.\u001b[39malpha,\n\u001b[0;32m    <a href='file:///d%3A/ProgramFiles/Anoconda/envs/nursing-env/lib/site-packages/gensim/models/base_any2vec.py?line=748'>749</a>\u001b[0m         end_alpha\u001b[39m=\u001b[39m\u001b[39mself\u001b[39m\u001b[39m.\u001b[39mmin_alpha, compute_loss\u001b[39m=\u001b[39mcompute_loss)\n\u001b[0;32m    <a href='file:///d%3A/ProgramFiles/Anoconda/envs/nursing-env/lib/site-packages/gensim/models/base_any2vec.py?line=749'>750</a>\u001b[0m \u001b[39melse\u001b[39;00m:\n",
      "File \u001b[1;32mD:\\ProgramFiles\\Anoconda\\envs\\nursing-env\\lib\\site-packages\\gensim\\models\\base_any2vec.py:921\u001b[0m, in \u001b[0;36mBaseWordEmbeddingsModel.build_vocab\u001b[1;34m(self, sentences, corpus_file, update, progress_per, keep_raw_vocab, trim_rule, **kwargs)\u001b[0m\n\u001b[0;32m    <a href='file:///d%3A/ProgramFiles/Anoconda/envs/nursing-env/lib/site-packages/gensim/models/base_any2vec.py?line=881'>882</a>\u001b[0m \u001b[39mdef\u001b[39;00m \u001b[39mbuild_vocab\u001b[39m(\u001b[39mself\u001b[39m, sentences\u001b[39m=\u001b[39m\u001b[39mNone\u001b[39;00m, corpus_file\u001b[39m=\u001b[39m\u001b[39mNone\u001b[39;00m, update\u001b[39m=\u001b[39m\u001b[39mFalse\u001b[39;00m, progress_per\u001b[39m=\u001b[39m\u001b[39m10000\u001b[39m,\n\u001b[0;32m    <a href='file:///d%3A/ProgramFiles/Anoconda/envs/nursing-env/lib/site-packages/gensim/models/base_any2vec.py?line=882'>883</a>\u001b[0m                 keep_raw_vocab\u001b[39m=\u001b[39m\u001b[39mFalse\u001b[39;00m, trim_rule\u001b[39m=\u001b[39m\u001b[39mNone\u001b[39;00m, \u001b[39m*\u001b[39m\u001b[39m*\u001b[39mkwargs):\n\u001b[0;32m    <a href='file:///d%3A/ProgramFiles/Anoconda/envs/nursing-env/lib/site-packages/gensim/models/base_any2vec.py?line=883'>884</a>\u001b[0m     \u001b[39m\"\"\"Build vocabulary from a sequence of sentences (can be a once-only generator stream).\u001b[39;00m\n\u001b[0;32m    <a href='file:///d%3A/ProgramFiles/Anoconda/envs/nursing-env/lib/site-packages/gensim/models/base_any2vec.py?line=884'>885</a>\u001b[0m \n\u001b[0;32m    <a href='file:///d%3A/ProgramFiles/Anoconda/envs/nursing-env/lib/site-packages/gensim/models/base_any2vec.py?line=885'>886</a>\u001b[0m \u001b[39m    Parameters\u001b[39;00m\n\u001b[1;32m   (...)\u001b[0m\n\u001b[0;32m    <a href='file:///d%3A/ProgramFiles/Anoconda/envs/nursing-env/lib/site-packages/gensim/models/base_any2vec.py?line=918'>919</a>\u001b[0m \n\u001b[0;32m    <a href='file:///d%3A/ProgramFiles/Anoconda/envs/nursing-env/lib/site-packages/gensim/models/base_any2vec.py?line=919'>920</a>\u001b[0m \u001b[39m    \"\"\"\u001b[39;00m\n\u001b[1;32m--> <a href='file:///d%3A/ProgramFiles/Anoconda/envs/nursing-env/lib/site-packages/gensim/models/base_any2vec.py?line=920'>921</a>\u001b[0m     total_words, corpus_count \u001b[39m=\u001b[39m \u001b[39mself\u001b[39;49m\u001b[39m.\u001b[39;49mvocabulary\u001b[39m.\u001b[39;49mscan_vocab(\n\u001b[0;32m    <a href='file:///d%3A/ProgramFiles/Anoconda/envs/nursing-env/lib/site-packages/gensim/models/base_any2vec.py?line=921'>922</a>\u001b[0m         sentences\u001b[39m=\u001b[39;49msentences, corpus_file\u001b[39m=\u001b[39;49mcorpus_file, progress_per\u001b[39m=\u001b[39;49mprogress_per, trim_rule\u001b[39m=\u001b[39;49mtrim_rule)\n\u001b[0;32m    <a href='file:///d%3A/ProgramFiles/Anoconda/envs/nursing-env/lib/site-packages/gensim/models/base_any2vec.py?line=922'>923</a>\u001b[0m     \u001b[39mself\u001b[39m\u001b[39m.\u001b[39mcorpus_count \u001b[39m=\u001b[39m corpus_count\n\u001b[0;32m    <a href='file:///d%3A/ProgramFiles/Anoconda/envs/nursing-env/lib/site-packages/gensim/models/base_any2vec.py?line=923'>924</a>\u001b[0m     \u001b[39mself\u001b[39m\u001b[39m.\u001b[39mcorpus_total_words \u001b[39m=\u001b[39m total_words\n",
      "File \u001b[1;32mD:\\ProgramFiles\\Anoconda\\envs\\nursing-env\\lib\\site-packages\\gensim\\models\\word2vec.py:1403\u001b[0m, in \u001b[0;36mWord2VecVocab.scan_vocab\u001b[1;34m(self, sentences, corpus_file, progress_per, workers, trim_rule)\u001b[0m\n\u001b[0;32m   <a href='file:///d%3A/ProgramFiles/Anoconda/envs/nursing-env/lib/site-packages/gensim/models/word2vec.py?line=1399'>1400</a>\u001b[0m \u001b[39mif\u001b[39;00m corpus_file:\n\u001b[0;32m   <a href='file:///d%3A/ProgramFiles/Anoconda/envs/nursing-env/lib/site-packages/gensim/models/word2vec.py?line=1400'>1401</a>\u001b[0m     sentences \u001b[39m=\u001b[39m LineSentence(corpus_file)\n\u001b[1;32m-> <a href='file:///d%3A/ProgramFiles/Anoconda/envs/nursing-env/lib/site-packages/gensim/models/word2vec.py?line=1402'>1403</a>\u001b[0m total_words, corpus_count \u001b[39m=\u001b[39m \u001b[39mself\u001b[39;49m\u001b[39m.\u001b[39;49m_scan_vocab(sentences, progress_per, trim_rule)\n\u001b[0;32m   <a href='file:///d%3A/ProgramFiles/Anoconda/envs/nursing-env/lib/site-packages/gensim/models/word2vec.py?line=1404'>1405</a>\u001b[0m logger\u001b[39m.\u001b[39minfo(\n\u001b[0;32m   <a href='file:///d%3A/ProgramFiles/Anoconda/envs/nursing-env/lib/site-packages/gensim/models/word2vec.py?line=1405'>1406</a>\u001b[0m     \u001b[39m\"\u001b[39m\u001b[39mcollected \u001b[39m\u001b[39m%i\u001b[39;00m\u001b[39m word types from a corpus of \u001b[39m\u001b[39m%i\u001b[39;00m\u001b[39m raw words and \u001b[39m\u001b[39m%i\u001b[39;00m\u001b[39m sentences\u001b[39m\u001b[39m\"\u001b[39m,\n\u001b[0;32m   <a href='file:///d%3A/ProgramFiles/Anoconda/envs/nursing-env/lib/site-packages/gensim/models/word2vec.py?line=1406'>1407</a>\u001b[0m     \u001b[39mlen\u001b[39m(\u001b[39mself\u001b[39m\u001b[39m.\u001b[39mraw_vocab), total_words, corpus_count\n\u001b[0;32m   <a href='file:///d%3A/ProgramFiles/Anoconda/envs/nursing-env/lib/site-packages/gensim/models/word2vec.py?line=1407'>1408</a>\u001b[0m )\n\u001b[0;32m   <a href='file:///d%3A/ProgramFiles/Anoconda/envs/nursing-env/lib/site-packages/gensim/models/word2vec.py?line=1409'>1410</a>\u001b[0m \u001b[39mreturn\u001b[39;00m total_words, corpus_count\n",
      "File \u001b[1;32mD:\\ProgramFiles\\Anoconda\\envs\\nursing-env\\lib\\site-packages\\gensim\\models\\word2vec.py:1386\u001b[0m, in \u001b[0;36mWord2VecVocab._scan_vocab\u001b[1;34m(self, sentences, progress_per, trim_rule)\u001b[0m\n\u001b[0;32m   <a href='file:///d%3A/ProgramFiles/Anoconda/envs/nursing-env/lib/site-packages/gensim/models/word2vec.py?line=1380'>1381</a>\u001b[0m \u001b[39mif\u001b[39;00m sentence_no \u001b[39m%\u001b[39m progress_per \u001b[39m==\u001b[39m \u001b[39m0\u001b[39m:\n\u001b[0;32m   <a href='file:///d%3A/ProgramFiles/Anoconda/envs/nursing-env/lib/site-packages/gensim/models/word2vec.py?line=1381'>1382</a>\u001b[0m     logger\u001b[39m.\u001b[39minfo(\n\u001b[0;32m   <a href='file:///d%3A/ProgramFiles/Anoconda/envs/nursing-env/lib/site-packages/gensim/models/word2vec.py?line=1382'>1383</a>\u001b[0m         \u001b[39m\"\u001b[39m\u001b[39mPROGRESS: at sentence #\u001b[39m\u001b[39m%i\u001b[39;00m\u001b[39m, processed \u001b[39m\u001b[39m%i\u001b[39;00m\u001b[39m words, keeping \u001b[39m\u001b[39m%i\u001b[39;00m\u001b[39m word types\u001b[39m\u001b[39m\"\u001b[39m,\n\u001b[0;32m   <a href='file:///d%3A/ProgramFiles/Anoconda/envs/nursing-env/lib/site-packages/gensim/models/word2vec.py?line=1383'>1384</a>\u001b[0m         sentence_no, total_words, \u001b[39mlen\u001b[39m(vocab)\n\u001b[0;32m   <a href='file:///d%3A/ProgramFiles/Anoconda/envs/nursing-env/lib/site-packages/gensim/models/word2vec.py?line=1384'>1385</a>\u001b[0m     )\n\u001b[1;32m-> <a href='file:///d%3A/ProgramFiles/Anoconda/envs/nursing-env/lib/site-packages/gensim/models/word2vec.py?line=1385'>1386</a>\u001b[0m \u001b[39mfor\u001b[39;00m word \u001b[39min\u001b[39;00m sentence:\n\u001b[0;32m   <a href='file:///d%3A/ProgramFiles/Anoconda/envs/nursing-env/lib/site-packages/gensim/models/word2vec.py?line=1386'>1387</a>\u001b[0m     vocab[word] \u001b[39m+\u001b[39m\u001b[39m=\u001b[39m \u001b[39m1\u001b[39m\n\u001b[0;32m   <a href='file:///d%3A/ProgramFiles/Anoconda/envs/nursing-env/lib/site-packages/gensim/models/word2vec.py?line=1387'>1388</a>\u001b[0m total_words \u001b[39m+\u001b[39m\u001b[39m=\u001b[39m \u001b[39mlen\u001b[39m(sentence)\n",
      "\u001b[1;31mTypeError\u001b[0m: 'float' object is not iterable"
     ]
    }
   ],
   "source": [
    "from sklearn.metrics import accuracy_score\n",
    "from scipy.stats import randint, uniform\n",
    "import matplotlib.pyplot  as plt\n",
    "from sklearn.metrics import accuracy_score\n",
    "\n",
    "xgb_model.fit(x_train, y_train)\n",
    "\n",
    "y_test_pred = xgb_model.predict(x_test)\n",
    "test_score = accuracy_score(y_test, y_test_pred)\n",
    "\n",
    "\n",
    "### model evaluate\n",
    "accuracy = accuracy_score(y_test,y_test_pred)\n",
    "print(\"accuarcy: %.5f%%\" % (accuracy*100.0))"
   ]
  },
  {
   "cell_type": "code",
   "execution_count": null,
   "metadata": {},
   "outputs": [],
   "source": [
    "import joblib\n",
    "import os\n",
    "joblib.dump(xgb_model, os.path.join(SAVING_DIR, 'xgb_model.joblib'))"
   ]
  },
  {
   "cell_type": "code",
   "execution_count": 12,
   "metadata": {},
   "outputs": [
    {
     "name": "stdout",
     "output_type": "stream",
     "text": [
      "Fitting 3 folds for each of 10 candidates, totalling 30 fits\n"
     ]
    },
    {
     "name": "stderr",
     "output_type": "stream",
     "text": [
      "D:\\ProgramFiles\\Anoconda\\envs\\nursing-env\\lib\\site-packages\\sklearn\\model_selection\\_validation.py:372: FitFailedWarning: \n",
      "30 fits failed out of a total of 30.\n",
      "The score on these train-test partitions for these parameters will be set to nan.\n",
      "If these failures are not expected, you can try to debug them by setting error_score='raise'.\n",
      "\n",
      "Below are more details about the failures:\n",
      "--------------------------------------------------------------------------------\n",
      "30 fits failed with the following error:\n",
      "Traceback (most recent call last):\n",
      "  File \"D:\\ProgramFiles\\Anoconda\\envs\\nursing-env\\lib\\site-packages\\sklearn\\model_selection\\_validation.py\", line 680, in _fit_and_score\n",
      "    estimator.fit(X_train, y_train, **fit_params)\n",
      "  File \"D:\\ProgramFiles\\Anoconda\\envs\\nursing-env\\lib\\site-packages\\sklearn\\pipeline.py\", line 390, in fit\n",
      "    Xt = self._fit(X, y, **fit_params_steps)\n",
      "  File \"D:\\ProgramFiles\\Anoconda\\envs\\nursing-env\\lib\\site-packages\\sklearn\\pipeline.py\", line 348, in _fit\n",
      "    X, fitted_transformer = fit_transform_one_cached(\n",
      "  File \"D:\\ProgramFiles\\Anoconda\\envs\\nursing-env\\lib\\site-packages\\joblib\\memory.py\", line 349, in __call__\n",
      "    return self.func(*args, **kwargs)\n",
      "  File \"D:\\ProgramFiles\\Anoconda\\envs\\nursing-env\\lib\\site-packages\\sklearn\\pipeline.py\", line 893, in _fit_transform_one\n",
      "    res = transformer.fit_transform(X, y, **fit_params)\n",
      "  File \"D:\\ProgramFiles\\Anoconda\\envs\\nursing-env\\lib\\site-packages\\sklearn\\base.py\", line 855, in fit_transform\n",
      "    return self.fit(X, y, **fit_params).transform(X)\n",
      "  File \"d:\\CodeRepositories\\py_project\\data_mining\\DataMiningMid_Classification\\models\\sklearn_api\\w2vmodel.py\", line 112, in fit\n",
      "    self.gensim_model = models.Word2Vec(\n",
      "TypeError: __init__() got an unexpected keyword argument 'size'\n",
      "\n",
      "  warnings.warn(some_fits_failed_message, FitFailedWarning)\n",
      "D:\\ProgramFiles\\Anoconda\\envs\\nursing-env\\lib\\site-packages\\sklearn\\model_selection\\_search.py:969: UserWarning: One or more of the test scores are non-finite: [nan nan nan nan nan nan nan nan nan nan]\n",
      "  warnings.warn(\n"
     ]
    },
    {
     "ename": "TypeError",
     "evalue": "__init__() got an unexpected keyword argument 'size'",
     "output_type": "error",
     "traceback": [
      "\u001b[1;31m---------------------------------------------------------------------------\u001b[0m",
      "\u001b[1;31mTypeError\u001b[0m                                 Traceback (most recent call last)",
      "\u001b[1;32md:\\CodeRepositories\\py_project\\data_mining\\DataMiningMid_Classification\\models\\main.ipynb Cell 27'\u001b[0m in \u001b[0;36m<cell line: 19>\u001b[1;34m()\u001b[0m\n\u001b[0;32m     <a href='vscode-notebook-cell:/d%3A/CodeRepositories/py_project/data_mining/DataMiningMid_Classification/models/main.ipynb#ch0000037?line=11'>12</a>\u001b[0m xgb_params \u001b[39m=\u001b[39m {\u001b[39m'\u001b[39m\u001b[39mxgb__max_depth\u001b[39m\u001b[39m'\u001b[39m: randint(low\u001b[39m=\u001b[39m\u001b[39m3\u001b[39m, high\u001b[39m=\u001b[39m\u001b[39m12\u001b[39m),\n\u001b[0;32m     <a href='vscode-notebook-cell:/d%3A/CodeRepositories/py_project/data_mining/DataMiningMid_Classification/models/main.ipynb#ch0000037?line=12'>13</a>\u001b[0m               \u001b[39m'\u001b[39m\u001b[39mxgb__colsample_bytree\u001b[39m\u001b[39m'\u001b[39m: uniform(loc\u001b[39m=\u001b[39m\u001b[39m0.8\u001b[39m, scale\u001b[39m=\u001b[39m\u001b[39m0.2\u001b[39m),\n\u001b[0;32m     <a href='vscode-notebook-cell:/d%3A/CodeRepositories/py_project/data_mining/DataMiningMid_Classification/models/main.ipynb#ch0000037?line=13'>14</a>\u001b[0m               \u001b[39m'\u001b[39m\u001b[39mxgb__subsample\u001b[39m\u001b[39m'\u001b[39m: uniform(loc\u001b[39m=\u001b[39m\u001b[39m0.8\u001b[39m, scale\u001b[39m=\u001b[39m\u001b[39m0.2\u001b[39m)}\n\u001b[0;32m     <a href='vscode-notebook-cell:/d%3A/CodeRepositories/py_project/data_mining/DataMiningMid_Classification/models/main.ipynb#ch0000037?line=15'>16</a>\u001b[0m params\u001b[39m=\u001b[39m{\u001b[39m*\u001b[39m\u001b[39m*\u001b[39mw2v_params, \u001b[39m*\u001b[39m\u001b[39m*\u001b[39mxgb_params}\n\u001b[1;32m---> <a href='vscode-notebook-cell:/d%3A/CodeRepositories/py_project/data_mining/DataMiningMid_Classification/models/main.ipynb#ch0000037?line=18'>19</a>\u001b[0m grid \u001b[39m=\u001b[39m RandomizedSearchCV(\n\u001b[0;32m     <a href='vscode-notebook-cell:/d%3A/CodeRepositories/py_project/data_mining/DataMiningMid_Classification/models/main.ipynb#ch0000037?line=19'>20</a>\u001b[0m     estimator\u001b[39m=\u001b[39;49mxgb_model,\n\u001b[0;32m     <a href='vscode-notebook-cell:/d%3A/CodeRepositories/py_project/data_mining/DataMiningMid_Classification/models/main.ipynb#ch0000037?line=20'>21</a>\u001b[0m     param_distributions\u001b[39m=\u001b[39;49mparams,\n\u001b[0;32m     <a href='vscode-notebook-cell:/d%3A/CodeRepositories/py_project/data_mining/DataMiningMid_Classification/models/main.ipynb#ch0000037?line=21'>22</a>\u001b[0m     cv\u001b[39m=\u001b[39;49mcv,\n\u001b[0;32m     <a href='vscode-notebook-cell:/d%3A/CodeRepositories/py_project/data_mining/DataMiningMid_Classification/models/main.ipynb#ch0000037?line=22'>23</a>\u001b[0m     n_iter\u001b[39m=\u001b[39;49mn_iter,\n\u001b[0;32m     <a href='vscode-notebook-cell:/d%3A/CodeRepositories/py_project/data_mining/DataMiningMid_Classification/models/main.ipynb#ch0000037?line=23'>24</a>\u001b[0m     n_jobs\u001b[39m=\u001b[39;49m\u001b[39m-\u001b[39;49m\u001b[39m1\u001b[39;49m,\n\u001b[0;32m     <a href='vscode-notebook-cell:/d%3A/CodeRepositories/py_project/data_mining/DataMiningMid_Classification/models/main.ipynb#ch0000037?line=24'>25</a>\u001b[0m     verbose\u001b[39m=\u001b[39;49m\u001b[39m1\u001b[39;49m,\n\u001b[0;32m     <a href='vscode-notebook-cell:/d%3A/CodeRepositories/py_project/data_mining/DataMiningMid_Classification/models/main.ipynb#ch0000037?line=25'>26</a>\u001b[0m     scoring\u001b[39m=\u001b[39;49mscoring,\n\u001b[0;32m     <a href='vscode-notebook-cell:/d%3A/CodeRepositories/py_project/data_mining/DataMiningMid_Classification/models/main.ipynb#ch0000037?line=26'>27</a>\u001b[0m     random_state\u001b[39m=\u001b[39;49mrandom_state,\n\u001b[0;32m     <a href='vscode-notebook-cell:/d%3A/CodeRepositories/py_project/data_mining/DataMiningMid_Classification/models/main.ipynb#ch0000037?line=27'>28</a>\u001b[0m     return_train_score\u001b[39m=\u001b[39;49m\u001b[39mFalse\u001b[39;49;00m\n\u001b[0;32m     <a href='vscode-notebook-cell:/d%3A/CodeRepositories/py_project/data_mining/DataMiningMid_Classification/models/main.ipynb#ch0000037?line=28'>29</a>\u001b[0m )\u001b[39m.\u001b[39;49mfit(x_train, y_train)\n\u001b[0;32m     <a href='vscode-notebook-cell:/d%3A/CodeRepositories/py_project/data_mining/DataMiningMid_Classification/models/main.ipynb#ch0000037?line=30'>31</a>\u001b[0m y_test_pred \u001b[39m=\u001b[39m grid\u001b[39m.\u001b[39mpredict(x_test)\n\u001b[0;32m     <a href='vscode-notebook-cell:/d%3A/CodeRepositories/py_project/data_mining/DataMiningMid_Classification/models/main.ipynb#ch0000037?line=31'>32</a>\u001b[0m test_score \u001b[39m=\u001b[39m accuracy_score(y_test, y_test_pred)\n",
      "File \u001b[1;32mD:\\ProgramFiles\\Anoconda\\envs\\nursing-env\\lib\\site-packages\\sklearn\\model_selection\\_search.py:926\u001b[0m, in \u001b[0;36mBaseSearchCV.fit\u001b[1;34m(self, X, y, groups, **fit_params)\u001b[0m\n\u001b[0;32m    <a href='file:///d%3A/ProgramFiles/Anoconda/envs/nursing-env/lib/site-packages/sklearn/model_selection/_search.py?line=923'>924</a>\u001b[0m refit_start_time \u001b[39m=\u001b[39m time\u001b[39m.\u001b[39mtime()\n\u001b[0;32m    <a href='file:///d%3A/ProgramFiles/Anoconda/envs/nursing-env/lib/site-packages/sklearn/model_selection/_search.py?line=924'>925</a>\u001b[0m \u001b[39mif\u001b[39;00m y \u001b[39mis\u001b[39;00m \u001b[39mnot\u001b[39;00m \u001b[39mNone\u001b[39;00m:\n\u001b[1;32m--> <a href='file:///d%3A/ProgramFiles/Anoconda/envs/nursing-env/lib/site-packages/sklearn/model_selection/_search.py?line=925'>926</a>\u001b[0m     \u001b[39mself\u001b[39;49m\u001b[39m.\u001b[39;49mbest_estimator_\u001b[39m.\u001b[39;49mfit(X, y, \u001b[39m*\u001b[39;49m\u001b[39m*\u001b[39;49mfit_params)\n\u001b[0;32m    <a href='file:///d%3A/ProgramFiles/Anoconda/envs/nursing-env/lib/site-packages/sklearn/model_selection/_search.py?line=926'>927</a>\u001b[0m \u001b[39melse\u001b[39;00m:\n\u001b[0;32m    <a href='file:///d%3A/ProgramFiles/Anoconda/envs/nursing-env/lib/site-packages/sklearn/model_selection/_search.py?line=927'>928</a>\u001b[0m     \u001b[39mself\u001b[39m\u001b[39m.\u001b[39mbest_estimator_\u001b[39m.\u001b[39mfit(X, \u001b[39m*\u001b[39m\u001b[39m*\u001b[39mfit_params)\n",
      "File \u001b[1;32mD:\\ProgramFiles\\Anoconda\\envs\\nursing-env\\lib\\site-packages\\sklearn\\pipeline.py:390\u001b[0m, in \u001b[0;36mPipeline.fit\u001b[1;34m(self, X, y, **fit_params)\u001b[0m\n\u001b[0;32m    <a href='file:///d%3A/ProgramFiles/Anoconda/envs/nursing-env/lib/site-packages/sklearn/pipeline.py?line=363'>364</a>\u001b[0m \u001b[39m\"\"\"Fit the model.\u001b[39;00m\n\u001b[0;32m    <a href='file:///d%3A/ProgramFiles/Anoconda/envs/nursing-env/lib/site-packages/sklearn/pipeline.py?line=364'>365</a>\u001b[0m \n\u001b[0;32m    <a href='file:///d%3A/ProgramFiles/Anoconda/envs/nursing-env/lib/site-packages/sklearn/pipeline.py?line=365'>366</a>\u001b[0m \u001b[39mFit all the transformers one after the other and transform the\u001b[39;00m\n\u001b[1;32m   (...)\u001b[0m\n\u001b[0;32m    <a href='file:///d%3A/ProgramFiles/Anoconda/envs/nursing-env/lib/site-packages/sklearn/pipeline.py?line=386'>387</a>\u001b[0m \u001b[39m    Pipeline with fitted steps.\u001b[39;00m\n\u001b[0;32m    <a href='file:///d%3A/ProgramFiles/Anoconda/envs/nursing-env/lib/site-packages/sklearn/pipeline.py?line=387'>388</a>\u001b[0m \u001b[39m\"\"\"\u001b[39;00m\n\u001b[0;32m    <a href='file:///d%3A/ProgramFiles/Anoconda/envs/nursing-env/lib/site-packages/sklearn/pipeline.py?line=388'>389</a>\u001b[0m fit_params_steps \u001b[39m=\u001b[39m \u001b[39mself\u001b[39m\u001b[39m.\u001b[39m_check_fit_params(\u001b[39m*\u001b[39m\u001b[39m*\u001b[39mfit_params)\n\u001b[1;32m--> <a href='file:///d%3A/ProgramFiles/Anoconda/envs/nursing-env/lib/site-packages/sklearn/pipeline.py?line=389'>390</a>\u001b[0m Xt \u001b[39m=\u001b[39m \u001b[39mself\u001b[39;49m\u001b[39m.\u001b[39;49m_fit(X, y, \u001b[39m*\u001b[39;49m\u001b[39m*\u001b[39;49mfit_params_steps)\n\u001b[0;32m    <a href='file:///d%3A/ProgramFiles/Anoconda/envs/nursing-env/lib/site-packages/sklearn/pipeline.py?line=390'>391</a>\u001b[0m \u001b[39mwith\u001b[39;00m _print_elapsed_time(\u001b[39m\"\u001b[39m\u001b[39mPipeline\u001b[39m\u001b[39m\"\u001b[39m, \u001b[39mself\u001b[39m\u001b[39m.\u001b[39m_log_message(\u001b[39mlen\u001b[39m(\u001b[39mself\u001b[39m\u001b[39m.\u001b[39msteps) \u001b[39m-\u001b[39m \u001b[39m1\u001b[39m)):\n\u001b[0;32m    <a href='file:///d%3A/ProgramFiles/Anoconda/envs/nursing-env/lib/site-packages/sklearn/pipeline.py?line=391'>392</a>\u001b[0m     \u001b[39mif\u001b[39;00m \u001b[39mself\u001b[39m\u001b[39m.\u001b[39m_final_estimator \u001b[39m!=\u001b[39m \u001b[39m\"\u001b[39m\u001b[39mpassthrough\u001b[39m\u001b[39m\"\u001b[39m:\n",
      "File \u001b[1;32mD:\\ProgramFiles\\Anoconda\\envs\\nursing-env\\lib\\site-packages\\sklearn\\pipeline.py:348\u001b[0m, in \u001b[0;36mPipeline._fit\u001b[1;34m(self, X, y, **fit_params_steps)\u001b[0m\n\u001b[0;32m    <a href='file:///d%3A/ProgramFiles/Anoconda/envs/nursing-env/lib/site-packages/sklearn/pipeline.py?line=345'>346</a>\u001b[0m     cloned_transformer \u001b[39m=\u001b[39m clone(transformer)\n\u001b[0;32m    <a href='file:///d%3A/ProgramFiles/Anoconda/envs/nursing-env/lib/site-packages/sklearn/pipeline.py?line=346'>347</a>\u001b[0m \u001b[39m# Fit or load from cache the current transformer\u001b[39;00m\n\u001b[1;32m--> <a href='file:///d%3A/ProgramFiles/Anoconda/envs/nursing-env/lib/site-packages/sklearn/pipeline.py?line=347'>348</a>\u001b[0m X, fitted_transformer \u001b[39m=\u001b[39m fit_transform_one_cached(\n\u001b[0;32m    <a href='file:///d%3A/ProgramFiles/Anoconda/envs/nursing-env/lib/site-packages/sklearn/pipeline.py?line=348'>349</a>\u001b[0m     cloned_transformer,\n\u001b[0;32m    <a href='file:///d%3A/ProgramFiles/Anoconda/envs/nursing-env/lib/site-packages/sklearn/pipeline.py?line=349'>350</a>\u001b[0m     X,\n\u001b[0;32m    <a href='file:///d%3A/ProgramFiles/Anoconda/envs/nursing-env/lib/site-packages/sklearn/pipeline.py?line=350'>351</a>\u001b[0m     y,\n\u001b[0;32m    <a href='file:///d%3A/ProgramFiles/Anoconda/envs/nursing-env/lib/site-packages/sklearn/pipeline.py?line=351'>352</a>\u001b[0m     \u001b[39mNone\u001b[39;49;00m,\n\u001b[0;32m    <a href='file:///d%3A/ProgramFiles/Anoconda/envs/nursing-env/lib/site-packages/sklearn/pipeline.py?line=352'>353</a>\u001b[0m     message_clsname\u001b[39m=\u001b[39;49m\u001b[39m\"\u001b[39;49m\u001b[39mPipeline\u001b[39;49m\u001b[39m\"\u001b[39;49m,\n\u001b[0;32m    <a href='file:///d%3A/ProgramFiles/Anoconda/envs/nursing-env/lib/site-packages/sklearn/pipeline.py?line=353'>354</a>\u001b[0m     message\u001b[39m=\u001b[39;49m\u001b[39mself\u001b[39;49m\u001b[39m.\u001b[39;49m_log_message(step_idx),\n\u001b[0;32m    <a href='file:///d%3A/ProgramFiles/Anoconda/envs/nursing-env/lib/site-packages/sklearn/pipeline.py?line=354'>355</a>\u001b[0m     \u001b[39m*\u001b[39;49m\u001b[39m*\u001b[39;49mfit_params_steps[name],\n\u001b[0;32m    <a href='file:///d%3A/ProgramFiles/Anoconda/envs/nursing-env/lib/site-packages/sklearn/pipeline.py?line=355'>356</a>\u001b[0m )\n\u001b[0;32m    <a href='file:///d%3A/ProgramFiles/Anoconda/envs/nursing-env/lib/site-packages/sklearn/pipeline.py?line=356'>357</a>\u001b[0m \u001b[39m# Replace the transformer of the step with the fitted\u001b[39;00m\n\u001b[0;32m    <a href='file:///d%3A/ProgramFiles/Anoconda/envs/nursing-env/lib/site-packages/sklearn/pipeline.py?line=357'>358</a>\u001b[0m \u001b[39m# transformer. This is necessary when loading the transformer\u001b[39;00m\n\u001b[0;32m    <a href='file:///d%3A/ProgramFiles/Anoconda/envs/nursing-env/lib/site-packages/sklearn/pipeline.py?line=358'>359</a>\u001b[0m \u001b[39m# from the cache.\u001b[39;00m\n\u001b[0;32m    <a href='file:///d%3A/ProgramFiles/Anoconda/envs/nursing-env/lib/site-packages/sklearn/pipeline.py?line=359'>360</a>\u001b[0m \u001b[39mself\u001b[39m\u001b[39m.\u001b[39msteps[step_idx] \u001b[39m=\u001b[39m (name, fitted_transformer)\n",
      "File \u001b[1;32mD:\\ProgramFiles\\Anoconda\\envs\\nursing-env\\lib\\site-packages\\joblib\\memory.py:349\u001b[0m, in \u001b[0;36mNotMemorizedFunc.__call__\u001b[1;34m(self, *args, **kwargs)\u001b[0m\n\u001b[0;32m    <a href='file:///d%3A/ProgramFiles/Anoconda/envs/nursing-env/lib/site-packages/joblib/memory.py?line=347'>348</a>\u001b[0m \u001b[39mdef\u001b[39;00m \u001b[39m__call__\u001b[39m(\u001b[39mself\u001b[39m, \u001b[39m*\u001b[39margs, \u001b[39m*\u001b[39m\u001b[39m*\u001b[39mkwargs):\n\u001b[1;32m--> <a href='file:///d%3A/ProgramFiles/Anoconda/envs/nursing-env/lib/site-packages/joblib/memory.py?line=348'>349</a>\u001b[0m     \u001b[39mreturn\u001b[39;00m \u001b[39mself\u001b[39;49m\u001b[39m.\u001b[39;49mfunc(\u001b[39m*\u001b[39;49margs, \u001b[39m*\u001b[39;49m\u001b[39m*\u001b[39;49mkwargs)\n",
      "File \u001b[1;32mD:\\ProgramFiles\\Anoconda\\envs\\nursing-env\\lib\\site-packages\\sklearn\\pipeline.py:893\u001b[0m, in \u001b[0;36m_fit_transform_one\u001b[1;34m(transformer, X, y, weight, message_clsname, message, **fit_params)\u001b[0m\n\u001b[0;32m    <a href='file:///d%3A/ProgramFiles/Anoconda/envs/nursing-env/lib/site-packages/sklearn/pipeline.py?line=890'>891</a>\u001b[0m \u001b[39mwith\u001b[39;00m _print_elapsed_time(message_clsname, message):\n\u001b[0;32m    <a href='file:///d%3A/ProgramFiles/Anoconda/envs/nursing-env/lib/site-packages/sklearn/pipeline.py?line=891'>892</a>\u001b[0m     \u001b[39mif\u001b[39;00m \u001b[39mhasattr\u001b[39m(transformer, \u001b[39m\"\u001b[39m\u001b[39mfit_transform\u001b[39m\u001b[39m\"\u001b[39m):\n\u001b[1;32m--> <a href='file:///d%3A/ProgramFiles/Anoconda/envs/nursing-env/lib/site-packages/sklearn/pipeline.py?line=892'>893</a>\u001b[0m         res \u001b[39m=\u001b[39m transformer\u001b[39m.\u001b[39;49mfit_transform(X, y, \u001b[39m*\u001b[39;49m\u001b[39m*\u001b[39;49mfit_params)\n\u001b[0;32m    <a href='file:///d%3A/ProgramFiles/Anoconda/envs/nursing-env/lib/site-packages/sklearn/pipeline.py?line=893'>894</a>\u001b[0m     \u001b[39melse\u001b[39;00m:\n\u001b[0;32m    <a href='file:///d%3A/ProgramFiles/Anoconda/envs/nursing-env/lib/site-packages/sklearn/pipeline.py?line=894'>895</a>\u001b[0m         res \u001b[39m=\u001b[39m transformer\u001b[39m.\u001b[39mfit(X, y, \u001b[39m*\u001b[39m\u001b[39m*\u001b[39mfit_params)\u001b[39m.\u001b[39mtransform(X)\n",
      "File \u001b[1;32mD:\\ProgramFiles\\Anoconda\\envs\\nursing-env\\lib\\site-packages\\sklearn\\base.py:855\u001b[0m, in \u001b[0;36mTransformerMixin.fit_transform\u001b[1;34m(self, X, y, **fit_params)\u001b[0m\n\u001b[0;32m    <a href='file:///d%3A/ProgramFiles/Anoconda/envs/nursing-env/lib/site-packages/sklearn/base.py?line=851'>852</a>\u001b[0m     \u001b[39mreturn\u001b[39;00m \u001b[39mself\u001b[39m\u001b[39m.\u001b[39mfit(X, \u001b[39m*\u001b[39m\u001b[39m*\u001b[39mfit_params)\u001b[39m.\u001b[39mtransform(X)\n\u001b[0;32m    <a href='file:///d%3A/ProgramFiles/Anoconda/envs/nursing-env/lib/site-packages/sklearn/base.py?line=852'>853</a>\u001b[0m \u001b[39melse\u001b[39;00m:\n\u001b[0;32m    <a href='file:///d%3A/ProgramFiles/Anoconda/envs/nursing-env/lib/site-packages/sklearn/base.py?line=853'>854</a>\u001b[0m     \u001b[39m# fit method of arity 2 (supervised transformation)\u001b[39;00m\n\u001b[1;32m--> <a href='file:///d%3A/ProgramFiles/Anoconda/envs/nursing-env/lib/site-packages/sklearn/base.py?line=854'>855</a>\u001b[0m     \u001b[39mreturn\u001b[39;00m \u001b[39mself\u001b[39;49m\u001b[39m.\u001b[39;49mfit(X, y, \u001b[39m*\u001b[39;49m\u001b[39m*\u001b[39;49mfit_params)\u001b[39m.\u001b[39mtransform(X)\n",
      "File \u001b[1;32md:\\CodeRepositories\\py_project\\data_mining\\DataMiningMid_Classification\\models\\sklearn_api\\w2vmodel.py:112\u001b[0m, in \u001b[0;36mW2VTransformer.fit\u001b[1;34m(self, X, y)\u001b[0m\n\u001b[0;32m     <a href='file:///d%3A/CodeRepositories/py_project/data_mining/DataMiningMid_Classification/models/sklearn_api/w2vmodel.py?line=97'>98</a>\u001b[0m \u001b[39mdef\u001b[39;00m \u001b[39mfit\u001b[39m(\u001b[39mself\u001b[39m, X, y\u001b[39m=\u001b[39m\u001b[39mNone\u001b[39;00m):\n\u001b[0;32m     <a href='file:///d%3A/CodeRepositories/py_project/data_mining/DataMiningMid_Classification/models/sklearn_api/w2vmodel.py?line=98'>99</a>\u001b[0m     \u001b[39m\"\"\"Fit the model according to the given training data.\u001b[39;00m\n\u001b[0;32m    <a href='file:///d%3A/CodeRepositories/py_project/data_mining/DataMiningMid_Classification/models/sklearn_api/w2vmodel.py?line=99'>100</a>\u001b[0m \u001b[39m    Parameters\u001b[39;00m\n\u001b[0;32m    <a href='file:///d%3A/CodeRepositories/py_project/data_mining/DataMiningMid_Classification/models/sklearn_api/w2vmodel.py?line=100'>101</a>\u001b[0m \u001b[39m    ----------\u001b[39;00m\n\u001b[1;32m   (...)\u001b[0m\n\u001b[0;32m    <a href='file:///d%3A/CodeRepositories/py_project/data_mining/DataMiningMid_Classification/models/sklearn_api/w2vmodel.py?line=109'>110</a>\u001b[0m \u001b[39m        The trained model.\u001b[39;00m\n\u001b[0;32m    <a href='file:///d%3A/CodeRepositories/py_project/data_mining/DataMiningMid_Classification/models/sklearn_api/w2vmodel.py?line=110'>111</a>\u001b[0m \u001b[39m    \"\"\"\u001b[39;00m\n\u001b[1;32m--> <a href='file:///d%3A/CodeRepositories/py_project/data_mining/DataMiningMid_Classification/models/sklearn_api/w2vmodel.py?line=111'>112</a>\u001b[0m     \u001b[39mself\u001b[39m\u001b[39m.\u001b[39mgensim_model \u001b[39m=\u001b[39m models\u001b[39m.\u001b[39;49mWord2Vec(\n\u001b[0;32m    <a href='file:///d%3A/CodeRepositories/py_project/data_mining/DataMiningMid_Classification/models/sklearn_api/w2vmodel.py?line=112'>113</a>\u001b[0m         sentences\u001b[39m=\u001b[39;49mX, size\u001b[39m=\u001b[39;49m\u001b[39mself\u001b[39;49m\u001b[39m.\u001b[39;49msize, alpha\u001b[39m=\u001b[39;49m\u001b[39mself\u001b[39;49m\u001b[39m.\u001b[39;49malpha,\n\u001b[0;32m    <a href='file:///d%3A/CodeRepositories/py_project/data_mining/DataMiningMid_Classification/models/sklearn_api/w2vmodel.py?line=113'>114</a>\u001b[0m         window\u001b[39m=\u001b[39;49m\u001b[39mself\u001b[39;49m\u001b[39m.\u001b[39;49mwindow, min_count\u001b[39m=\u001b[39;49m\u001b[39mself\u001b[39;49m\u001b[39m.\u001b[39;49mmin_count, max_vocab_size\u001b[39m=\u001b[39;49m\u001b[39mself\u001b[39;49m\u001b[39m.\u001b[39;49mmax_vocab_size,\n\u001b[0;32m    <a href='file:///d%3A/CodeRepositories/py_project/data_mining/DataMiningMid_Classification/models/sklearn_api/w2vmodel.py?line=114'>115</a>\u001b[0m         sample\u001b[39m=\u001b[39;49m\u001b[39mself\u001b[39;49m\u001b[39m.\u001b[39;49msample, seed\u001b[39m=\u001b[39;49m\u001b[39mself\u001b[39;49m\u001b[39m.\u001b[39;49mseed, workers\u001b[39m=\u001b[39;49m\u001b[39mself\u001b[39;49m\u001b[39m.\u001b[39;49mworkers, min_alpha\u001b[39m=\u001b[39;49m\u001b[39mself\u001b[39;49m\u001b[39m.\u001b[39;49mmin_alpha,\n\u001b[0;32m    <a href='file:///d%3A/CodeRepositories/py_project/data_mining/DataMiningMid_Classification/models/sklearn_api/w2vmodel.py?line=115'>116</a>\u001b[0m         sg\u001b[39m=\u001b[39;49m\u001b[39mself\u001b[39;49m\u001b[39m.\u001b[39;49msg, hs\u001b[39m=\u001b[39;49m\u001b[39mself\u001b[39;49m\u001b[39m.\u001b[39;49mhs, negative\u001b[39m=\u001b[39;49m\u001b[39mself\u001b[39;49m\u001b[39m.\u001b[39;49mnegative, cbow_mean\u001b[39m=\u001b[39;49m\u001b[39mself\u001b[39;49m\u001b[39m.\u001b[39;49mcbow_mean,\n\u001b[0;32m    <a href='file:///d%3A/CodeRepositories/py_project/data_mining/DataMiningMid_Classification/models/sklearn_api/w2vmodel.py?line=116'>117</a>\u001b[0m         hashfxn\u001b[39m=\u001b[39;49m\u001b[39mself\u001b[39;49m\u001b[39m.\u001b[39;49mhashfxn, \u001b[39miter\u001b[39;49m\u001b[39m=\u001b[39;49m\u001b[39mself\u001b[39;49m\u001b[39m.\u001b[39;49miter, null_word\u001b[39m=\u001b[39;49m\u001b[39mself\u001b[39;49m\u001b[39m.\u001b[39;49mnull_word, trim_rule\u001b[39m=\u001b[39;49m\u001b[39mself\u001b[39;49m\u001b[39m.\u001b[39;49mtrim_rule,\n\u001b[0;32m    <a href='file:///d%3A/CodeRepositories/py_project/data_mining/DataMiningMid_Classification/models/sklearn_api/w2vmodel.py?line=117'>118</a>\u001b[0m         sorted_vocab\u001b[39m=\u001b[39;49m\u001b[39mself\u001b[39;49m\u001b[39m.\u001b[39;49msorted_vocab, batch_words\u001b[39m=\u001b[39;49m\u001b[39mself\u001b[39;49m\u001b[39m.\u001b[39;49mbatch_words\n\u001b[0;32m    <a href='file:///d%3A/CodeRepositories/py_project/data_mining/DataMiningMid_Classification/models/sklearn_api/w2vmodel.py?line=118'>119</a>\u001b[0m     )\n\u001b[0;32m    <a href='file:///d%3A/CodeRepositories/py_project/data_mining/DataMiningMid_Classification/models/sklearn_api/w2vmodel.py?line=119'>120</a>\u001b[0m     \u001b[39mreturn\u001b[39;00m \u001b[39mself\u001b[39m\n",
      "\u001b[1;31mTypeError\u001b[0m: __init__() got an unexpected keyword argument 'size'"
     ]
    }
   ],
   "source": [
    "from sklearn.model_selection import RandomizedSearchCV\n",
    "from sklearn.metrics import accuracy_score\n",
    "from scipy.stats import randint, uniform\n",
    "\n",
    "cv = 3\n",
    "n_iter = 10\n",
    "random_state = 9527\n",
    "scoring = 'accuracy'\n",
    "\n",
    "w2v_params = {'w2v__window': randint(low=5, high=10)}\n",
    "\n",
    "xgb_params = {'xgb__max_depth': randint(low=3, high=12),\n",
    "              'xgb__colsample_bytree': uniform(loc=0.8, scale=0.2),\n",
    "              'xgb__subsample': uniform(loc=0.8, scale=0.2)}\n",
    "\n",
    "params={**w2v_params, **xgb_params}\n",
    "\n",
    "\n",
    "grid = RandomizedSearchCV(\n",
    "    estimator=xgb_model,\n",
    "    param_distributions=params,\n",
    "    cv=cv,\n",
    "    n_iter=n_iter,\n",
    "    n_jobs=-1,\n",
    "    verbose=1,\n",
    "    scoring=scoring,\n",
    "    random_state=random_state,\n",
    "    return_train_score=False\n",
    ").fit(x_train, y_train)\n",
    "\n",
    "y_test_pred = grid.predict(x_test)\n",
    "test_score = accuracy_score(y_test, y_test_pred)\n",
    "info = name, grid.best_score_, test_score, grid\n",
    "all_models_info.append(info)\n",
    "best_estimator = grid.best_estimator_\n",
    "print('best:', best_estimator, grid.best_score_)\n",
    "\n",
    "columns = ['model_name', 'train_score', 'test_score', 'estimator']\n",
    "results = pd.DataFrame(all_models_info, columns=columns)\n",
    "results = (results\n",
    "           .sort_values('test_score', ascending=False)\n",
    "           .reset_index(drop=True))\n",
    "results"
   ]
  },
  {
   "cell_type": "code",
   "execution_count": null,
   "metadata": {},
   "outputs": [],
   "source": [
    "display(df_all.head())"
   ]
  },
  {
   "cell_type": "markdown",
   "metadata": {},
   "source": [
    "### Saving Text&CSV"
   ]
  },
  {
   "cell_type": "code",
   "execution_count": null,
   "metadata": {},
   "outputs": [],
   "source": [
    "# df_p.i_df.to_csv(os.path.join(saving_dir, 'i_s_ask_ans.csv'), mode='a', columns=['ask'], index=False, header=False)\n",
    "# df_p.i_df.to_csv(os.path.join(saving_dir, 'i_s_ask_ans.csv'), mode='a', columns=['answer'], index=False, header=False)\n",
    "# df_p.s_df.to_csv(os.path.join(saving_dir, 'i_s_ask_ans.csv'), mode='a', columns=['ask'], index=False, header=False)\n",
    "# df_p.s_df.to_csv(os.path.join(saving_dir, 'i_s_ask_ans.csv'), mode='a', columns=['answer'], index=False, header=False)"
   ]
  },
  {
   "cell_type": "code",
   "execution_count": 4,
   "metadata": {},
   "outputs": [
    {
     "name": "stderr",
     "output_type": "stream",
     "text": [
      "Building prefix dict from the default dictionary ...\n",
      "Loading model from cache C:\\Users\\costco\\AppData\\Local\\Temp\\jieba.cache\n",
      "Loading model cost 0.751 seconds.\n",
      "Prefix dict has been built successfully.\n"
     ]
    },
    {
     "ename": "KeyboardInterrupt",
     "evalue": "",
     "output_type": "error",
     "traceback": [
      "\u001b[1;31m---------------------------------------------------------------------------\u001b[0m",
      "\u001b[1;31mKeyboardInterrupt\u001b[0m                         Traceback (most recent call last)",
      "\u001b[1;32md:\\CodeRepositories\\py_project\\data_mining\\DataMiningMid_Classification\\main.ipynb Cell 9'\u001b[0m in \u001b[0;36m<cell line: 1>\u001b[1;34m()\u001b[0m\n\u001b[1;32m----> <a href='vscode-notebook-cell:/d%3A/CodeRepositories/py_project/data_mining/DataMiningMid_Classification/main.ipynb#ch0000007?line=0'>1</a>\u001b[0m df_p\u001b[39m.\u001b[39mall_df[\u001b[39m'\u001b[39m\u001b[39mask_clean\u001b[39m\u001b[39m'\u001b[39m] \u001b[39m=\u001b[39m df_p\u001b[39m.\u001b[39;49mall_df[\u001b[39m'\u001b[39;49m\u001b[39mask\u001b[39;49m\u001b[39m'\u001b[39;49m]\u001b[39m.\u001b[39;49mapply(\n\u001b[0;32m      <a href='vscode-notebook-cell:/d%3A/CodeRepositories/py_project/data_mining/DataMiningMid_Classification/main.ipynb#ch0000007?line=1'>2</a>\u001b[0m     \u001b[39mlambda\u001b[39;49;00m x: ws\u001b[39m.\u001b[39;49mword_segment(x))\n",
      "File \u001b[1;32mD:\\ProgramFiles\\Anoconda\\envs\\nursing-env\\lib\\site-packages\\pandas\\core\\series.py:4433\u001b[0m, in \u001b[0;36mSeries.apply\u001b[1;34m(self, func, convert_dtype, args, **kwargs)\u001b[0m\n\u001b[0;32m   <a href='file:///d%3A/ProgramFiles/Anoconda/envs/nursing-env/lib/site-packages/pandas/core/series.py?line=4322'>4323</a>\u001b[0m \u001b[39mdef\u001b[39;00m \u001b[39mapply\u001b[39m(\n\u001b[0;32m   <a href='file:///d%3A/ProgramFiles/Anoconda/envs/nursing-env/lib/site-packages/pandas/core/series.py?line=4323'>4324</a>\u001b[0m     \u001b[39mself\u001b[39m,\n\u001b[0;32m   <a href='file:///d%3A/ProgramFiles/Anoconda/envs/nursing-env/lib/site-packages/pandas/core/series.py?line=4324'>4325</a>\u001b[0m     func: AggFuncType,\n\u001b[1;32m   (...)\u001b[0m\n\u001b[0;32m   <a href='file:///d%3A/ProgramFiles/Anoconda/envs/nursing-env/lib/site-packages/pandas/core/series.py?line=4327'>4328</a>\u001b[0m     \u001b[39m*\u001b[39m\u001b[39m*\u001b[39mkwargs,\n\u001b[0;32m   <a href='file:///d%3A/ProgramFiles/Anoconda/envs/nursing-env/lib/site-packages/pandas/core/series.py?line=4328'>4329</a>\u001b[0m ) \u001b[39m-\u001b[39m\u001b[39m>\u001b[39m DataFrame \u001b[39m|\u001b[39m Series:\n\u001b[0;32m   <a href='file:///d%3A/ProgramFiles/Anoconda/envs/nursing-env/lib/site-packages/pandas/core/series.py?line=4329'>4330</a>\u001b[0m     \u001b[39m\"\"\"\u001b[39;00m\n\u001b[0;32m   <a href='file:///d%3A/ProgramFiles/Anoconda/envs/nursing-env/lib/site-packages/pandas/core/series.py?line=4330'>4331</a>\u001b[0m \u001b[39m    Invoke function on values of Series.\u001b[39;00m\n\u001b[0;32m   <a href='file:///d%3A/ProgramFiles/Anoconda/envs/nursing-env/lib/site-packages/pandas/core/series.py?line=4331'>4332</a>\u001b[0m \n\u001b[1;32m   (...)\u001b[0m\n\u001b[0;32m   <a href='file:///d%3A/ProgramFiles/Anoconda/envs/nursing-env/lib/site-packages/pandas/core/series.py?line=4430'>4431</a>\u001b[0m \u001b[39m    dtype: float64\u001b[39;00m\n\u001b[0;32m   <a href='file:///d%3A/ProgramFiles/Anoconda/envs/nursing-env/lib/site-packages/pandas/core/series.py?line=4431'>4432</a>\u001b[0m \u001b[39m    \"\"\"\u001b[39;00m\n\u001b[1;32m-> <a href='file:///d%3A/ProgramFiles/Anoconda/envs/nursing-env/lib/site-packages/pandas/core/series.py?line=4432'>4433</a>\u001b[0m     \u001b[39mreturn\u001b[39;00m SeriesApply(\u001b[39mself\u001b[39;49m, func, convert_dtype, args, kwargs)\u001b[39m.\u001b[39;49mapply()\n",
      "File \u001b[1;32mD:\\ProgramFiles\\Anoconda\\envs\\nursing-env\\lib\\site-packages\\pandas\\core\\apply.py:1082\u001b[0m, in \u001b[0;36mSeriesApply.apply\u001b[1;34m(self)\u001b[0m\n\u001b[0;32m   <a href='file:///d%3A/ProgramFiles/Anoconda/envs/nursing-env/lib/site-packages/pandas/core/apply.py?line=1077'>1078</a>\u001b[0m \u001b[39mif\u001b[39;00m \u001b[39misinstance\u001b[39m(\u001b[39mself\u001b[39m\u001b[39m.\u001b[39mf, \u001b[39mstr\u001b[39m):\n\u001b[0;32m   <a href='file:///d%3A/ProgramFiles/Anoconda/envs/nursing-env/lib/site-packages/pandas/core/apply.py?line=1078'>1079</a>\u001b[0m     \u001b[39m# if we are a string, try to dispatch\u001b[39;00m\n\u001b[0;32m   <a href='file:///d%3A/ProgramFiles/Anoconda/envs/nursing-env/lib/site-packages/pandas/core/apply.py?line=1079'>1080</a>\u001b[0m     \u001b[39mreturn\u001b[39;00m \u001b[39mself\u001b[39m\u001b[39m.\u001b[39mapply_str()\n\u001b[1;32m-> <a href='file:///d%3A/ProgramFiles/Anoconda/envs/nursing-env/lib/site-packages/pandas/core/apply.py?line=1081'>1082</a>\u001b[0m \u001b[39mreturn\u001b[39;00m \u001b[39mself\u001b[39;49m\u001b[39m.\u001b[39;49mapply_standard()\n",
      "File \u001b[1;32mD:\\ProgramFiles\\Anoconda\\envs\\nursing-env\\lib\\site-packages\\pandas\\core\\apply.py:1137\u001b[0m, in \u001b[0;36mSeriesApply.apply_standard\u001b[1;34m(self)\u001b[0m\n\u001b[0;32m   <a href='file:///d%3A/ProgramFiles/Anoconda/envs/nursing-env/lib/site-packages/pandas/core/apply.py?line=1130'>1131</a>\u001b[0m         values \u001b[39m=\u001b[39m obj\u001b[39m.\u001b[39mastype(\u001b[39mobject\u001b[39m)\u001b[39m.\u001b[39m_values\n\u001b[0;32m   <a href='file:///d%3A/ProgramFiles/Anoconda/envs/nursing-env/lib/site-packages/pandas/core/apply.py?line=1131'>1132</a>\u001b[0m         \u001b[39m# error: Argument 2 to \"map_infer\" has incompatible type\u001b[39;00m\n\u001b[0;32m   <a href='file:///d%3A/ProgramFiles/Anoconda/envs/nursing-env/lib/site-packages/pandas/core/apply.py?line=1132'>1133</a>\u001b[0m         \u001b[39m# \"Union[Callable[..., Any], str, List[Union[Callable[..., Any], str]],\u001b[39;00m\n\u001b[0;32m   <a href='file:///d%3A/ProgramFiles/Anoconda/envs/nursing-env/lib/site-packages/pandas/core/apply.py?line=1133'>1134</a>\u001b[0m         \u001b[39m# Dict[Hashable, Union[Union[Callable[..., Any], str],\u001b[39;00m\n\u001b[0;32m   <a href='file:///d%3A/ProgramFiles/Anoconda/envs/nursing-env/lib/site-packages/pandas/core/apply.py?line=1134'>1135</a>\u001b[0m         \u001b[39m# List[Union[Callable[..., Any], str]]]]]\"; expected\u001b[39;00m\n\u001b[0;32m   <a href='file:///d%3A/ProgramFiles/Anoconda/envs/nursing-env/lib/site-packages/pandas/core/apply.py?line=1135'>1136</a>\u001b[0m         \u001b[39m# \"Callable[[Any], Any]\"\u001b[39;00m\n\u001b[1;32m-> <a href='file:///d%3A/ProgramFiles/Anoconda/envs/nursing-env/lib/site-packages/pandas/core/apply.py?line=1136'>1137</a>\u001b[0m         mapped \u001b[39m=\u001b[39m lib\u001b[39m.\u001b[39;49mmap_infer(\n\u001b[0;32m   <a href='file:///d%3A/ProgramFiles/Anoconda/envs/nursing-env/lib/site-packages/pandas/core/apply.py?line=1137'>1138</a>\u001b[0m             values,\n\u001b[0;32m   <a href='file:///d%3A/ProgramFiles/Anoconda/envs/nursing-env/lib/site-packages/pandas/core/apply.py?line=1138'>1139</a>\u001b[0m             f,  \u001b[39m# type: ignore[arg-type]\u001b[39;49;00m\n\u001b[0;32m   <a href='file:///d%3A/ProgramFiles/Anoconda/envs/nursing-env/lib/site-packages/pandas/core/apply.py?line=1139'>1140</a>\u001b[0m             convert\u001b[39m=\u001b[39;49m\u001b[39mself\u001b[39;49m\u001b[39m.\u001b[39;49mconvert_dtype,\n\u001b[0;32m   <a href='file:///d%3A/ProgramFiles/Anoconda/envs/nursing-env/lib/site-packages/pandas/core/apply.py?line=1140'>1141</a>\u001b[0m         )\n\u001b[0;32m   <a href='file:///d%3A/ProgramFiles/Anoconda/envs/nursing-env/lib/site-packages/pandas/core/apply.py?line=1142'>1143</a>\u001b[0m \u001b[39mif\u001b[39;00m \u001b[39mlen\u001b[39m(mapped) \u001b[39mand\u001b[39;00m \u001b[39misinstance\u001b[39m(mapped[\u001b[39m0\u001b[39m], ABCSeries):\n\u001b[0;32m   <a href='file:///d%3A/ProgramFiles/Anoconda/envs/nursing-env/lib/site-packages/pandas/core/apply.py?line=1143'>1144</a>\u001b[0m     \u001b[39m# GH#43986 Need to do list(mapped) in order to get treated as nested\u001b[39;00m\n\u001b[0;32m   <a href='file:///d%3A/ProgramFiles/Anoconda/envs/nursing-env/lib/site-packages/pandas/core/apply.py?line=1144'>1145</a>\u001b[0m     \u001b[39m#  See also GH#25959 regarding EA support\u001b[39;00m\n\u001b[0;32m   <a href='file:///d%3A/ProgramFiles/Anoconda/envs/nursing-env/lib/site-packages/pandas/core/apply.py?line=1145'>1146</a>\u001b[0m     \u001b[39mreturn\u001b[39;00m obj\u001b[39m.\u001b[39m_constructor_expanddim(\u001b[39mlist\u001b[39m(mapped), index\u001b[39m=\u001b[39mobj\u001b[39m.\u001b[39mindex)\n",
      "File \u001b[1;32mD:\\ProgramFiles\\Anoconda\\envs\\nursing-env\\lib\\site-packages\\pandas\\_libs\\lib.pyx:2870\u001b[0m, in \u001b[0;36mpandas._libs.lib.map_infer\u001b[1;34m()\u001b[0m\n",
      "\u001b[1;32md:\\CodeRepositories\\py_project\\data_mining\\DataMiningMid_Classification\\main.ipynb Cell 9'\u001b[0m in \u001b[0;36m<lambda>\u001b[1;34m(x)\u001b[0m\n\u001b[0;32m      <a href='vscode-notebook-cell:/d%3A/CodeRepositories/py_project/data_mining/DataMiningMid_Classification/main.ipynb#ch0000007?line=0'>1</a>\u001b[0m df_p\u001b[39m.\u001b[39mall_df[\u001b[39m'\u001b[39m\u001b[39mask_clean\u001b[39m\u001b[39m'\u001b[39m] \u001b[39m=\u001b[39m df_p\u001b[39m.\u001b[39mall_df[\u001b[39m'\u001b[39m\u001b[39mask\u001b[39m\u001b[39m'\u001b[39m]\u001b[39m.\u001b[39mapply(\n\u001b[1;32m----> <a href='vscode-notebook-cell:/d%3A/CodeRepositories/py_project/data_mining/DataMiningMid_Classification/main.ipynb#ch0000007?line=1'>2</a>\u001b[0m     \u001b[39mlambda\u001b[39;00m x: ws\u001b[39m.\u001b[39;49mword_segment(x))\n",
      "File \u001b[1;32md:\\CodeRepositories\\py_project\\data_mining\\DataMiningMid_Classification\\utils\\word_segment.py:29\u001b[0m, in \u001b[0;36mword_segment\u001b[1;34m(line)\u001b[0m\n\u001b[0;32m     <a href='file:///d%3A/CodeRepositories/py_project/data_mining/DataMiningMid_Classification/utils/word_segment.py?line=26'>27</a>\u001b[0m \u001b[39mdef\u001b[39;00m \u001b[39mword_segment\u001b[39m(line):\n\u001b[0;32m     <a href='file:///d%3A/CodeRepositories/py_project/data_mining/DataMiningMid_Classification/utils/word_segment.py?line=27'>28</a>\u001b[0m     seg_line \u001b[39m=\u001b[39m jieba\u001b[39m.\u001b[39mcut(line)\n\u001b[1;32m---> <a href='file:///d%3A/CodeRepositories/py_project/data_mining/DataMiningMid_Classification/utils/word_segment.py?line=28'>29</a>\u001b[0m     seg_line \u001b[39m=\u001b[39m _remove_stop_words(seg_line)\n\u001b[0;32m     <a href='file:///d%3A/CodeRepositories/py_project/data_mining/DataMiningMid_Classification/utils/word_segment.py?line=29'>30</a>\u001b[0m     \u001b[39mreturn\u001b[39;00m seg_line\n",
      "File \u001b[1;32md:\\CodeRepositories\\py_project\\data_mining\\DataMiningMid_Classification\\utils\\word_segment.py:20\u001b[0m, in \u001b[0;36m_remove_stop_words\u001b[1;34m(sentence)\u001b[0m\n\u001b[0;32m     <a href='file:///d%3A/CodeRepositories/py_project/data_mining/DataMiningMid_Classification/utils/word_segment.py?line=17'>18</a>\u001b[0m \u001b[39mdef\u001b[39;00m \u001b[39m_remove_stop_words\u001b[39m(sentence):\n\u001b[0;32m     <a href='file:///d%3A/CodeRepositories/py_project/data_mining/DataMiningMid_Classification/utils/word_segment.py?line=18'>19</a>\u001b[0m     result \u001b[39m=\u001b[39m \u001b[39m'\u001b[39m\u001b[39m'\u001b[39m\n\u001b[1;32m---> <a href='file:///d%3A/CodeRepositories/py_project/data_mining/DataMiningMid_Classification/utils/word_segment.py?line=19'>20</a>\u001b[0m     stopwords \u001b[39m=\u001b[39m get_baidu_stopwords()\n\u001b[0;32m     <a href='file:///d%3A/CodeRepositories/py_project/data_mining/DataMiningMid_Classification/utils/word_segment.py?line=20'>21</a>\u001b[0m     \u001b[39mfor\u001b[39;00m word \u001b[39min\u001b[39;00m sentence:\n\u001b[0;32m     <a href='file:///d%3A/CodeRepositories/py_project/data_mining/DataMiningMid_Classification/utils/word_segment.py?line=21'>22</a>\u001b[0m         \u001b[39mif\u001b[39;00m word \u001b[39mnot\u001b[39;00m \u001b[39min\u001b[39;00m stopwords:\n",
      "File \u001b[1;32mD:\\ProgramFiles\\Anoconda\\envs\\nursing-env\\lib\\site-packages\\harvesttext\\resources.py:45\u001b[0m, in \u001b[0;36mget_baidu_stopwords\u001b[1;34m()\u001b[0m\n\u001b[0;32m     <a href='file:///d%3A/ProgramFiles/Anoconda/envs/nursing-env/lib/site-packages/harvesttext/resources.py?line=42'>43</a>\u001b[0m \u001b[39mwith\u001b[39;00m \u001b[39mopen\u001b[39m(pwd \u001b[39m+\u001b[39m \u001b[39m\"\u001b[39m\u001b[39m/resources/bd_stopwords.json\u001b[39m\u001b[39m\"\u001b[39m, \u001b[39m\"\u001b[39m\u001b[39mr\u001b[39m\u001b[39m\"\u001b[39m, encoding\u001b[39m=\u001b[39m\u001b[39m\"\u001b[39m\u001b[39mutf-8\u001b[39m\u001b[39m\"\u001b[39m) \u001b[39mas\u001b[39;00m f:\n\u001b[0;32m     <a href='file:///d%3A/ProgramFiles/Anoconda/envs/nursing-env/lib/site-packages/harvesttext/resources.py?line=43'>44</a>\u001b[0m     stopwords \u001b[39m=\u001b[39m json\u001b[39m.\u001b[39mload(f)\n\u001b[1;32m---> <a href='file:///d%3A/ProgramFiles/Anoconda/envs/nursing-env/lib/site-packages/harvesttext/resources.py?line=44'>45</a>\u001b[0m \u001b[39mreturn\u001b[39;00m \u001b[39mset\u001b[39;49m(stopwords)\n",
      "\u001b[1;31mKeyboardInterrupt\u001b[0m: "
     ]
    }
   ],
   "source": [
    "\n"
   ]
  },
  {
   "cell_type": "code",
   "execution_count": null,
   "metadata": {},
   "outputs": [],
   "source": [
    "df_p.all_df['answer_clean'] = df_p.all_df['answer'].apply(\n",
    "    lambda x: ws.word_segment(x))"
   ]
  },
  {
   "cell_type": "code",
   "execution_count": null,
   "metadata": {},
   "outputs": [
    {
     "data": {
      "text/html": [
       "<div>\n",
       "<style scoped>\n",
       "    .dataframe tbody tr th:only-of-type {\n",
       "        vertical-align: middle;\n",
       "    }\n",
       "\n",
       "    .dataframe tbody tr th {\n",
       "        vertical-align: top;\n",
       "    }\n",
       "\n",
       "    .dataframe thead th {\n",
       "        text-align: right;\n",
       "    }\n",
       "</style>\n",
       "<table border=\"1\" class=\"dataframe\">\n",
       "  <thead>\n",
       "    <tr style=\"text-align: right;\">\n",
       "      <th></th>\n",
       "      <th>category</th>\n",
       "      <th>department</th>\n",
       "      <th>title</th>\n",
       "      <th>ask</th>\n",
       "      <th>answer</th>\n",
       "    </tr>\n",
       "  </thead>\n",
       "  <tbody>\n",
       "    <tr>\n",
       "      <th>0</th>\n",
       "      <td>內科</td>\n",
       "      <td>心血管科</td>\n",
       "      <td>高血压患者能吃党参吗？</td>\n",
       "      <td>我有高血压这两天女婿来的时候给我拿了些党参泡水喝，您好高血压可以吃党参吗？</td>\n",
       "      <td>高血压病人可以口服党参的。党参有降血脂，降血压的作用，可以彻底消除血液中的垃圾，从而对冠心病...</td>\n",
       "    </tr>\n",
       "    <tr>\n",
       "      <th>1</th>\n",
       "      <td>內科</td>\n",
       "      <td>心血管科</td>\n",
       "      <td>高血压该治疗什么？</td>\n",
       "      <td>我是一位中学教师，平时身体健康，最近学校组织健康检查，结果发觉我是高血压，去年还没有这种情况...</td>\n",
       "      <td>高血压患者首先要注意控制食盐摄入量，每天不超过六克，注意不要吃太油腻的食物，多吃新鲜的绿色蔬...</td>\n",
       "    </tr>\n",
       "    <tr>\n",
       "      <th>2</th>\n",
       "      <td>內科</td>\n",
       "      <td>心血管科</td>\n",
       "      <td>老年人高血压一般如何治疗？</td>\n",
       "      <td>我爷爷今年68了，年纪大了，高血压这些也领着来了，这些病让老人很痛苦，每次都要按时喝药，才能...</td>\n",
       "      <td>你爷爷患高血压，这是老年人常见的心血管病，血管老化硬化，血压调整能力消退了，目前治疗高血压最...</td>\n",
       "    </tr>\n",
       "    <tr>\n",
       "      <th>3</th>\n",
       "      <td>內科</td>\n",
       "      <td>内分泌科</td>\n",
       "      <td>糖尿病还会进行遗传吗？</td>\n",
       "      <td>糖尿病有隔代遗传吗？我妈是糖尿病，很多年了，也没养好，我现在也是，我妹子也是，我儿子现在二十...</td>\n",
       "      <td>2型糖尿病的隔代遗传概率为父母患糖尿病，临产的发生率为40%，比一般人患糖尿病，疾病，如何更...</td>\n",
       "    </tr>\n",
       "    <tr>\n",
       "      <th>4</th>\n",
       "      <td>內科</td>\n",
       "      <td>内分泌科</td>\n",
       "      <td>糖尿病一般需要怎么治疗？</td>\n",
       "      <td>我妈定期检查仔细检查的时候，仔细检查出患糖尿病，糖尿病需要有怎么治疗？我大概知晓是需要有控制...</td>\n",
       "      <td>糖尿病患者首先通过饮食控制和锻练运动，肥胖患者把体重降下来等方式调整一下看一看，如果血糖仍然...</td>\n",
       "    </tr>\n",
       "  </tbody>\n",
       "</table>\n",
       "</div>"
      ],
      "text/plain": [
       "  category department          title  \\\n",
       "0       內科       心血管科    高血压患者能吃党参吗？   \n",
       "1       內科       心血管科      高血压该治疗什么？   \n",
       "2       內科       心血管科  老年人高血压一般如何治疗？   \n",
       "3       內科       内分泌科    糖尿病还会进行遗传吗？   \n",
       "4       內科       内分泌科   糖尿病一般需要怎么治疗？   \n",
       "\n",
       "                                                 ask  \\\n",
       "0              我有高血压这两天女婿来的时候给我拿了些党参泡水喝，您好高血压可以吃党参吗？   \n",
       "1  我是一位中学教师，平时身体健康，最近学校组织健康检查，结果发觉我是高血压，去年还没有这种情况...   \n",
       "2  我爷爷今年68了，年纪大了，高血压这些也领着来了，这些病让老人很痛苦，每次都要按时喝药，才能...   \n",
       "3  糖尿病有隔代遗传吗？我妈是糖尿病，很多年了，也没养好，我现在也是，我妹子也是，我儿子现在二十...   \n",
       "4  我妈定期检查仔细检查的时候，仔细检查出患糖尿病，糖尿病需要有怎么治疗？我大概知晓是需要有控制...   \n",
       "\n",
       "                                              answer  \n",
       "0  高血压病人可以口服党参的。党参有降血脂，降血压的作用，可以彻底消除血液中的垃圾，从而对冠心病...  \n",
       "1  高血压患者首先要注意控制食盐摄入量，每天不超过六克，注意不要吃太油腻的食物，多吃新鲜的绿色蔬...  \n",
       "2  你爷爷患高血压，这是老年人常见的心血管病，血管老化硬化，血压调整能力消退了，目前治疗高血压最...  \n",
       "3  2型糖尿病的隔代遗传概率为父母患糖尿病，临产的发生率为40%，比一般人患糖尿病，疾病，如何更...  \n",
       "4  糖尿病患者首先通过饮食控制和锻练运动，肥胖患者把体重降下来等方式调整一下看一看，如果血糖仍然...  "
      ]
     },
     "metadata": {},
     "output_type": "display_data"
    }
   ],
   "source": [
    "display(df_p.all_df.head())"
   ]
  },
  {
   "cell_type": "markdown",
   "metadata": {},
   "source": [
    "### Main Method"
   ]
  },
  {
   "cell_type": "code",
   "execution_count": null,
   "metadata": {},
   "outputs": [],
   "source": []
  },
  {
   "cell_type": "markdown",
   "metadata": {},
   "source": []
  }
 ],
 "metadata": {
  "interpreter": {
   "hash": "fa89559b8019c6b8d86cbf7b237623aaefbbcd820bdcd84fbfac8728b8f219a1"
  },
  "kernelspec": {
   "display_name": "Python 3.8.12 ('nursing-env')",
   "language": "python",
   "name": "python3"
  },
  "language_info": {
   "codemirror_mode": {
    "name": "ipython",
    "version": 3
   },
   "file_extension": ".py",
   "mimetype": "text/x-python",
   "name": "python",
   "nbconvert_exporter": "python",
   "pygments_lexer": "ipython3",
   "version": "3.8.12"
  },
  "orig_nbformat": 4
 },
 "nbformat": 4,
 "nbformat_minor": 2
}
