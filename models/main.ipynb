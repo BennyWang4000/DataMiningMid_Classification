{
 "cells": [
  {
   "cell_type": "code",
   "execution_count": 12,
   "metadata": {},
   "outputs": [],
   "source": [
    "from utils.config import *\n",
    "import utils.df_processor as dfp\n",
    "import utils.word_segment as ws\n",
    "import gensim\n",
    "from IPython.display import display\n",
    "from sklearn.model_selection import train_test_split\n",
    "\n",
    "import pandas as pd\n",
    "import os\n",
    "saving_dir= 'D:\\\\CodeRepositories\\\\py_project\\\\data_mining\\\\DataMiningMid_Classification\\\\data'"
   ]
  },
  {
   "cell_type": "markdown",
   "metadata": {},
   "source": [
    "### Create Dataframe"
   ]
  },
  {
   "cell_type": "code",
   "execution_count": 3,
   "metadata": {},
   "outputs": [],
   "source": [
    "df_i = pd.read_csv(I_DATA_DIR, encoding=ENCODING)\n",
    "df_s = pd.read_csv(S_DATA_DIR, encoding=ENCODING)\n",
    "df_i.insert(0, 'category', '內科')\n",
    "df_s.insert(0, 'category', '外科')"
   ]
  },
  {
   "cell_type": "code",
   "execution_count": null,
   "metadata": {},
   "outputs": [],
   "source": [
    "display(df_i['department'].value_counts())\n",
    "display(df_s['department'].value_counts())"
   ]
  },
  {
   "cell_type": "code",
   "execution_count": 6,
   "metadata": {},
   "outputs": [],
   "source": [
    "df_all = pd.concat([df_i, df_s], ignore_index=True)"
   ]
  },
  {
   "cell_type": "markdown",
   "metadata": {},
   "source": [
    "### Remove Stop Words and Word Segment \n",
    "- ask: 9m 54.3s\n",
    "- ans:22m  2.3s"
   ]
  },
  {
   "cell_type": "code",
   "execution_count": 9,
   "metadata": {},
   "outputs": [],
   "source": [
    "df_all['answer_clean'] = df_all['answer'].apply(lambda x: ws.word_segment(x))\n",
    "df_all.to_csv(os.path.join(SAVING_DIR, 'df_all_2.csv'), index=False)"
   ]
  },
  {
   "cell_type": "code",
   "execution_count": 10,
   "metadata": {},
   "outputs": [
    {
     "data": {
      "text/html": [
       "<div>\n",
       "<style scoped>\n",
       "    .dataframe tbody tr th:only-of-type {\n",
       "        vertical-align: middle;\n",
       "    }\n",
       "\n",
       "    .dataframe tbody tr th {\n",
       "        vertical-align: top;\n",
       "    }\n",
       "\n",
       "    .dataframe thead th {\n",
       "        text-align: right;\n",
       "    }\n",
       "</style>\n",
       "<table border=\"1\" class=\"dataframe\">\n",
       "  <thead>\n",
       "    <tr style=\"text-align: right;\">\n",
       "      <th></th>\n",
       "      <th>category</th>\n",
       "      <th>department</th>\n",
       "      <th>title</th>\n",
       "      <th>ask</th>\n",
       "      <th>answer</th>\n",
       "      <th>ask_clean</th>\n",
       "      <th>answer_clean</th>\n",
       "    </tr>\n",
       "  </thead>\n",
       "  <tbody>\n",
       "    <tr>\n",
       "      <th>0</th>\n",
       "      <td>內科</td>\n",
       "      <td>心血管科</td>\n",
       "      <td>高血压患者能吃党参吗？</td>\n",
       "      <td>我有高血压这两天女婿来的时候给我拿了些党参泡水喝，您好高血压可以吃党参吗？</td>\n",
       "      <td>高血压病人可以口服党参的。党参有降血脂，降血压的作用，可以彻底消除血液中的垃圾，从而对冠心病...</td>\n",
       "      <td>高血压 两天 女婿 些 党参 泡水 喝 您好 高血压 吃 党参</td>\n",
       "      <td>高血压 病人 口服 党参 党参 降血脂 降血压 作用 彻底消除 血液 中 垃圾 冠心病 心血...</td>\n",
       "    </tr>\n",
       "    <tr>\n",
       "      <th>1</th>\n",
       "      <td>內科</td>\n",
       "      <td>心血管科</td>\n",
       "      <td>高血压该治疗什么？</td>\n",
       "      <td>我是一位中学教师，平时身体健康，最近学校组织健康检查，结果发觉我是高血压，去年还没有这种情况...</td>\n",
       "      <td>高血压患者首先要注意控制食盐摄入量，每天不超过六克，注意不要吃太油腻的食物，多吃新鲜的绿色蔬...</td>\n",
       "      <td>一位 中学教师 平时 身体健康 学校 组织 健康检查 发觉 高血压 去年 还 情况 很 担心...</td>\n",
       "      <td>高血压 患者 控制 食盐 摄入量 不 超过 六克 吃 太 油腻 食物 吃 新鲜 绿色 蔬菜水...</td>\n",
       "    </tr>\n",
       "    <tr>\n",
       "      <th>2</th>\n",
       "      <td>內科</td>\n",
       "      <td>心血管科</td>\n",
       "      <td>老年人高血压一般如何治疗？</td>\n",
       "      <td>我爷爷今年68了，年纪大了，高血压这些也领着来了，这些病让老人很痛苦，每次都要按时喝药，才能...</td>\n",
       "      <td>你爷爷患高血压，这是老年人常见的心血管病，血管老化硬化，血压调整能力消退了，目前治疗高血压最...</td>\n",
       "      <td>爷爷  年纪 大 高血压 领着 病 老人 很 痛苦 每次 都 按时 喝药 才能 控制 住 还...</td>\n",
       "      <td>爷爷 患 高血压 这是 老年人 常见 心血管病 血管 老化 硬化 血压 调整 能力 消退 治...</td>\n",
       "    </tr>\n",
       "    <tr>\n",
       "      <th>3</th>\n",
       "      <td>內科</td>\n",
       "      <td>内分泌科</td>\n",
       "      <td>糖尿病还会进行遗传吗？</td>\n",
       "      <td>糖尿病有隔代遗传吗？我妈是糖尿病，很多年了，也没养好，我现在也是，我妹子也是，我儿子现在二十...</td>\n",
       "      <td>2型糖尿病的隔代遗传概率为父母患糖尿病，临产的发生率为40%，比一般人患糖尿病，疾病，如何更...</td>\n",
       "      <td>糖尿病 隔代遗传  我妈 糖尿病 很多年 没养 好 妹子 儿子 二十岁 没什么 会 糖尿病 ...</td>\n",
       "      <td>型 糖尿病 隔代遗传 概率 父母 患 糖尿病 临产 发生率  人患 糖尿病 疾病 更 选择...</td>\n",
       "    </tr>\n",
       "    <tr>\n",
       "      <th>4</th>\n",
       "      <td>內科</td>\n",
       "      <td>内分泌科</td>\n",
       "      <td>糖尿病一般需要怎么治疗？</td>\n",
       "      <td>我妈定期检查仔细检查的时候，仔细检查出患糖尿病，糖尿病需要有怎么治疗？我大概知晓是需要有控制...</td>\n",
       "      <td>糖尿病患者首先通过饮食控制和锻练运动，肥胖患者把体重降下来等方式调整一下看一看，如果血糖仍然...</td>\n",
       "      <td>我妈 定期检查 仔细检查 仔细检查 出患 糖尿病 糖尿病 治疗  大概 知晓 控制 糖量 不...</td>\n",
       "      <td>糖尿病 患者 饮食 控制 锻练 运动 肥胖 患者 体重 降下来 方式 调整 看一看 血糖 偏...</td>\n",
       "    </tr>\n",
       "  </tbody>\n",
       "</table>\n",
       "</div>"
      ],
      "text/plain": [
       "  category department          title  \\\n",
       "0       內科       心血管科    高血压患者能吃党参吗？   \n",
       "1       內科       心血管科      高血压该治疗什么？   \n",
       "2       內科       心血管科  老年人高血压一般如何治疗？   \n",
       "3       內科       内分泌科    糖尿病还会进行遗传吗？   \n",
       "4       內科       内分泌科   糖尿病一般需要怎么治疗？   \n",
       "\n",
       "                                                 ask  \\\n",
       "0              我有高血压这两天女婿来的时候给我拿了些党参泡水喝，您好高血压可以吃党参吗？   \n",
       "1  我是一位中学教师，平时身体健康，最近学校组织健康检查，结果发觉我是高血压，去年还没有这种情况...   \n",
       "2  我爷爷今年68了，年纪大了，高血压这些也领着来了，这些病让老人很痛苦，每次都要按时喝药，才能...   \n",
       "3  糖尿病有隔代遗传吗？我妈是糖尿病，很多年了，也没养好，我现在也是，我妹子也是，我儿子现在二十...   \n",
       "4  我妈定期检查仔细检查的时候，仔细检查出患糖尿病，糖尿病需要有怎么治疗？我大概知晓是需要有控制...   \n",
       "\n",
       "                                              answer  \\\n",
       "0  高血压病人可以口服党参的。党参有降血脂，降血压的作用，可以彻底消除血液中的垃圾，从而对冠心病...   \n",
       "1  高血压患者首先要注意控制食盐摄入量，每天不超过六克，注意不要吃太油腻的食物，多吃新鲜的绿色蔬...   \n",
       "2  你爷爷患高血压，这是老年人常见的心血管病，血管老化硬化，血压调整能力消退了，目前治疗高血压最...   \n",
       "3  2型糖尿病的隔代遗传概率为父母患糖尿病，临产的发生率为40%，比一般人患糖尿病，疾病，如何更...   \n",
       "4  糖尿病患者首先通过饮食控制和锻练运动，肥胖患者把体重降下来等方式调整一下看一看，如果血糖仍然...   \n",
       "\n",
       "                                           ask_clean  \\\n",
       "0                  高血压 两天 女婿 些 党参 泡水 喝 您好 高血压 吃 党参     \n",
       "1  一位 中学教师 平时 身体健康 学校 组织 健康检查 发觉 高血压 去年 还 情况 很 担心...   \n",
       "2  爷爷  年纪 大 高血压 领着 病 老人 很 痛苦 每次 都 按时 喝药 才能 控制 住 还...   \n",
       "3  糖尿病 隔代遗传  我妈 糖尿病 很多年 没养 好 妹子 儿子 二十岁 没什么 会 糖尿病 ...   \n",
       "4  我妈 定期检查 仔细检查 仔细检查 出患 糖尿病 糖尿病 治疗  大概 知晓 控制 糖量 不...   \n",
       "\n",
       "                                        answer_clean  \n",
       "0  高血压 病人 口服 党参 党参 降血脂 降血压 作用 彻底消除 血液 中 垃圾 冠心病 心血...  \n",
       "1  高血压 患者 控制 食盐 摄入量 不 超过 六克 吃 太 油腻 食物 吃 新鲜 绿色 蔬菜水...  \n",
       "2  爷爷 患 高血压 这是 老年人 常见 心血管病 血管 老化 硬化 血压 调整 能力 消退 治...  \n",
       "3   型 糖尿病 隔代遗传 概率 父母 患 糖尿病 临产 发生率  人患 糖尿病 疾病 更 选择...  \n",
       "4  糖尿病 患者 饮食 控制 锻练 运动 肥胖 患者 体重 降下来 方式 调整 看一看 血糖 偏...  "
      ]
     },
     "metadata": {},
     "output_type": "display_data"
    }
   ],
   "source": [
    "display(df_all.head())"
   ]
  },
  {
   "cell_type": "code",
   "execution_count": 16,
   "metadata": {},
   "outputs": [],
   "source": [
    "X_train, X_test, Y_train, Y_test= train_test_split(df_all['ask_clean'], df_all['department'], test_size=0.2, shuffle=True)"
   ]
  },
  {
   "cell_type": "code",
   "execution_count": 20,
   "metadata": {},
   "outputs": [
    {
     "data": {
      "text/plain": [
       "228125    儿子 每次 哭闹 肚子 都 会 鼓起来 一个 包包 哭闹 越 厉害 鼓起来 越 厉害 小肠 ...\n",
       "177822                                            原发性 癫痫 治 \n",
       "234640    近上 厕所 拉稀 早上 上大厕 便 稀 用力 左上角 腹部 会 疼痛 下 轻按 感觉 请问 ...\n",
       "289073    患者 年龄  以往 诊断 治疗 效果  作 左 肾 开放式 取石 复发 至今 作 碎石 结石...\n",
       "253838     工作 原因 两条腿 上 血管 越来越 特别 难受 都 穿 裙子 请问 主动脉 夹层 转院 救治 \n",
       "Name: ask_clean, dtype: object"
      ]
     },
     "metadata": {},
     "output_type": "display_data"
    },
    {
     "data": {
      "text/plain": [
       "228125    普通外科\n",
       "177822     神经科\n",
       "234640      肛肠\n",
       "289073     泌尿科\n",
       "253838     血管科\n",
       "Name: department, dtype: object"
      ]
     },
     "metadata": {},
     "output_type": "display_data"
    }
   ],
   "source": [
    "display(X_train.head())\n",
    "\n",
    "display(Y_train.head())"
   ]
  },
  {
   "cell_type": "code",
   "execution_count": 22,
   "metadata": {},
   "outputs": [],
   "source": [
    "from sklearn.linear_model import LogisticRegression\n",
    "from sklearn.feature_extraction.text import TfidfVectorizer\n",
    "from sklearn.pipeline import Pipeline\n",
    " \n",
    "tfidf = TfidfVectorizer(analyzer=lambda x: x)\n",
    "logistic = LogisticRegression(solver='liblinear', multi_class='auto')\n",
    "\n",
    "tfidf_logistic = Pipeline([\n",
    "    ('tfidf', tfidf), \n",
    "    ('logistic', logistic)\n",
    "])"
   ]
  },
  {
   "cell_type": "code",
   "execution_count": 23,
   "metadata": {},
   "outputs": [],
   "source": [
    "from scipy.stats import randint, uniform\n",
    "\n",
    "# w2v_params = {'w2v__size': [100, 150, 200]}\n",
    "tfidf_params = {'tfidf__ngram_range': [(1, 1), (1, 2)]}\n",
    "logistic_params = {'logistic__C': [0.5, 1.0, 1.5]}\n",
    "# xgb_params = {'xgb__max_depth': randint(low=3, high=12),\n",
    "#               'xgb__colsample_bytree': uniform(loc=0.8, scale=0.2),\n",
    "#               'xgb__subsample': uniform(loc=0.8, scale=0.2)}\n",
    "\n",
    "tfidf_logistic_params = {**tfidf_params, **logistic_params}\n",
    "# w2v_xgb_params = {**w2v_params, **xgb_params}"
   ]
  },
  {
   "cell_type": "code",
   "execution_count": 24,
   "metadata": {},
   "outputs": [
    {
     "name": "stdout",
     "output_type": "stream",
     "text": [
      "training: tfidf_logistic\n",
      "Fitting 3 folds for each of 3 candidates, totalling 9 fits\n"
     ]
    },
    {
     "name": "stderr",
     "output_type": "stream",
     "text": [
      "D:\\ProgramFiles\\Anoconda\\envs\\nursing-env\\lib\\site-packages\\sklearn\\model_selection\\_split.py:676: UserWarning: The least populated class in y has only 1 members, which is less than n_splits=3.\n",
      "  warnings.warn(\n"
     ]
    },
    {
     "data": {
      "text/html": [
       "<div>\n",
       "<style scoped>\n",
       "    .dataframe tbody tr th:only-of-type {\n",
       "        vertical-align: middle;\n",
       "    }\n",
       "\n",
       "    .dataframe tbody tr th {\n",
       "        vertical-align: top;\n",
       "    }\n",
       "\n",
       "    .dataframe thead th {\n",
       "        text-align: right;\n",
       "    }\n",
       "</style>\n",
       "<table border=\"1\" class=\"dataframe\">\n",
       "  <thead>\n",
       "    <tr style=\"text-align: right;\">\n",
       "      <th></th>\n",
       "      <th>model_name</th>\n",
       "      <th>train_score</th>\n",
       "      <th>test_score</th>\n",
       "      <th>estimator</th>\n",
       "    </tr>\n",
       "  </thead>\n",
       "  <tbody>\n",
       "    <tr>\n",
       "      <th>0</th>\n",
       "      <td>tfidf_logistic</td>\n",
       "      <td>0.686857</td>\n",
       "      <td>0.68881</td>\n",
       "      <td>RandomizedSearchCV(cv=3,\\n                   e...</td>\n",
       "    </tr>\n",
       "  </tbody>\n",
       "</table>\n",
       "</div>"
      ],
      "text/plain": [
       "       model_name  train_score  test_score  \\\n",
       "0  tfidf_logistic     0.686857     0.68881   \n",
       "\n",
       "                                           estimator  \n",
       "0  RandomizedSearchCV(cv=3,\\n                   e...  "
      ]
     },
     "execution_count": 24,
     "metadata": {},
     "output_type": "execute_result"
    }
   ],
   "source": [
    "from sklearn.model_selection import RandomizedSearchCV\n",
    "from sklearn.metrics import accuracy_score\n",
    "\n",
    "cv = 3\n",
    "n_iter = 3\n",
    "random_state = 1234\n",
    "scoring = 'accuracy'\n",
    "\n",
    "all_models = [\n",
    "    ('tfidf_logistic', tfidf_logistic, tfidf_logistic_params)\n",
    "]\n",
    "\n",
    "all_models_info = []\n",
    "for name, model, params in all_models:\n",
    "    print('training:', name)\n",
    "    model_tuned = RandomizedSearchCV(\n",
    "        estimator=model,\n",
    "        param_distributions=params,\n",
    "        cv=cv,\n",
    "        n_iter=n_iter,\n",
    "        n_jobs=-1,\n",
    "        verbose=1,\n",
    "        scoring=scoring,\n",
    "        random_state=random_state,\n",
    "        return_train_score=False\n",
    "    ).fit(X_train, Y_train)\n",
    "    \n",
    "    Y_test_pred = model_tuned.predict(X_test)\n",
    "    test_score = accuracy_score(Y_test, Y_test_pred)\n",
    "    info = name, model_tuned.best_score_, test_score, model_tuned\n",
    "    all_models_info.append(info)\n",
    "\n",
    "columns = ['model_name', 'train_score', 'test_score', 'estimator']\n",
    "results = pd.DataFrame(all_models_info, columns=columns)\n",
    "results = (results\n",
    "           .sort_values('test_score', ascending=False)\n",
    "           .reset_index(drop=True))\n",
    "results"
   ]
  },
  {
   "cell_type": "code",
   "execution_count": null,
   "metadata": {},
   "outputs": [],
   "source": []
  },
  {
   "cell_type": "code",
   "execution_count": null,
   "metadata": {},
   "outputs": [],
   "source": [
    "from xgboost import XGBClassifier\n",
    "\n",
    "xgb= XGBClassifier(learning_rate= 0.01, n_estimators=100, n_jobs=-1)\n"
   ]
  },
  {
   "cell_type": "code",
   "execution_count": null,
   "metadata": {},
   "outputs": [],
   "source": [
    "display(df_all.head())"
   ]
  },
  {
   "cell_type": "markdown",
   "metadata": {},
   "source": [
    "### Saving Text&CSV"
   ]
  },
  {
   "cell_type": "code",
   "execution_count": null,
   "metadata": {},
   "outputs": [],
   "source": [
    "# df_p.i_df.to_csv(os.path.join(saving_dir, 'i_s_ask_ans.csv'), mode='a', columns=['ask'], index=False, header=False)\n",
    "# df_p.i_df.to_csv(os.path.join(saving_dir, 'i_s_ask_ans.csv'), mode='a', columns=['answer'], index=False, header=False)\n",
    "# df_p.s_df.to_csv(os.path.join(saving_dir, 'i_s_ask_ans.csv'), mode='a', columns=['ask'], index=False, header=False)\n",
    "# df_p.s_df.to_csv(os.path.join(saving_dir, 'i_s_ask_ans.csv'), mode='a', columns=['answer'], index=False, header=False)"
   ]
  },
  {
   "cell_type": "code",
   "execution_count": 4,
   "metadata": {},
   "outputs": [
    {
     "name": "stderr",
     "output_type": "stream",
     "text": [
      "Building prefix dict from the default dictionary ...\n",
      "Loading model from cache C:\\Users\\costco\\AppData\\Local\\Temp\\jieba.cache\n",
      "Loading model cost 0.751 seconds.\n",
      "Prefix dict has been built successfully.\n"
     ]
    },
    {
     "ename": "KeyboardInterrupt",
     "evalue": "",
     "output_type": "error",
     "traceback": [
      "\u001b[1;31m---------------------------------------------------------------------------\u001b[0m",
      "\u001b[1;31mKeyboardInterrupt\u001b[0m                         Traceback (most recent call last)",
      "\u001b[1;32md:\\CodeRepositories\\py_project\\data_mining\\DataMiningMid_Classification\\main.ipynb Cell 9'\u001b[0m in \u001b[0;36m<cell line: 1>\u001b[1;34m()\u001b[0m\n\u001b[1;32m----> <a href='vscode-notebook-cell:/d%3A/CodeRepositories/py_project/data_mining/DataMiningMid_Classification/main.ipynb#ch0000007?line=0'>1</a>\u001b[0m df_p\u001b[39m.\u001b[39mall_df[\u001b[39m'\u001b[39m\u001b[39mask_clean\u001b[39m\u001b[39m'\u001b[39m] \u001b[39m=\u001b[39m df_p\u001b[39m.\u001b[39;49mall_df[\u001b[39m'\u001b[39;49m\u001b[39mask\u001b[39;49m\u001b[39m'\u001b[39;49m]\u001b[39m.\u001b[39;49mapply(\n\u001b[0;32m      <a href='vscode-notebook-cell:/d%3A/CodeRepositories/py_project/data_mining/DataMiningMid_Classification/main.ipynb#ch0000007?line=1'>2</a>\u001b[0m     \u001b[39mlambda\u001b[39;49;00m x: ws\u001b[39m.\u001b[39;49mword_segment(x))\n",
      "File \u001b[1;32mD:\\ProgramFiles\\Anoconda\\envs\\nursing-env\\lib\\site-packages\\pandas\\core\\series.py:4433\u001b[0m, in \u001b[0;36mSeries.apply\u001b[1;34m(self, func, convert_dtype, args, **kwargs)\u001b[0m\n\u001b[0;32m   <a href='file:///d%3A/ProgramFiles/Anoconda/envs/nursing-env/lib/site-packages/pandas/core/series.py?line=4322'>4323</a>\u001b[0m \u001b[39mdef\u001b[39;00m \u001b[39mapply\u001b[39m(\n\u001b[0;32m   <a href='file:///d%3A/ProgramFiles/Anoconda/envs/nursing-env/lib/site-packages/pandas/core/series.py?line=4323'>4324</a>\u001b[0m     \u001b[39mself\u001b[39m,\n\u001b[0;32m   <a href='file:///d%3A/ProgramFiles/Anoconda/envs/nursing-env/lib/site-packages/pandas/core/series.py?line=4324'>4325</a>\u001b[0m     func: AggFuncType,\n\u001b[1;32m   (...)\u001b[0m\n\u001b[0;32m   <a href='file:///d%3A/ProgramFiles/Anoconda/envs/nursing-env/lib/site-packages/pandas/core/series.py?line=4327'>4328</a>\u001b[0m     \u001b[39m*\u001b[39m\u001b[39m*\u001b[39mkwargs,\n\u001b[0;32m   <a href='file:///d%3A/ProgramFiles/Anoconda/envs/nursing-env/lib/site-packages/pandas/core/series.py?line=4328'>4329</a>\u001b[0m ) \u001b[39m-\u001b[39m\u001b[39m>\u001b[39m DataFrame \u001b[39m|\u001b[39m Series:\n\u001b[0;32m   <a href='file:///d%3A/ProgramFiles/Anoconda/envs/nursing-env/lib/site-packages/pandas/core/series.py?line=4329'>4330</a>\u001b[0m     \u001b[39m\"\"\"\u001b[39;00m\n\u001b[0;32m   <a href='file:///d%3A/ProgramFiles/Anoconda/envs/nursing-env/lib/site-packages/pandas/core/series.py?line=4330'>4331</a>\u001b[0m \u001b[39m    Invoke function on values of Series.\u001b[39;00m\n\u001b[0;32m   <a href='file:///d%3A/ProgramFiles/Anoconda/envs/nursing-env/lib/site-packages/pandas/core/series.py?line=4331'>4332</a>\u001b[0m \n\u001b[1;32m   (...)\u001b[0m\n\u001b[0;32m   <a href='file:///d%3A/ProgramFiles/Anoconda/envs/nursing-env/lib/site-packages/pandas/core/series.py?line=4430'>4431</a>\u001b[0m \u001b[39m    dtype: float64\u001b[39;00m\n\u001b[0;32m   <a href='file:///d%3A/ProgramFiles/Anoconda/envs/nursing-env/lib/site-packages/pandas/core/series.py?line=4431'>4432</a>\u001b[0m \u001b[39m    \"\"\"\u001b[39;00m\n\u001b[1;32m-> <a href='file:///d%3A/ProgramFiles/Anoconda/envs/nursing-env/lib/site-packages/pandas/core/series.py?line=4432'>4433</a>\u001b[0m     \u001b[39mreturn\u001b[39;00m SeriesApply(\u001b[39mself\u001b[39;49m, func, convert_dtype, args, kwargs)\u001b[39m.\u001b[39;49mapply()\n",
      "File \u001b[1;32mD:\\ProgramFiles\\Anoconda\\envs\\nursing-env\\lib\\site-packages\\pandas\\core\\apply.py:1082\u001b[0m, in \u001b[0;36mSeriesApply.apply\u001b[1;34m(self)\u001b[0m\n\u001b[0;32m   <a href='file:///d%3A/ProgramFiles/Anoconda/envs/nursing-env/lib/site-packages/pandas/core/apply.py?line=1077'>1078</a>\u001b[0m \u001b[39mif\u001b[39;00m \u001b[39misinstance\u001b[39m(\u001b[39mself\u001b[39m\u001b[39m.\u001b[39mf, \u001b[39mstr\u001b[39m):\n\u001b[0;32m   <a href='file:///d%3A/ProgramFiles/Anoconda/envs/nursing-env/lib/site-packages/pandas/core/apply.py?line=1078'>1079</a>\u001b[0m     \u001b[39m# if we are a string, try to dispatch\u001b[39;00m\n\u001b[0;32m   <a href='file:///d%3A/ProgramFiles/Anoconda/envs/nursing-env/lib/site-packages/pandas/core/apply.py?line=1079'>1080</a>\u001b[0m     \u001b[39mreturn\u001b[39;00m \u001b[39mself\u001b[39m\u001b[39m.\u001b[39mapply_str()\n\u001b[1;32m-> <a href='file:///d%3A/ProgramFiles/Anoconda/envs/nursing-env/lib/site-packages/pandas/core/apply.py?line=1081'>1082</a>\u001b[0m \u001b[39mreturn\u001b[39;00m \u001b[39mself\u001b[39;49m\u001b[39m.\u001b[39;49mapply_standard()\n",
      "File \u001b[1;32mD:\\ProgramFiles\\Anoconda\\envs\\nursing-env\\lib\\site-packages\\pandas\\core\\apply.py:1137\u001b[0m, in \u001b[0;36mSeriesApply.apply_standard\u001b[1;34m(self)\u001b[0m\n\u001b[0;32m   <a href='file:///d%3A/ProgramFiles/Anoconda/envs/nursing-env/lib/site-packages/pandas/core/apply.py?line=1130'>1131</a>\u001b[0m         values \u001b[39m=\u001b[39m obj\u001b[39m.\u001b[39mastype(\u001b[39mobject\u001b[39m)\u001b[39m.\u001b[39m_values\n\u001b[0;32m   <a href='file:///d%3A/ProgramFiles/Anoconda/envs/nursing-env/lib/site-packages/pandas/core/apply.py?line=1131'>1132</a>\u001b[0m         \u001b[39m# error: Argument 2 to \"map_infer\" has incompatible type\u001b[39;00m\n\u001b[0;32m   <a href='file:///d%3A/ProgramFiles/Anoconda/envs/nursing-env/lib/site-packages/pandas/core/apply.py?line=1132'>1133</a>\u001b[0m         \u001b[39m# \"Union[Callable[..., Any], str, List[Union[Callable[..., Any], str]],\u001b[39;00m\n\u001b[0;32m   <a href='file:///d%3A/ProgramFiles/Anoconda/envs/nursing-env/lib/site-packages/pandas/core/apply.py?line=1133'>1134</a>\u001b[0m         \u001b[39m# Dict[Hashable, Union[Union[Callable[..., Any], str],\u001b[39;00m\n\u001b[0;32m   <a href='file:///d%3A/ProgramFiles/Anoconda/envs/nursing-env/lib/site-packages/pandas/core/apply.py?line=1134'>1135</a>\u001b[0m         \u001b[39m# List[Union[Callable[..., Any], str]]]]]\"; expected\u001b[39;00m\n\u001b[0;32m   <a href='file:///d%3A/ProgramFiles/Anoconda/envs/nursing-env/lib/site-packages/pandas/core/apply.py?line=1135'>1136</a>\u001b[0m         \u001b[39m# \"Callable[[Any], Any]\"\u001b[39;00m\n\u001b[1;32m-> <a href='file:///d%3A/ProgramFiles/Anoconda/envs/nursing-env/lib/site-packages/pandas/core/apply.py?line=1136'>1137</a>\u001b[0m         mapped \u001b[39m=\u001b[39m lib\u001b[39m.\u001b[39;49mmap_infer(\n\u001b[0;32m   <a href='file:///d%3A/ProgramFiles/Anoconda/envs/nursing-env/lib/site-packages/pandas/core/apply.py?line=1137'>1138</a>\u001b[0m             values,\n\u001b[0;32m   <a href='file:///d%3A/ProgramFiles/Anoconda/envs/nursing-env/lib/site-packages/pandas/core/apply.py?line=1138'>1139</a>\u001b[0m             f,  \u001b[39m# type: ignore[arg-type]\u001b[39;49;00m\n\u001b[0;32m   <a href='file:///d%3A/ProgramFiles/Anoconda/envs/nursing-env/lib/site-packages/pandas/core/apply.py?line=1139'>1140</a>\u001b[0m             convert\u001b[39m=\u001b[39;49m\u001b[39mself\u001b[39;49m\u001b[39m.\u001b[39;49mconvert_dtype,\n\u001b[0;32m   <a href='file:///d%3A/ProgramFiles/Anoconda/envs/nursing-env/lib/site-packages/pandas/core/apply.py?line=1140'>1141</a>\u001b[0m         )\n\u001b[0;32m   <a href='file:///d%3A/ProgramFiles/Anoconda/envs/nursing-env/lib/site-packages/pandas/core/apply.py?line=1142'>1143</a>\u001b[0m \u001b[39mif\u001b[39;00m \u001b[39mlen\u001b[39m(mapped) \u001b[39mand\u001b[39;00m \u001b[39misinstance\u001b[39m(mapped[\u001b[39m0\u001b[39m], ABCSeries):\n\u001b[0;32m   <a href='file:///d%3A/ProgramFiles/Anoconda/envs/nursing-env/lib/site-packages/pandas/core/apply.py?line=1143'>1144</a>\u001b[0m     \u001b[39m# GH#43986 Need to do list(mapped) in order to get treated as nested\u001b[39;00m\n\u001b[0;32m   <a href='file:///d%3A/ProgramFiles/Anoconda/envs/nursing-env/lib/site-packages/pandas/core/apply.py?line=1144'>1145</a>\u001b[0m     \u001b[39m#  See also GH#25959 regarding EA support\u001b[39;00m\n\u001b[0;32m   <a href='file:///d%3A/ProgramFiles/Anoconda/envs/nursing-env/lib/site-packages/pandas/core/apply.py?line=1145'>1146</a>\u001b[0m     \u001b[39mreturn\u001b[39;00m obj\u001b[39m.\u001b[39m_constructor_expanddim(\u001b[39mlist\u001b[39m(mapped), index\u001b[39m=\u001b[39mobj\u001b[39m.\u001b[39mindex)\n",
      "File \u001b[1;32mD:\\ProgramFiles\\Anoconda\\envs\\nursing-env\\lib\\site-packages\\pandas\\_libs\\lib.pyx:2870\u001b[0m, in \u001b[0;36mpandas._libs.lib.map_infer\u001b[1;34m()\u001b[0m\n",
      "\u001b[1;32md:\\CodeRepositories\\py_project\\data_mining\\DataMiningMid_Classification\\main.ipynb Cell 9'\u001b[0m in \u001b[0;36m<lambda>\u001b[1;34m(x)\u001b[0m\n\u001b[0;32m      <a href='vscode-notebook-cell:/d%3A/CodeRepositories/py_project/data_mining/DataMiningMid_Classification/main.ipynb#ch0000007?line=0'>1</a>\u001b[0m df_p\u001b[39m.\u001b[39mall_df[\u001b[39m'\u001b[39m\u001b[39mask_clean\u001b[39m\u001b[39m'\u001b[39m] \u001b[39m=\u001b[39m df_p\u001b[39m.\u001b[39mall_df[\u001b[39m'\u001b[39m\u001b[39mask\u001b[39m\u001b[39m'\u001b[39m]\u001b[39m.\u001b[39mapply(\n\u001b[1;32m----> <a href='vscode-notebook-cell:/d%3A/CodeRepositories/py_project/data_mining/DataMiningMid_Classification/main.ipynb#ch0000007?line=1'>2</a>\u001b[0m     \u001b[39mlambda\u001b[39;00m x: ws\u001b[39m.\u001b[39;49mword_segment(x))\n",
      "File \u001b[1;32md:\\CodeRepositories\\py_project\\data_mining\\DataMiningMid_Classification\\utils\\word_segment.py:29\u001b[0m, in \u001b[0;36mword_segment\u001b[1;34m(line)\u001b[0m\n\u001b[0;32m     <a href='file:///d%3A/CodeRepositories/py_project/data_mining/DataMiningMid_Classification/utils/word_segment.py?line=26'>27</a>\u001b[0m \u001b[39mdef\u001b[39;00m \u001b[39mword_segment\u001b[39m(line):\n\u001b[0;32m     <a href='file:///d%3A/CodeRepositories/py_project/data_mining/DataMiningMid_Classification/utils/word_segment.py?line=27'>28</a>\u001b[0m     seg_line \u001b[39m=\u001b[39m jieba\u001b[39m.\u001b[39mcut(line)\n\u001b[1;32m---> <a href='file:///d%3A/CodeRepositories/py_project/data_mining/DataMiningMid_Classification/utils/word_segment.py?line=28'>29</a>\u001b[0m     seg_line \u001b[39m=\u001b[39m _remove_stop_words(seg_line)\n\u001b[0;32m     <a href='file:///d%3A/CodeRepositories/py_project/data_mining/DataMiningMid_Classification/utils/word_segment.py?line=29'>30</a>\u001b[0m     \u001b[39mreturn\u001b[39;00m seg_line\n",
      "File \u001b[1;32md:\\CodeRepositories\\py_project\\data_mining\\DataMiningMid_Classification\\utils\\word_segment.py:20\u001b[0m, in \u001b[0;36m_remove_stop_words\u001b[1;34m(sentence)\u001b[0m\n\u001b[0;32m     <a href='file:///d%3A/CodeRepositories/py_project/data_mining/DataMiningMid_Classification/utils/word_segment.py?line=17'>18</a>\u001b[0m \u001b[39mdef\u001b[39;00m \u001b[39m_remove_stop_words\u001b[39m(sentence):\n\u001b[0;32m     <a href='file:///d%3A/CodeRepositories/py_project/data_mining/DataMiningMid_Classification/utils/word_segment.py?line=18'>19</a>\u001b[0m     result \u001b[39m=\u001b[39m \u001b[39m'\u001b[39m\u001b[39m'\u001b[39m\n\u001b[1;32m---> <a href='file:///d%3A/CodeRepositories/py_project/data_mining/DataMiningMid_Classification/utils/word_segment.py?line=19'>20</a>\u001b[0m     stopwords \u001b[39m=\u001b[39m get_baidu_stopwords()\n\u001b[0;32m     <a href='file:///d%3A/CodeRepositories/py_project/data_mining/DataMiningMid_Classification/utils/word_segment.py?line=20'>21</a>\u001b[0m     \u001b[39mfor\u001b[39;00m word \u001b[39min\u001b[39;00m sentence:\n\u001b[0;32m     <a href='file:///d%3A/CodeRepositories/py_project/data_mining/DataMiningMid_Classification/utils/word_segment.py?line=21'>22</a>\u001b[0m         \u001b[39mif\u001b[39;00m word \u001b[39mnot\u001b[39;00m \u001b[39min\u001b[39;00m stopwords:\n",
      "File \u001b[1;32mD:\\ProgramFiles\\Anoconda\\envs\\nursing-env\\lib\\site-packages\\harvesttext\\resources.py:45\u001b[0m, in \u001b[0;36mget_baidu_stopwords\u001b[1;34m()\u001b[0m\n\u001b[0;32m     <a href='file:///d%3A/ProgramFiles/Anoconda/envs/nursing-env/lib/site-packages/harvesttext/resources.py?line=42'>43</a>\u001b[0m \u001b[39mwith\u001b[39;00m \u001b[39mopen\u001b[39m(pwd \u001b[39m+\u001b[39m \u001b[39m\"\u001b[39m\u001b[39m/resources/bd_stopwords.json\u001b[39m\u001b[39m\"\u001b[39m, \u001b[39m\"\u001b[39m\u001b[39mr\u001b[39m\u001b[39m\"\u001b[39m, encoding\u001b[39m=\u001b[39m\u001b[39m\"\u001b[39m\u001b[39mutf-8\u001b[39m\u001b[39m\"\u001b[39m) \u001b[39mas\u001b[39;00m f:\n\u001b[0;32m     <a href='file:///d%3A/ProgramFiles/Anoconda/envs/nursing-env/lib/site-packages/harvesttext/resources.py?line=43'>44</a>\u001b[0m     stopwords \u001b[39m=\u001b[39m json\u001b[39m.\u001b[39mload(f)\n\u001b[1;32m---> <a href='file:///d%3A/ProgramFiles/Anoconda/envs/nursing-env/lib/site-packages/harvesttext/resources.py?line=44'>45</a>\u001b[0m \u001b[39mreturn\u001b[39;00m \u001b[39mset\u001b[39;49m(stopwords)\n",
      "\u001b[1;31mKeyboardInterrupt\u001b[0m: "
     ]
    }
   ],
   "source": [
    "\n"
   ]
  },
  {
   "cell_type": "code",
   "execution_count": null,
   "metadata": {},
   "outputs": [],
   "source": [
    "df_p.all_df['answer_clean'] = df_p.all_df['answer'].apply(\n",
    "    lambda x: ws.word_segment(x))"
   ]
  },
  {
   "cell_type": "code",
   "execution_count": null,
   "metadata": {},
   "outputs": [
    {
     "data": {
      "text/html": [
       "<div>\n",
       "<style scoped>\n",
       "    .dataframe tbody tr th:only-of-type {\n",
       "        vertical-align: middle;\n",
       "    }\n",
       "\n",
       "    .dataframe tbody tr th {\n",
       "        vertical-align: top;\n",
       "    }\n",
       "\n",
       "    .dataframe thead th {\n",
       "        text-align: right;\n",
       "    }\n",
       "</style>\n",
       "<table border=\"1\" class=\"dataframe\">\n",
       "  <thead>\n",
       "    <tr style=\"text-align: right;\">\n",
       "      <th></th>\n",
       "      <th>category</th>\n",
       "      <th>department</th>\n",
       "      <th>title</th>\n",
       "      <th>ask</th>\n",
       "      <th>answer</th>\n",
       "    </tr>\n",
       "  </thead>\n",
       "  <tbody>\n",
       "    <tr>\n",
       "      <th>0</th>\n",
       "      <td>內科</td>\n",
       "      <td>心血管科</td>\n",
       "      <td>高血压患者能吃党参吗？</td>\n",
       "      <td>我有高血压这两天女婿来的时候给我拿了些党参泡水喝，您好高血压可以吃党参吗？</td>\n",
       "      <td>高血压病人可以口服党参的。党参有降血脂，降血压的作用，可以彻底消除血液中的垃圾，从而对冠心病...</td>\n",
       "    </tr>\n",
       "    <tr>\n",
       "      <th>1</th>\n",
       "      <td>內科</td>\n",
       "      <td>心血管科</td>\n",
       "      <td>高血压该治疗什么？</td>\n",
       "      <td>我是一位中学教师，平时身体健康，最近学校组织健康检查，结果发觉我是高血压，去年还没有这种情况...</td>\n",
       "      <td>高血压患者首先要注意控制食盐摄入量，每天不超过六克，注意不要吃太油腻的食物，多吃新鲜的绿色蔬...</td>\n",
       "    </tr>\n",
       "    <tr>\n",
       "      <th>2</th>\n",
       "      <td>內科</td>\n",
       "      <td>心血管科</td>\n",
       "      <td>老年人高血压一般如何治疗？</td>\n",
       "      <td>我爷爷今年68了，年纪大了，高血压这些也领着来了，这些病让老人很痛苦，每次都要按时喝药，才能...</td>\n",
       "      <td>你爷爷患高血压，这是老年人常见的心血管病，血管老化硬化，血压调整能力消退了，目前治疗高血压最...</td>\n",
       "    </tr>\n",
       "    <tr>\n",
       "      <th>3</th>\n",
       "      <td>內科</td>\n",
       "      <td>内分泌科</td>\n",
       "      <td>糖尿病还会进行遗传吗？</td>\n",
       "      <td>糖尿病有隔代遗传吗？我妈是糖尿病，很多年了，也没养好，我现在也是，我妹子也是，我儿子现在二十...</td>\n",
       "      <td>2型糖尿病的隔代遗传概率为父母患糖尿病，临产的发生率为40%，比一般人患糖尿病，疾病，如何更...</td>\n",
       "    </tr>\n",
       "    <tr>\n",
       "      <th>4</th>\n",
       "      <td>內科</td>\n",
       "      <td>内分泌科</td>\n",
       "      <td>糖尿病一般需要怎么治疗？</td>\n",
       "      <td>我妈定期检查仔细检查的时候，仔细检查出患糖尿病，糖尿病需要有怎么治疗？我大概知晓是需要有控制...</td>\n",
       "      <td>糖尿病患者首先通过饮食控制和锻练运动，肥胖患者把体重降下来等方式调整一下看一看，如果血糖仍然...</td>\n",
       "    </tr>\n",
       "  </tbody>\n",
       "</table>\n",
       "</div>"
      ],
      "text/plain": [
       "  category department          title  \\\n",
       "0       內科       心血管科    高血压患者能吃党参吗？   \n",
       "1       內科       心血管科      高血压该治疗什么？   \n",
       "2       內科       心血管科  老年人高血压一般如何治疗？   \n",
       "3       內科       内分泌科    糖尿病还会进行遗传吗？   \n",
       "4       內科       内分泌科   糖尿病一般需要怎么治疗？   \n",
       "\n",
       "                                                 ask  \\\n",
       "0              我有高血压这两天女婿来的时候给我拿了些党参泡水喝，您好高血压可以吃党参吗？   \n",
       "1  我是一位中学教师，平时身体健康，最近学校组织健康检查，结果发觉我是高血压，去年还没有这种情况...   \n",
       "2  我爷爷今年68了，年纪大了，高血压这些也领着来了，这些病让老人很痛苦，每次都要按时喝药，才能...   \n",
       "3  糖尿病有隔代遗传吗？我妈是糖尿病，很多年了，也没养好，我现在也是，我妹子也是，我儿子现在二十...   \n",
       "4  我妈定期检查仔细检查的时候，仔细检查出患糖尿病，糖尿病需要有怎么治疗？我大概知晓是需要有控制...   \n",
       "\n",
       "                                              answer  \n",
       "0  高血压病人可以口服党参的。党参有降血脂，降血压的作用，可以彻底消除血液中的垃圾，从而对冠心病...  \n",
       "1  高血压患者首先要注意控制食盐摄入量，每天不超过六克，注意不要吃太油腻的食物，多吃新鲜的绿色蔬...  \n",
       "2  你爷爷患高血压，这是老年人常见的心血管病，血管老化硬化，血压调整能力消退了，目前治疗高血压最...  \n",
       "3  2型糖尿病的隔代遗传概率为父母患糖尿病，临产的发生率为40%，比一般人患糖尿病，疾病，如何更...  \n",
       "4  糖尿病患者首先通过饮食控制和锻练运动，肥胖患者把体重降下来等方式调整一下看一看，如果血糖仍然...  "
      ]
     },
     "metadata": {},
     "output_type": "display_data"
    }
   ],
   "source": [
    "display(df_p.all_df.head())"
   ]
  },
  {
   "cell_type": "markdown",
   "metadata": {},
   "source": [
    "### Main Method"
   ]
  },
  {
   "cell_type": "code",
   "execution_count": null,
   "metadata": {},
   "outputs": [],
   "source": []
  },
  {
   "cell_type": "markdown",
   "metadata": {},
   "source": []
  }
 ],
 "metadata": {
  "interpreter": {
   "hash": "fa89559b8019c6b8d86cbf7b237623aaefbbcd820bdcd84fbfac8728b8f219a1"
  },
  "kernelspec": {
   "display_name": "Python 3.8.12 ('nursing-env')",
   "language": "python",
   "name": "python3"
  },
  "language_info": {
   "codemirror_mode": {
    "name": "ipython",
    "version": 3
   },
   "file_extension": ".py",
   "mimetype": "text/x-python",
   "name": "python",
   "nbconvert_exporter": "python",
   "pygments_lexer": "ipython3",
   "version": "3.8.12"
  },
  "orig_nbformat": 4
 },
 "nbformat": 4,
 "nbformat_minor": 2
}
